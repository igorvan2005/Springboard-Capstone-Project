{
 "cells": [
  {
   "cell_type": "code",
   "execution_count": 88,
   "metadata": {
    "collapsed": false
   },
   "outputs": [
    {
     "data": {
      "text/html": [
       "<style>body {\n",
       "    margin: 0;\n",
       "    font-family: Helvetica;\n",
       "}\n",
       "table.dataframe {\n",
       "    border-collapse: collapse;\n",
       "    border: none;\n",
       "}\n",
       "table.dataframe tr {\n",
       "    border: none;\n",
       "}\n",
       "table.dataframe td, table.dataframe th {\n",
       "    margin: 0;\n",
       "    border: 1px solid white;\n",
       "    padding-left: 0.25em;\n",
       "    padding-right: 0.25em;\n",
       "}\n",
       "table.dataframe th:not(:empty) {\n",
       "    background-color: #fec;\n",
       "    text-align: left;\n",
       "    font-weight: normal;\n",
       "}\n",
       "table.dataframe tr:nth-child(2) th:empty {\n",
       "    border-left: none;\n",
       "    border-right: 1px dashed #888;\n",
       "}\n",
       "table.dataframe td {\n",
       "    border: 2px solid #ccf;\n",
       "    background-color: #f4f4ff;\n",
       "}\n",
       "h3 {\n",
       "    color: white;\n",
       "    background-color: black;\n",
       "    padding: 0.5em;\n",
       "}\n",
       "</style>"
      ],
      "text/plain": [
       "<IPython.core.display.HTML object>"
      ]
     },
     "execution_count": 88,
     "metadata": {},
     "output_type": "execute_result"
    }
   ],
   "source": [
    "%matplotlib inline\n",
    "import pandas as pd\n",
    "import matplotlib.pyplot as plt\n",
    "import seaborn as sns\n",
    "sns.set_context(rc={\"figure.figsize\": (6,3)})\n",
    "import scipy.stats as stats\n",
    "import sklearn\n",
    "import inspect\n",
    "import numpy as np\n",
    "import os\n",
    "\n",
    "os.chdir(r'C:\\Users\\Igor\\Jupyter_Notebook_Projects\\Capstone project')\n",
    "\n",
    "from IPython.core.display import HTML\n",
    "css = open('style-table.css').read() + open('style-notebook.css').read()\n",
    "HTML('<style>{}</style>'.format(css))"
   ]
  },
  {
   "cell_type": "code",
   "execution_count": 89,
   "metadata": {
    "collapsed": true
   },
   "outputs": [],
   "source": [
    "# Importing CVD and RF data into a dataframe\n",
    "df = pd.DataFrame.from_csv('Risk_Factors_CVD.csv', index_col=None)"
   ]
  },
  {
   "cell_type": "code",
   "execution_count": 90,
   "metadata": {
    "collapsed": true
   },
   "outputs": [],
   "source": [
    "## Cleaning data:\n",
    "# Removing repetitive age categories as well as 18-24 group (null values for many factors)\n",
    "# Removing 'Nutrition' topic (controversial)\n",
    "# Removing 'Overall' break out and average US LocationID rows\n",
    "# Selecting year - 2013 data set is most informative\n",
    "# Removing Washington, DC (outlier, not a good representation)\n",
    "# Removing 'Non-Hispanic Asian' group (not complete)\n",
    "a = df.Break_out != '35+'\n",
    "b = df.Break_out != '75+'\n",
    "c = df.Break_out != '20-24'\n",
    "d = df.Break_out != '18-24'\n",
    "e = df.Break_out != 'Overall'\n",
    "f = df.Break_out != 'Non-Hispanic Asian'\n",
    "g = df.LocationAbbr != 'DC'\n",
    "h = df.Year == 2013\n",
    "i = df.LocationID != 0.5\n",
    "j = df.Topic != 'Nutrition'\n",
    "\n",
    "df1 = df[(a) & (b) & (c) & (d) & (e) & (f) & (g) & (h) & (i) & (j)] # creating a new df1"
   ]
  },
  {
   "cell_type": "code",
   "execution_count": 91,
   "metadata": {
    "collapsed": false
   },
   "outputs": [
    {
     "name": "stderr",
     "output_type": "stream",
     "text": [
      "C:\\Users\\Igor\\Anaconda3\\lib\\site-packages\\ipykernel\\__main__.py:5: UserWarning: Boolean Series key will be reindexed to match DataFrame index.\n"
     ]
    }
   ],
   "source": [
    "## Cleaning data:\n",
    "# Removing repetitive indicators and creating new df2\n",
    "list = ('post-hospitalization', 'Objective 6', 'Objective 7', 'screening', 'Objective 5', 'Objective 11', 'hypertension medication', 'Objective 8', 'Objective 9')\n",
    "\n",
    "df2 = df1[~df.Indicator.str.contains('|'.join(list))]"
   ]
  },
  {
   "cell_type": "code",
   "execution_count": 92,
   "metadata": {
    "collapsed": true
   },
   "outputs": [],
   "source": [
    "## Cleaning data:\n",
    "# Removing rows with null prevalence values and creating new df3\n",
    "df3 = df2.dropna(subset=['Data_Value'])"
   ]
  },
  {
   "cell_type": "code",
   "execution_count": 93,
   "metadata": {
    "collapsed": false
   },
   "outputs": [],
   "source": [
    "# Renaming a few topics\n",
    "df3 = df3.replace('Acute Myocardial Infarction (Heart Attack)', 'Heart_attack')\n",
    "df3 = df3.replace('Coronary Heart Disease', 'CHD')\n",
    "df3 = df3.replace('Physical Inactivity', 'Phys_inact')\n",
    "df3 = df3.replace('Cholesterol Abnormalities', 'Cholesterol')"
   ]
  },
  {
   "cell_type": "code",
   "execution_count": 94,
   "metadata": {
    "collapsed": false
   },
   "outputs": [
    {
     "data": {
      "text/html": [
       "<div>\n",
       "<table border=\"1\" class=\"dataframe\">\n",
       "  <thead>\n",
       "    <tr style=\"text-align: right;\">\n",
       "      <th></th>\n",
       "      <th>LocationID</th>\n",
       "      <th>LocationDesc</th>\n",
       "      <th>GDP_2012</th>\n",
       "      <th>Healthcare_spending_2009</th>\n",
       "      <th>Bachelor_degree</th>\n",
       "      <th>Advanced_degree</th>\n",
       "      <th>Median_household_income_2014</th>\n",
       "      <th>Average_annual_Temp_C</th>\n",
       "    </tr>\n",
       "  </thead>\n",
       "  <tbody>\n",
       "    <tr>\n",
       "      <th>0</th>\n",
       "      <td>1</td>\n",
       "      <td>Alabama</td>\n",
       "      <td>32615</td>\n",
       "      <td>6271.67</td>\n",
       "      <td>0.235</td>\n",
       "      <td>0.087</td>\n",
       "      <td>41415</td>\n",
       "      <td>17.1</td>\n",
       "    </tr>\n",
       "    <tr>\n",
       "      <th>1</th>\n",
       "      <td>2</td>\n",
       "      <td>Alaska</td>\n",
       "      <td>61156</td>\n",
       "      <td>9127.65</td>\n",
       "      <td>0.280</td>\n",
       "      <td>0.110</td>\n",
       "      <td>60287</td>\n",
       "      <td>-3.0</td>\n",
       "    </tr>\n",
       "    <tr>\n",
       "      <th>2</th>\n",
       "      <td>4</td>\n",
       "      <td>Arizona</td>\n",
       "      <td>35195</td>\n",
       "      <td>5433.89</td>\n",
       "      <td>0.275</td>\n",
       "      <td>0.102</td>\n",
       "      <td>46709</td>\n",
       "      <td>15.7</td>\n",
       "    </tr>\n",
       "    <tr>\n",
       "      <th>3</th>\n",
       "      <td>5</td>\n",
       "      <td>Arkansas</td>\n",
       "      <td>31837</td>\n",
       "      <td>6166.94</td>\n",
       "      <td>0.211</td>\n",
       "      <td>0.075</td>\n",
       "      <td>38758</td>\n",
       "      <td>15.8</td>\n",
       "    </tr>\n",
       "    <tr>\n",
       "      <th>4</th>\n",
       "      <td>6</td>\n",
       "      <td>California</td>\n",
       "      <td>46029</td>\n",
       "      <td>6237.61</td>\n",
       "      <td>0.314</td>\n",
       "      <td>0.116</td>\n",
       "      <td>67458</td>\n",
       "      <td>15.2</td>\n",
       "    </tr>\n",
       "  </tbody>\n",
       "</table>\n",
       "</div>"
      ],
      "text/plain": [
       "   LocationID LocationDesc  GDP_2012  Healthcare_spending_2009  \\\n",
       "0           1      Alabama     32615                   6271.67   \n",
       "1           2       Alaska     61156                   9127.65   \n",
       "2           4      Arizona     35195                   5433.89   \n",
       "3           5     Arkansas     31837                   6166.94   \n",
       "4           6   California     46029                   6237.61   \n",
       "\n",
       "   Bachelor_degree  Advanced_degree  Median_household_income_2014  \\\n",
       "0            0.235            0.087                         41415   \n",
       "1            0.280            0.110                         60287   \n",
       "2            0.275            0.102                         46709   \n",
       "3            0.211            0.075                         38758   \n",
       "4            0.314            0.116                         67458   \n",
       "\n",
       "   Average_annual_Temp_C  \n",
       "0                   17.1  \n",
       "1                   -3.0  \n",
       "2                   15.7  \n",
       "3                   15.8  \n",
       "4                   15.2  "
      ]
     },
     "execution_count": 94,
     "metadata": {},
     "output_type": "execute_result"
    }
   ],
   "source": [
    "# Importing US states socioeconomic data (excluding Washingon, DC) from a csv file to a dataframe\n",
    "df_us = pd.DataFrame.from_csv('USA_info_excl_DC.csv', index_col=None, encoding='cp1252')\n",
    "df_us.head(5)"
   ]
  },
  {
   "cell_type": "code",
   "execution_count": 95,
   "metadata": {
    "collapsed": false
   },
   "outputs": [],
   "source": [
    "# Creating new dataframes for RF and CVD including location ID, which is to be used as a key for merging\n",
    "# Grouping by state and calculating mean combined prevalence values for each state\n",
    "rf = df3[(df3.Category == 'Risk Factors')][['LocationID', 'Topic', 'Data_Value']].groupby(['LocationID', 'Topic']).mean()\n",
    "rf = rf.unstack('Topic')['Data_Value'].reset_index()\n",
    "cvd = df3[df3.Category == 'Cardiovascular Diseases'][['LocationID', 'Topic', 'Data_Value']].groupby(['LocationID', 'Topic']).mean()\n",
    "cvd = cvd.unstack('Topic')['Data_Value'].reset_index()"
   ]
  },
  {
   "cell_type": "code",
   "execution_count": 96,
   "metadata": {
    "collapsed": false
   },
   "outputs": [
    {
     "data": {
      "text/html": [
       "<div>\n",
       "<table border=\"1\" class=\"dataframe\">\n",
       "  <thead>\n",
       "    <tr style=\"text-align: right;\">\n",
       "      <th>Topic</th>\n",
       "      <th>LocationID</th>\n",
       "      <th>CHD</th>\n",
       "      <th>Heart_attack</th>\n",
       "      <th>Stroke</th>\n",
       "    </tr>\n",
       "  </thead>\n",
       "  <tbody>\n",
       "    <tr>\n",
       "      <th>0</th>\n",
       "      <td>1.0</td>\n",
       "      <td>6.666667</td>\n",
       "      <td>7.216667</td>\n",
       "      <td>5.214286</td>\n",
       "    </tr>\n",
       "    <tr>\n",
       "      <th>1</th>\n",
       "      <td>2.0</td>\n",
       "      <td>5.066667</td>\n",
       "      <td>4.933333</td>\n",
       "      <td>3.700000</td>\n",
       "    </tr>\n",
       "    <tr>\n",
       "      <th>2</th>\n",
       "      <td>4.0</td>\n",
       "      <td>5.460000</td>\n",
       "      <td>5.300000</td>\n",
       "      <td>3.720000</td>\n",
       "    </tr>\n",
       "    <tr>\n",
       "      <th>3</th>\n",
       "      <td>5.0</td>\n",
       "      <td>7.357143</td>\n",
       "      <td>6.383333</td>\n",
       "      <td>5.771429</td>\n",
       "    </tr>\n",
       "    <tr>\n",
       "      <th>4</th>\n",
       "      <td>6.0</td>\n",
       "      <td>3.537500</td>\n",
       "      <td>4.033333</td>\n",
       "      <td>2.644444</td>\n",
       "    </tr>\n",
       "  </tbody>\n",
       "</table>\n",
       "</div>"
      ],
      "text/plain": [
       "Topic  LocationID       CHD  Heart_attack    Stroke\n",
       "0             1.0  6.666667      7.216667  5.214286\n",
       "1             2.0  5.066667      4.933333  3.700000\n",
       "2             4.0  5.460000      5.300000  3.720000\n",
       "3             5.0  7.357143      6.383333  5.771429\n",
       "4             6.0  3.537500      4.033333  2.644444"
      ]
     },
     "execution_count": 96,
     "metadata": {},
     "output_type": "execute_result"
    }
   ],
   "source": [
    "cvd.head()"
   ]
  },
  {
   "cell_type": "code",
   "execution_count": 97,
   "metadata": {
    "collapsed": false
   },
   "outputs": [
    {
     "data": {
      "text/html": [
       "<div>\n",
       "<table border=\"1\" class=\"dataframe\">\n",
       "  <thead>\n",
       "    <tr style=\"text-align: right;\">\n",
       "      <th></th>\n",
       "      <th>LocationID</th>\n",
       "      <th>Latitude</th>\n",
       "      <th>Longitude</th>\n",
       "    </tr>\n",
       "  </thead>\n",
       "  <tbody>\n",
       "    <tr>\n",
       "      <th>0</th>\n",
       "      <td>1.0</td>\n",
       "      <td>32.8405</td>\n",
       "      <td>-86.6318</td>\n",
       "    </tr>\n",
       "    <tr>\n",
       "      <th>1</th>\n",
       "      <td>2.0</td>\n",
       "      <td>64.8450</td>\n",
       "      <td>-147.7220</td>\n",
       "    </tr>\n",
       "    <tr>\n",
       "      <th>2</th>\n",
       "      <td>4.0</td>\n",
       "      <td>34.8659</td>\n",
       "      <td>-111.7638</td>\n",
       "    </tr>\n",
       "    <tr>\n",
       "      <th>3</th>\n",
       "      <td>5.0</td>\n",
       "      <td>34.7486</td>\n",
       "      <td>-92.2744</td>\n",
       "    </tr>\n",
       "    <tr>\n",
       "      <th>4</th>\n",
       "      <td>6.0</td>\n",
       "      <td>37.6386</td>\n",
       "      <td>-120.9999</td>\n",
       "    </tr>\n",
       "  </tbody>\n",
       "</table>\n",
       "</div>"
      ],
      "text/plain": [
       "   LocationID  Latitude  Longitude\n",
       "0         1.0   32.8405   -86.6318\n",
       "1         2.0   64.8450  -147.7220\n",
       "2         4.0   34.8659  -111.7638\n",
       "3         5.0   34.7486   -92.2744\n",
       "4         6.0   37.6386  -120.9999"
      ]
     },
     "execution_count": 97,
     "metadata": {},
     "output_type": "execute_result"
    }
   ],
   "source": [
    "# Preparing Geolocation dataframe\n",
    "cvdGeo = df3[df3.Category == 'Cardiovascular Diseases'][['LocationID', 'GeoLocation', 'Data_Value']].groupby(['LocationID', 'GeoLocation']).mean().reset_index()\n",
    "cvdLat = cvdGeo.drop('Data_Value', 1)\n",
    "#cvdLat = pd.DataFrame(cvdGeo['GeoLocation'].map(lambda x: str(x)[1:10]).astype(float))\n",
    "cvdLat['GeoLocation'] = cvdLat['GeoLocation'].str.extract('(\\d\\d.\\d\\d\\d\\d)', expand=True)\n",
    "cvdLat = cvdLat.rename(columns={'GeoLocation': 'Latitude'})\n",
    "cvdLat = cvdLat.apply(lambda x: pd.to_numeric(x, errors='ignore'))\n",
    "\n",
    "cvdLon = cvdGeo.drop('Data_Value', 1)\n",
    "#cvdLon = pd.DataFrame(cvdGeo['GeoLocation'].map(lambda x: str(x)[-20:-6]).astype(float))\n",
    "cvdLon['GeoLocation'] = cvdLon['GeoLocation'].str.extract('(-[0-9]{1,3}.\\d\\d\\d\\d)', expand=True)\n",
    "cvdLon = cvdLon.rename(columns={'GeoLocation': 'Longitude'})\n",
    "cvdLon = cvdLon.apply(lambda x: pd.to_numeric(x, errors='ignore'))\n",
    "\n",
    "cvdLatLon = pd.merge(cvdLat, cvdLon, on='LocationID', how='inner')\n",
    "\n",
    "cvdLatLon.head()"
   ]
  },
  {
   "cell_type": "code",
   "execution_count": 98,
   "metadata": {
    "collapsed": false
   },
   "outputs": [
    {
     "data": {
      "text/html": [
       "<div>\n",
       "<table border=\"1\" class=\"dataframe\">\n",
       "  <thead>\n",
       "    <tr style=\"text-align: right;\">\n",
       "      <th></th>\n",
       "      <th>LocationID</th>\n",
       "      <th>GDP_2012</th>\n",
       "      <th>Healthcare_spending_2009</th>\n",
       "      <th>Bachelor_degree</th>\n",
       "      <th>Advanced_degree</th>\n",
       "      <th>Median_household_income_2014</th>\n",
       "      <th>Average_annual_Temp_C</th>\n",
       "      <th>Latitude</th>\n",
       "      <th>Longitude</th>\n",
       "    </tr>\n",
       "  </thead>\n",
       "  <tbody>\n",
       "    <tr>\n",
       "      <th>0</th>\n",
       "      <td>1</td>\n",
       "      <td>32615</td>\n",
       "      <td>6271.67</td>\n",
       "      <td>0.235</td>\n",
       "      <td>0.087</td>\n",
       "      <td>41415</td>\n",
       "      <td>17.1</td>\n",
       "      <td>32.8405</td>\n",
       "      <td>-86.6318</td>\n",
       "    </tr>\n",
       "    <tr>\n",
       "      <th>1</th>\n",
       "      <td>2</td>\n",
       "      <td>61156</td>\n",
       "      <td>9127.65</td>\n",
       "      <td>0.280</td>\n",
       "      <td>0.110</td>\n",
       "      <td>60287</td>\n",
       "      <td>-3.0</td>\n",
       "      <td>64.8450</td>\n",
       "      <td>-147.7220</td>\n",
       "    </tr>\n",
       "    <tr>\n",
       "      <th>2</th>\n",
       "      <td>4</td>\n",
       "      <td>35195</td>\n",
       "      <td>5433.89</td>\n",
       "      <td>0.275</td>\n",
       "      <td>0.102</td>\n",
       "      <td>46709</td>\n",
       "      <td>15.7</td>\n",
       "      <td>34.8659</td>\n",
       "      <td>-111.7638</td>\n",
       "    </tr>\n",
       "    <tr>\n",
       "      <th>3</th>\n",
       "      <td>5</td>\n",
       "      <td>31837</td>\n",
       "      <td>6166.94</td>\n",
       "      <td>0.211</td>\n",
       "      <td>0.075</td>\n",
       "      <td>38758</td>\n",
       "      <td>15.8</td>\n",
       "      <td>34.7486</td>\n",
       "      <td>-92.2744</td>\n",
       "    </tr>\n",
       "    <tr>\n",
       "      <th>4</th>\n",
       "      <td>6</td>\n",
       "      <td>46029</td>\n",
       "      <td>6237.61</td>\n",
       "      <td>0.314</td>\n",
       "      <td>0.116</td>\n",
       "      <td>67458</td>\n",
       "      <td>15.2</td>\n",
       "      <td>37.6386</td>\n",
       "      <td>-120.9999</td>\n",
       "    </tr>\n",
       "  </tbody>\n",
       "</table>\n",
       "</div>"
      ],
      "text/plain": [
       "   LocationID  GDP_2012  Healthcare_spending_2009  Bachelor_degree  \\\n",
       "0           1     32615                   6271.67            0.235   \n",
       "1           2     61156                   9127.65            0.280   \n",
       "2           4     35195                   5433.89            0.275   \n",
       "3           5     31837                   6166.94            0.211   \n",
       "4           6     46029                   6237.61            0.314   \n",
       "\n",
       "   Advanced_degree  Median_household_income_2014  Average_annual_Temp_C  \\\n",
       "0            0.087                         41415                   17.1   \n",
       "1            0.110                         60287                   -3.0   \n",
       "2            0.102                         46709                   15.7   \n",
       "3            0.075                         38758                   15.8   \n",
       "4            0.116                         67458                   15.2   \n",
       "\n",
       "   Latitude  Longitude  \n",
       "0   32.8405   -86.6318  \n",
       "1   64.8450  -147.7220  \n",
       "2   34.8659  -111.7638  \n",
       "3   34.7486   -92.2744  \n",
       "4   37.6386  -120.9999  "
      ]
     },
     "execution_count": 98,
     "metadata": {},
     "output_type": "execute_result"
    }
   ],
   "source": [
    "# Creating a dataframe combining geolocation data with US states socioeconomic data\n",
    "df_us_del = df_us.drop('LocationDesc', axis=1)\n",
    "df_us_geo = pd.merge(df_us_del, cvdLatLon, on='LocationID', how='inner')\n",
    "df_us_geo.head()"
   ]
  },
  {
   "cell_type": "code",
   "execution_count": 99,
   "metadata": {
    "collapsed": false
   },
   "outputs": [
    {
     "data": {
      "text/html": [
       "<div>\n",
       "<table border=\"1\" class=\"dataframe\">\n",
       "  <thead>\n",
       "    <tr style=\"text-align: right;\">\n",
       "      <th></th>\n",
       "      <th>LocationID</th>\n",
       "      <th>GDP_2012</th>\n",
       "      <th>Healthcare_spending_2009</th>\n",
       "      <th>Bachelor_degree</th>\n",
       "      <th>Advanced_degree</th>\n",
       "      <th>Median_household_income_2014</th>\n",
       "      <th>Average_annual_Temp_C</th>\n",
       "      <th>Latitude</th>\n",
       "      <th>Longitude</th>\n",
       "      <th>CHD</th>\n",
       "      <th>Heart_attack</th>\n",
       "      <th>Stroke</th>\n",
       "      <th>Cholesterol</th>\n",
       "      <th>Diabetes</th>\n",
       "      <th>Hypertension</th>\n",
       "      <th>Obesity</th>\n",
       "      <th>Phys_inact</th>\n",
       "      <th>Smoking</th>\n",
       "    </tr>\n",
       "  </thead>\n",
       "  <tbody>\n",
       "    <tr>\n",
       "      <th>0</th>\n",
       "      <td>1</td>\n",
       "      <td>32615</td>\n",
       "      <td>6271.67</td>\n",
       "      <td>0.235</td>\n",
       "      <td>0.087</td>\n",
       "      <td>41415</td>\n",
       "      <td>17.1</td>\n",
       "      <td>32.8405</td>\n",
       "      <td>-86.6318</td>\n",
       "      <td>6.666667</td>\n",
       "      <td>7.216667</td>\n",
       "      <td>5.214286</td>\n",
       "      <td>41.925000</td>\n",
       "      <td>15.414286</td>\n",
       "      <td>40.611111</td>\n",
       "      <td>33.175000</td>\n",
       "      <td>31.777778</td>\n",
       "      <td>21.414286</td>\n",
       "    </tr>\n",
       "    <tr>\n",
       "      <th>1</th>\n",
       "      <td>2</td>\n",
       "      <td>61156</td>\n",
       "      <td>9127.65</td>\n",
       "      <td>0.280</td>\n",
       "      <td>0.110</td>\n",
       "      <td>60287</td>\n",
       "      <td>-3.0</td>\n",
       "      <td>64.8450</td>\n",
       "      <td>-147.7220</td>\n",
       "      <td>5.066667</td>\n",
       "      <td>4.933333</td>\n",
       "      <td>3.700000</td>\n",
       "      <td>37.044444</td>\n",
       "      <td>8.757143</td>\n",
       "      <td>36.666667</td>\n",
       "      <td>31.677778</td>\n",
       "      <td>24.650000</td>\n",
       "      <td>21.566667</td>\n",
       "    </tr>\n",
       "    <tr>\n",
       "      <th>2</th>\n",
       "      <td>4</td>\n",
       "      <td>35195</td>\n",
       "      <td>5433.89</td>\n",
       "      <td>0.275</td>\n",
       "      <td>0.102</td>\n",
       "      <td>46709</td>\n",
       "      <td>15.7</td>\n",
       "      <td>34.8659</td>\n",
       "      <td>-111.7638</td>\n",
       "      <td>5.460000</td>\n",
       "      <td>5.300000</td>\n",
       "      <td>3.720000</td>\n",
       "      <td>39.687500</td>\n",
       "      <td>12.622222</td>\n",
       "      <td>34.522222</td>\n",
       "      <td>28.975000</td>\n",
       "      <td>27.000000</td>\n",
       "      <td>15.871429</td>\n",
       "    </tr>\n",
       "    <tr>\n",
       "      <th>3</th>\n",
       "      <td>5</td>\n",
       "      <td>31837</td>\n",
       "      <td>6166.94</td>\n",
       "      <td>0.211</td>\n",
       "      <td>0.075</td>\n",
       "      <td>38758</td>\n",
       "      <td>15.8</td>\n",
       "      <td>34.7486</td>\n",
       "      <td>-92.2744</td>\n",
       "      <td>7.357143</td>\n",
       "      <td>6.383333</td>\n",
       "      <td>5.771429</td>\n",
       "      <td>40.966667</td>\n",
       "      <td>12.914286</td>\n",
       "      <td>39.655556</td>\n",
       "      <td>36.675000</td>\n",
       "      <td>35.977778</td>\n",
       "      <td>24.662500</td>\n",
       "    </tr>\n",
       "    <tr>\n",
       "      <th>4</th>\n",
       "      <td>6</td>\n",
       "      <td>46029</td>\n",
       "      <td>6237.61</td>\n",
       "      <td>0.314</td>\n",
       "      <td>0.116</td>\n",
       "      <td>67458</td>\n",
       "      <td>15.2</td>\n",
       "      <td>37.6386</td>\n",
       "      <td>-120.9999</td>\n",
       "      <td>3.537500</td>\n",
       "      <td>4.033333</td>\n",
       "      <td>2.644444</td>\n",
       "      <td>38.177778</td>\n",
       "      <td>12.544444</td>\n",
       "      <td>33.255556</td>\n",
       "      <td>24.977778</td>\n",
       "      <td>22.511111</td>\n",
       "      <td>12.211111</td>\n",
       "    </tr>\n",
       "  </tbody>\n",
       "</table>\n",
       "</div>"
      ],
      "text/plain": [
       "   LocationID  GDP_2012  Healthcare_spending_2009  Bachelor_degree  \\\n",
       "0           1     32615                   6271.67            0.235   \n",
       "1           2     61156                   9127.65            0.280   \n",
       "2           4     35195                   5433.89            0.275   \n",
       "3           5     31837                   6166.94            0.211   \n",
       "4           6     46029                   6237.61            0.314   \n",
       "\n",
       "   Advanced_degree  Median_household_income_2014  Average_annual_Temp_C  \\\n",
       "0            0.087                         41415                   17.1   \n",
       "1            0.110                         60287                   -3.0   \n",
       "2            0.102                         46709                   15.7   \n",
       "3            0.075                         38758                   15.8   \n",
       "4            0.116                         67458                   15.2   \n",
       "\n",
       "   Latitude  Longitude       CHD  Heart_attack    Stroke  Cholesterol  \\\n",
       "0   32.8405   -86.6318  6.666667      7.216667  5.214286    41.925000   \n",
       "1   64.8450  -147.7220  5.066667      4.933333  3.700000    37.044444   \n",
       "2   34.8659  -111.7638  5.460000      5.300000  3.720000    39.687500   \n",
       "3   34.7486   -92.2744  7.357143      6.383333  5.771429    40.966667   \n",
       "4   37.6386  -120.9999  3.537500      4.033333  2.644444    38.177778   \n",
       "\n",
       "    Diabetes  Hypertension    Obesity  Phys_inact    Smoking  \n",
       "0  15.414286     40.611111  33.175000   31.777778  21.414286  \n",
       "1   8.757143     36.666667  31.677778   24.650000  21.566667  \n",
       "2  12.622222     34.522222  28.975000   27.000000  15.871429  \n",
       "3  12.914286     39.655556  36.675000   35.977778  24.662500  \n",
       "4  12.544444     33.255556  24.977778   22.511111  12.211111  "
      ]
     },
     "execution_count": 99,
     "metadata": {},
     "output_type": "execute_result"
    }
   ],
   "source": [
    "# Merging dataframes to include US states data with CVD and RF\n",
    "df_merged_cvd_rf = pd.merge(cvd, rf, on='LocationID', how='inner')\n",
    "df_merged = pd.merge(df_us_geo, df_merged_cvd_rf, on='LocationID', how='inner')\n",
    "df_merged.head()"
   ]
  },
  {
   "cell_type": "code",
   "execution_count": 100,
   "metadata": {
    "collapsed": false
   },
   "outputs": [
    {
     "data": {
      "text/plain": [
       "(50, 18)"
      ]
     },
     "execution_count": 100,
     "metadata": {},
     "output_type": "execute_result"
    }
   ],
   "source": [
    "df_merged.shape"
   ]
  },
  {
   "cell_type": "markdown",
   "metadata": {},
   "source": [
    "## Linear Regression for CHD"
   ]
  },
  {
   "cell_type": "code",
   "execution_count": 101,
   "metadata": {
    "collapsed": false
   },
   "outputs": [],
   "source": [
    "# Creating a dataframe with features (predictors) to be analyzed\n",
    "df_X = df_merged.drop(df_merged.ix[:,'CHD':'Stroke'].head(0).columns, 1)\n",
    "df_X = df_X.drop('LocationID', 1)"
   ]
  },
  {
   "cell_type": "code",
   "execution_count": 102,
   "metadata": {
    "collapsed": false
   },
   "outputs": [],
   "source": [
    "# Defining independent and dependent variables for regression\n",
    "X = df_X.values       #iloc[:,1:].values #reshape(-1, 1)\n",
    "Y = df_merged['CHD'].values #reshape(-1, 1)"
   ]
  },
  {
   "cell_type": "code",
   "execution_count": 103,
   "metadata": {
    "collapsed": false
   },
   "outputs": [
    {
     "data": {
      "text/html": [
       "<div>\n",
       "<table border=\"1\" class=\"dataframe\">\n",
       "  <thead>\n",
       "    <tr style=\"text-align: right;\">\n",
       "      <th></th>\n",
       "      <th>GDP_2012</th>\n",
       "      <th>Healthcare_spending_2009</th>\n",
       "      <th>Bachelor_degree</th>\n",
       "      <th>Advanced_degree</th>\n",
       "      <th>Median_household_income_2014</th>\n",
       "      <th>Average_annual_Temp_C</th>\n",
       "      <th>Latitude</th>\n",
       "      <th>Longitude</th>\n",
       "      <th>Cholesterol</th>\n",
       "      <th>Diabetes</th>\n",
       "      <th>Hypertension</th>\n",
       "      <th>Obesity</th>\n",
       "      <th>Phys_inact</th>\n",
       "      <th>Smoking</th>\n",
       "    </tr>\n",
       "  </thead>\n",
       "  <tbody>\n",
       "    <tr>\n",
       "      <th>0</th>\n",
       "      <td>32615</td>\n",
       "      <td>6271.67</td>\n",
       "      <td>0.235</td>\n",
       "      <td>0.087</td>\n",
       "      <td>41415</td>\n",
       "      <td>17.1</td>\n",
       "      <td>32.8405</td>\n",
       "      <td>-86.6318</td>\n",
       "      <td>41.925000</td>\n",
       "      <td>15.414286</td>\n",
       "      <td>40.611111</td>\n",
       "      <td>33.175000</td>\n",
       "      <td>31.777778</td>\n",
       "      <td>21.414286</td>\n",
       "    </tr>\n",
       "    <tr>\n",
       "      <th>1</th>\n",
       "      <td>61156</td>\n",
       "      <td>9127.65</td>\n",
       "      <td>0.280</td>\n",
       "      <td>0.110</td>\n",
       "      <td>60287</td>\n",
       "      <td>-3.0</td>\n",
       "      <td>64.8450</td>\n",
       "      <td>-147.7220</td>\n",
       "      <td>37.044444</td>\n",
       "      <td>8.757143</td>\n",
       "      <td>36.666667</td>\n",
       "      <td>31.677778</td>\n",
       "      <td>24.650000</td>\n",
       "      <td>21.566667</td>\n",
       "    </tr>\n",
       "    <tr>\n",
       "      <th>2</th>\n",
       "      <td>35195</td>\n",
       "      <td>5433.89</td>\n",
       "      <td>0.275</td>\n",
       "      <td>0.102</td>\n",
       "      <td>46709</td>\n",
       "      <td>15.7</td>\n",
       "      <td>34.8659</td>\n",
       "      <td>-111.7638</td>\n",
       "      <td>39.687500</td>\n",
       "      <td>12.622222</td>\n",
       "      <td>34.522222</td>\n",
       "      <td>28.975000</td>\n",
       "      <td>27.000000</td>\n",
       "      <td>15.871429</td>\n",
       "    </tr>\n",
       "    <tr>\n",
       "      <th>3</th>\n",
       "      <td>31837</td>\n",
       "      <td>6166.94</td>\n",
       "      <td>0.211</td>\n",
       "      <td>0.075</td>\n",
       "      <td>38758</td>\n",
       "      <td>15.8</td>\n",
       "      <td>34.7486</td>\n",
       "      <td>-92.2744</td>\n",
       "      <td>40.966667</td>\n",
       "      <td>12.914286</td>\n",
       "      <td>39.655556</td>\n",
       "      <td>36.675000</td>\n",
       "      <td>35.977778</td>\n",
       "      <td>24.662500</td>\n",
       "    </tr>\n",
       "    <tr>\n",
       "      <th>4</th>\n",
       "      <td>46029</td>\n",
       "      <td>6237.61</td>\n",
       "      <td>0.314</td>\n",
       "      <td>0.116</td>\n",
       "      <td>67458</td>\n",
       "      <td>15.2</td>\n",
       "      <td>37.6386</td>\n",
       "      <td>-120.9999</td>\n",
       "      <td>38.177778</td>\n",
       "      <td>12.544444</td>\n",
       "      <td>33.255556</td>\n",
       "      <td>24.977778</td>\n",
       "      <td>22.511111</td>\n",
       "      <td>12.211111</td>\n",
       "    </tr>\n",
       "  </tbody>\n",
       "</table>\n",
       "</div>"
      ],
      "text/plain": [
       "   GDP_2012  Healthcare_spending_2009  Bachelor_degree  Advanced_degree  \\\n",
       "0     32615                   6271.67            0.235            0.087   \n",
       "1     61156                   9127.65            0.280            0.110   \n",
       "2     35195                   5433.89            0.275            0.102   \n",
       "3     31837                   6166.94            0.211            0.075   \n",
       "4     46029                   6237.61            0.314            0.116   \n",
       "\n",
       "   Median_household_income_2014  Average_annual_Temp_C  Latitude  Longitude  \\\n",
       "0                         41415                   17.1   32.8405   -86.6318   \n",
       "1                         60287                   -3.0   64.8450  -147.7220   \n",
       "2                         46709                   15.7   34.8659  -111.7638   \n",
       "3                         38758                   15.8   34.7486   -92.2744   \n",
       "4                         67458                   15.2   37.6386  -120.9999   \n",
       "\n",
       "   Cholesterol   Diabetes  Hypertension    Obesity  Phys_inact    Smoking  \n",
       "0    41.925000  15.414286     40.611111  33.175000   31.777778  21.414286  \n",
       "1    37.044444   8.757143     36.666667  31.677778   24.650000  21.566667  \n",
       "2    39.687500  12.622222     34.522222  28.975000   27.000000  15.871429  \n",
       "3    40.966667  12.914286     39.655556  36.675000   35.977778  24.662500  \n",
       "4    38.177778  12.544444     33.255556  24.977778   22.511111  12.211111  "
      ]
     },
     "execution_count": 103,
     "metadata": {},
     "output_type": "execute_result"
    }
   ],
   "source": [
    "df_X.head()"
   ]
  },
  {
   "cell_type": "code",
   "execution_count": 104,
   "metadata": {
    "collapsed": false
   },
   "outputs": [
    {
     "name": "stdout",
     "output_type": "stream",
     "text": [
      "(40, 14)\n",
      "(10, 14)\n",
      "(40,)\n",
      "(10,)\n"
     ]
    }
   ],
   "source": [
    "# Random 80:20 split for training:testing\n",
    "from sklearn.linear_model import LinearRegression\n",
    "from sklearn.model_selection import train_test_split\n",
    "\n",
    "\n",
    "X_train, X_test, Y_train, Y_test = train_test_split(X, Y, test_size=0.20, random_state = 5)\n",
    "print(X_train.shape)\n",
    "print(X_test.shape)\n",
    "print(Y_train.shape)\n",
    "print(Y_test.shape)"
   ]
  },
  {
   "cell_type": "code",
   "execution_count": 105,
   "metadata": {
    "collapsed": false
   },
   "outputs": [
    {
     "name": "stdout",
     "output_type": "stream",
     "text": [
      "R-squared for training data: \n",
      "0.735583896422\n",
      "R-squared for test data: \n",
      "0.610460606066\n",
      "\n",
      "predictions for 5 states in the test set:\n",
      "[ 5.35876534  4.78956993  4.44047257  4.77290766  4.72836337]\n",
      "Mean squared error on the test set: \n",
      "0.438345425883\n",
      "Mean squared error on the training set: \n",
      "0.286362269312\n"
     ]
    }
   ],
   "source": [
    "# Create an instance of the linear regression model.\n",
    "lm = LinearRegression()\n",
    "\n",
    "# Now, train the model with all the 8 predictors only using the training set\n",
    "lm.fit(X_train, Y_train)\n",
    "\n",
    "# First, we can check to see how much of the variance in the training data is captured by the model.\n",
    "# We can compute R-squared for this.\n",
    "from sklearn.metrics import r2_score\n",
    "print(\"R-squared for training data: \")\n",
    "print(r2_score(Y_train, lm.predict(X_train)))\n",
    "\n",
    "print(\"R-squared for test data: \")\n",
    "print(r2_score(Y_test, lm.predict(X_test)))\n",
    "print()\n",
    "\n",
    "# Predict the output on the test set and print the first five values\n",
    "print(\"predictions for 5 states in the test set:\")\n",
    "print(lm.predict(X_test)[0:5])\n",
    "\n",
    "# Look at the mean squared error on the test set first and then on the training set.\n",
    "from sklearn.metrics import mean_squared_error\n",
    "print(\"Mean squared error on the test set: \")\n",
    "print(mean_squared_error(Y_test, lm.predict(X_test)))\n",
    "print(\"Mean squared error on the training set: \")\n",
    "print(mean_squared_error(Y_train, lm.predict(X_train)))"
   ]
  },
  {
   "cell_type": "code",
   "execution_count": 106,
   "metadata": {
    "collapsed": false
   },
   "outputs": [
    {
     "data": {
      "text/plain": [
       "0.70980716846576697"
      ]
     },
     "execution_count": 106,
     "metadata": {},
     "output_type": "execute_result"
    }
   ],
   "source": [
    "lm.score(X, Y)"
   ]
  },
  {
   "cell_type": "code",
   "execution_count": 107,
   "metadata": {
    "collapsed": false
   },
   "outputs": [
    {
     "data": {
      "text/plain": [
       "<matplotlib.legend.Legend at 0x21ef2996278>"
      ]
     },
     "execution_count": 107,
     "metadata": {},
     "output_type": "execute_result"
    },
    {
     "data": {
      "image/png": "[encoded data removed]",
      "text/plain": [
       "<matplotlib.figure.Figure at 0x21ef5787b70>"
      ]
     },
     "metadata": {},
     "output_type": "display_data"
    }
   ],
   "source": [
    "import matplotlib.patches as mpatches\n",
    "\n",
    "plt.figure(figsize=(5,3))\n",
    "plt.scatter(lm.predict(X_train), lm.predict(X_train) - Y_train, c='b', s=40, alpha=0.5)\n",
    "plt.scatter(lm.predict(X_test), lm.predict(X_test) - Y_test, c='g', s=40)\n",
    "plt.hlines(y = 0, xmin=2.5, xmax = 8.5)\n",
    "#plt.title('Residual Plot using training (blue) and test (green) data')\n",
    "plt.title('Residuals vs Fitted Values')\n",
    "plt.ylabel('Residuals')\n",
    "plt.xlabel('Fitted Values')\n",
    "\n",
    "blue_patch = mpatches.Patch(color='b', label='Train')\n",
    "green_patch = mpatches.Patch(color ='g', label='Test')\n",
    "plt.legend(handles=[blue_patch, green_patch])"
   ]
  },
  {
   "cell_type": "code",
   "execution_count": 108,
   "metadata": {
    "collapsed": false
   },
   "outputs": [
    {
     "name": "stdout",
     "output_type": "stream",
     "text": [
      "                            OLS Regression Results                            \n",
      "==============================================================================\n",
      "Dep. Variable:                      y   R-squared:                       0.736\n",
      "Model:                            OLS   Adj. R-squared:                  0.593\n",
      "Method:                 Least Squares   F-statistic:                     5.166\n",
      "Date:                Mon, 27 Feb 2017   Prob (F-statistic):           0.000156\n",
      "Time:                        16:09:07   Log-Likelihood:                -30.153\n",
      "No. Observations:                  40   AIC:                             88.31\n",
      "Df Residuals:                      26   BIC:                             112.0\n",
      "Df Model:                          14                                         \n",
      "Covariance Type:            nonrobust                                         \n",
      "==============================================================================\n",
      "                 coef    std err          t      P>|t|      [95.0% Conf. Int.]\n",
      "------------------------------------------------------------------------------\n",
      "x1             0.0380      0.197      0.193      0.849        -0.368     0.444\n",
      "x2             0.0652      0.157      0.416      0.681        -0.257     0.387\n",
      "x3             0.3395      0.409      0.830      0.414        -0.501     1.180\n",
      "x4            -0.4229      0.290     -1.458      0.157        -1.019     0.173\n",
      "x5            -0.0165      0.247     -0.067      0.947        -0.524     0.491\n",
      "x6            -0.3537      0.401     -0.881      0.386        -1.179     0.471\n",
      "x7            -0.0831      0.354     -0.235      0.816        -0.811     0.645\n",
      "x8             0.2606      0.190      1.374      0.181        -0.129     0.651\n",
      "x9            -0.1762      0.191     -0.923      0.364        -0.568     0.216\n",
      "x10            0.1548      0.212      0.729      0.472        -0.282     0.591\n",
      "x11            0.7132      0.288      2.477      0.020         0.121     1.305\n",
      "x12            0.3709      0.189      1.964      0.060        -0.017     0.759\n",
      "x13           -0.0832      0.197     -0.423      0.676        -0.487     0.321\n",
      "x14           -0.1527      0.259     -0.589      0.561        -0.686     0.380\n",
      "==============================================================================\n",
      "Omnibus:                        0.896   Durbin-Watson:                   2.281\n",
      "Prob(Omnibus):                  0.639   Jarque-Bera (JB):                0.944\n",
      "Skew:                           0.310   Prob(JB):                        0.624\n",
      "Kurtosis:                       2.574   Cond. No.                         14.5\n",
      "==============================================================================\n",
      "\n",
      "Warnings:\n",
      "[1] Standard Errors assume that the covariance matrix of the errors is correctly specified.\n",
      "\n",
      "                            OLS Regression Results                            \n",
      "==============================================================================\n",
      "Dep. Variable:                      y   R-squared:                       0.736\n",
      "Model:                            OLS   Adj. R-squared:                  0.593\n",
      "Method:                 Least Squares   F-statistic:                     5.166\n",
      "Date:                Mon, 27 Feb 2017   Prob (F-statistic):           0.000156\n",
      "Time:                        16:09:07   Log-Likelihood:                -30.153\n",
      "No. Observations:                  40   AIC:                             88.31\n",
      "Df Residuals:                      26   BIC:                             112.0\n",
      "Df Model:                          14                                         \n",
      "Covariance Type:            nonrobust                                         \n",
      "==============================================================================\n",
      "                 coef    std err          t      P>|t|      [95.0% Conf. Int.]\n",
      "------------------------------------------------------------------------------\n",
      "x1             0.0380      0.197      0.193      0.849        -0.368     0.444\n",
      "x2             0.0652      0.157      0.416      0.681        -0.257     0.387\n",
      "x3             0.3395      0.409      0.830      0.414        -0.501     1.180\n",
      "x4            -0.4229      0.290     -1.458      0.157        -1.019     0.173\n",
      "x5            -0.0165      0.247     -0.067      0.947        -0.524     0.491\n",
      "x6            -0.3537      0.401     -0.881      0.386        -1.179     0.471\n",
      "x7            -0.0831      0.354     -0.235      0.816        -0.811     0.645\n",
      "x8             0.2606      0.190      1.374      0.181        -0.129     0.651\n",
      "x9            -0.1762      0.191     -0.923      0.364        -0.568     0.216\n",
      "x10            0.1548      0.212      0.729      0.472        -0.282     0.591\n",
      "x11            0.7132      0.288      2.477      0.020         0.121     1.305\n",
      "x12            0.3709      0.189      1.964      0.060        -0.017     0.759\n",
      "x13           -0.0832      0.197     -0.423      0.676        -0.487     0.321\n",
      "x14           -0.1527      0.259     -0.589      0.561        -0.686     0.380\n",
      "==============================================================================\n",
      "Omnibus:                        0.896   Durbin-Watson:                   2.281\n",
      "Prob(Omnibus):                  0.639   Jarque-Bera (JB):                0.944\n",
      "Skew:                           0.310   Prob(JB):                        0.624\n",
      "Kurtosis:                       2.574   Cond. No.                         14.5\n",
      "==============================================================================\n",
      "\n",
      "Warnings:\n",
      "[1] Standard Errors assume that the covariance matrix of the errors is correctly specified.\n"
     ]
    }
   ],
   "source": [
    "# Import regression modules\n",
    "# ols - stands for Ordinary least squares, we'll use this\n",
    "import statsmodels.api as sm\n",
    "#from statsmodels.formula.api import ols\n",
    "import statsmodels.api as sm\n",
    "Y = stats.zscore(Y_train)\n",
    "X = stats.zscore(X_train)\n",
    "m = sm.OLS(Y,X).fit()\n",
    "print(m.summary())\n",
    "print()\n",
    "Y = stats.zscore(Y_train)\n",
    "X = stats.zscore(X_train)\n",
    "m2 = sm.OLS(Y,X).fit()\n",
    "print(m2.summary())"
   ]
  },
  {
   "cell_type": "markdown",
   "metadata": {
    "collapsed": true
   },
   "source": [
    "## Random Forest for CHD"
   ]
  },
  {
   "cell_type": "code",
   "execution_count": 109,
   "metadata": {
    "collapsed": false
   },
   "outputs": [
    {
     "name": "stdout",
     "output_type": "stream",
     "text": [
      "R-squared for training data: \n",
      "0.892676678891\n",
      "\n",
      "R-squared for test data: \n",
      "0.707202873384\n",
      "\n",
      "predictions for 5 five states in the test set:\n",
      "[ 5.55252381  5.16278571  4.49141667  5.23921429  4.69688095]\n",
      "\n",
      "Mean squared error on the test set: \n",
      "0.329482160629\n",
      "Mean squared error on the training set: \n",
      "0.116231006232\n"
     ]
    }
   ],
   "source": [
    "from sklearn.ensemble import RandomForestRegressor\n",
    "\n",
    "# Create an instance of the Random Forest model.\n",
    "rf = RandomForestRegressor(random_state = 1)\n",
    "\n",
    "# Now, train the model with all the 8 predictors only using the training set\n",
    "rf.fit(X_train, Y_train)\n",
    "#rf.predict(X_train)\n",
    "\n",
    "# First, we can check to see how much of the variance in the training data is captured by the model.\n",
    "# We can compute R-squared for this (also referred to as the coefficient of determination).\n",
    "print(\"R-squared for training data: \")\n",
    "print(rf.score(X_train,Y_train))\n",
    "print()\n",
    "print(\"R-squared for test data: \")\n",
    "print(rf.score(X_test,Y_test))\n",
    "print()\n",
    "\n",
    "# Predict the output on the test set and print the first five values\n",
    "print(\"predictions for 5 five states in the test set:\")\n",
    "print(rf.predict(X_test)[0:5])\n",
    "print()\n",
    "\n",
    "# Look at the mean squared error on the test set first and then on the training set.\n",
    "from sklearn.metrics import mean_squared_error\n",
    "print(\"Mean squared error on the test set: \")\n",
    "print(mean_squared_error(Y_test, rf.predict(X_test)))\n",
    "print(\"Mean squared error on the training set: \")\n",
    "print(mean_squared_error(Y_train, rf.predict(X_train)))"
   ]
  },
  {
   "cell_type": "code",
   "execution_count": 110,
   "metadata": {
    "collapsed": false
   },
   "outputs": [
    {
     "data": {
      "text/plain": [
       "array([ 0.00993554,  0.01344286,  0.0581776 ,  0.01762688,  0.108473  ,\n",
       "        0.0133712 ,  0.02709281,  0.02791998,  0.03656243,  0.05707149,\n",
       "        0.22328832,  0.2914248 ,  0.03674545,  0.07886766])"
      ]
     },
     "execution_count": 110,
     "metadata": {},
     "output_type": "execute_result"
    }
   ],
   "source": [
    "# Relative importance of features\n",
    "fimp = rf.feature_importances_\n",
    "fimp"
   ]
  },
  {
   "cell_type": "code",
   "execution_count": 111,
   "metadata": {
    "collapsed": false
   },
   "outputs": [
    {
     "data": {
      "image/png": "[encoded data removed]",
      "text/plain": [
       "<matplotlib.figure.Figure at 0x21ef50b49e8>"
      ]
     },
     "metadata": {},
     "output_type": "display_data"
    }
   ],
   "source": [
    "# Plotting ranked features\n",
    "name_list = df_X.columns\n",
    "fimp, name_list = zip(*sorted(zip(fimp, name_list)))\n",
    "plt.barh(range(len(name_list)),fimp,align='center')\n",
    "plt.yticks(range(len(name_list)),name_list)\n",
    "plt.xlabel('Relative Importance in the Random Forest')\n",
    "plt.ylabel('Features')\n",
    "plt.title('Relative importance of Each Feature')\n",
    "plt.show()"
   ]
  },
  {
   "cell_type": "code",
   "execution_count": null,
   "metadata": {
    "collapsed": true
   },
   "outputs": [],
   "source": []
  },
  {
   "cell_type": "markdown",
   "metadata": {
    "collapsed": true
   },
   "source": [
    "## Random Forest for Heart Attack"
   ]
  },
  {
   "cell_type": "code",
   "execution_count": 112,
   "metadata": {
    "collapsed": false
   },
   "outputs": [],
   "source": [
    "# Defining independent and dependent variables for regression\n",
    "X = df_X.values\n",
    "Y = df_merged['Heart_attack'].values"
   ]
  },
  {
   "cell_type": "code",
   "execution_count": 113,
   "metadata": {
    "collapsed": false
   },
   "outputs": [
    {
     "name": "stdout",
     "output_type": "stream",
     "text": [
      "(40, 14)\n",
      "(10, 14)\n",
      "(40,)\n",
      "(10,)\n"
     ]
    }
   ],
   "source": [
    "# Random 80:20 split for training:testing\n",
    "from sklearn.linear_model import LinearRegression\n",
    "from sklearn.model_selection import train_test_split\n",
    "\n",
    "\n",
    "X_train, X_test, Y_train, Y_test = train_test_split(X, Y, test_size=0.20, random_state = 5)\n",
    "print(X_train.shape)\n",
    "print(X_test.shape)\n",
    "print(Y_train.shape)\n",
    "print(Y_test.shape)"
   ]
  },
  {
   "cell_type": "code",
   "execution_count": 114,
   "metadata": {
    "collapsed": false
   },
   "outputs": [
    {
     "name": "stdout",
     "output_type": "stream",
     "text": [
      "R-squared for training data: \n",
      "0.883026363145\n",
      "\n",
      "R-squared for test data: \n",
      "0.61688027203\n",
      "\n",
      "predictions for 5 five states in the test set:\n",
      "[ 5.95333333  4.52505952  4.4764881   4.68023413  4.2047381 ]\n",
      "\n",
      "Mean squared error on the test set: \n",
      "0.261911588029\n",
      "Mean squared error on the training set: \n",
      "0.128987185015\n"
     ]
    }
   ],
   "source": [
    "# Create an instance of the Random Forest model.\n",
    "rf = RandomForestRegressor(random_state = 1)\n",
    "\n",
    "# Now, train the model with all the 8 predictors only using the training set\n",
    "rf.fit(X_train, Y_train)\n",
    "#rf.predict(X_train)\n",
    "\n",
    "# First, we can check to see how much of the variance in the training data is captured by the model.\n",
    "# We can compute R-squared for this (also referred to as the coefficient of determination).\n",
    "print(\"R-squared for training data: \")\n",
    "print(rf.score(X_train,Y_train))\n",
    "print()\n",
    "print(\"R-squared for test data: \")\n",
    "print(rf.score(X_test,Y_test))\n",
    "print()\n",
    "\n",
    "# Predict the output on the test set and print the first five values\n",
    "print(\"predictions for 5 five states in the test set:\")\n",
    "print(rf.predict(X_test)[0:5])\n",
    "print()\n",
    "\n",
    "# Look at the mean squared error on the test set first and then on the training set.\n",
    "from sklearn.metrics import mean_squared_error\n",
    "print(\"Mean squared error on the test set: \")\n",
    "print(mean_squared_error(Y_test, rf.predict(X_test)))\n",
    "print(\"Mean squared error on the training set: \")\n",
    "print(mean_squared_error(Y_train, rf.predict(X_train)))"
   ]
  },
  {
   "cell_type": "code",
   "execution_count": 115,
   "metadata": {
    "collapsed": false
   },
   "outputs": [
    {
     "data": {
      "text/plain": [
       "array([ 0.01719958,  0.02753011,  0.17032877,  0.3233191 ,  0.06122576,\n",
       "        0.00353413,  0.00862843,  0.02039921,  0.00784543,  0.0021564 ,\n",
       "        0.09736461,  0.04847605,  0.09465962,  0.11733281])"
      ]
     },
     "execution_count": 115,
     "metadata": {},
     "output_type": "execute_result"
    }
   ],
   "source": [
    "# Relative importance of features\n",
    "fimp = rf.feature_importances_\n",
    "fimp"
   ]
  },
  {
   "cell_type": "code",
   "execution_count": 116,
   "metadata": {
    "collapsed": false
   },
   "outputs": [
    {
     "data": {
      "image/png": "[encoded data removed]",
      "text/plain": [
       "<matplotlib.figure.Figure at 0x21ef511c908>"
      ]
     },
     "metadata": {},
     "output_type": "display_data"
    }
   ],
   "source": [
    "# Plotting ranked features\n",
    "name_list = df_X.columns\n",
    "fimp, name_list = zip(*sorted(zip(fimp, name_list)))\n",
    "plt.barh(range(len(name_list)),fimp,align='center')\n",
    "plt.yticks(range(len(name_list)),name_list)\n",
    "plt.xlabel('Relative Importance in the Random Forest')\n",
    "plt.ylabel('Features')\n",
    "plt.title('Relative importance of Each Feature')\n",
    "plt.show()"
   ]
  },
  {
   "cell_type": "code",
   "execution_count": null,
   "metadata": {
    "collapsed": true
   },
   "outputs": [],
   "source": []
  },
  {
   "cell_type": "markdown",
   "metadata": {},
   "source": [
    "## Random Forest for Stroke"
   ]
  },
  {
   "cell_type": "code",
   "execution_count": 117,
   "metadata": {
    "collapsed": true
   },
   "outputs": [],
   "source": [
    "# Defining independent and dependent variables for regression\n",
    "X = df_X.values\n",
    "Y = df_merged['Stroke'].values"
   ]
  },
  {
   "cell_type": "code",
   "execution_count": 118,
   "metadata": {
    "collapsed": false
   },
   "outputs": [
    {
     "name": "stdout",
     "output_type": "stream",
     "text": [
      "(40, 14)\n",
      "(10, 14)\n",
      "(40,)\n",
      "(10,)\n"
     ]
    }
   ],
   "source": [
    "# Random 80:20 split for training:testing\n",
    "from sklearn.linear_model import LinearRegression\n",
    "from sklearn.model_selection import train_test_split\n",
    "\n",
    "\n",
    "X_train, X_test, Y_train, Y_test = train_test_split(X, Y, test_size=0.20, random_state = 5)\n",
    "print(X_train.shape)\n",
    "print(X_test.shape)\n",
    "print(Y_train.shape)\n",
    "print(Y_test.shape)"
   ]
  },
  {
   "cell_type": "code",
   "execution_count": 119,
   "metadata": {
    "collapsed": false
   },
   "outputs": [
    {
     "name": "stdout",
     "output_type": "stream",
     "text": [
      "R-squared for training data: \n",
      "0.896494936695\n",
      "\n",
      "R-squared for test data: \n",
      "0.682047543479\n",
      "\n",
      "predictions for 5 five states in the test set:\n",
      "[ 3.72558333  3.13533333  2.97934921  3.16140476  3.06738492]\n",
      "\n",
      "Mean squared error on the test set: \n",
      "0.277858917796\n",
      "Mean squared error on the training set: \n",
      "0.0520358452117\n"
     ]
    }
   ],
   "source": [
    "# Create an instance of the Random Forest model.\n",
    "rf = RandomForestRegressor(random_state = 1)\n",
    "\n",
    "# Now, train the model with all the 8 predictors only using the training set\n",
    "rf.fit(X_train, Y_train)\n",
    "#rf.predict(X_train)\n",
    "\n",
    "# First, we can check to see how much of the variance in the training data is captured by the model.\n",
    "# We can compute R-squared for this (also referred to as the coefficient of determination).\n",
    "print(\"R-squared for training data: \")\n",
    "print(rf.score(X_train,Y_train))\n",
    "print()\n",
    "print(\"R-squared for test data: \")\n",
    "print(rf.score(X_test,Y_test))\n",
    "print()\n",
    "\n",
    "# Predict the output on the test set and print the first five values\n",
    "print(\"predictions for 5 five states in the test set:\")\n",
    "print(rf.predict(X_test)[0:5])\n",
    "print()\n",
    "\n",
    "# Look at the mean squared error on the test set first and then on the training set.\n",
    "from sklearn.metrics import mean_squared_error\n",
    "print(\"Mean squared error on the test set: \")\n",
    "print(mean_squared_error(Y_test, rf.predict(X_test)))\n",
    "print(\"Mean squared error on the training set: \")\n",
    "print(mean_squared_error(Y_train, rf.predict(X_train)))"
   ]
  },
  {
   "cell_type": "code",
   "execution_count": 120,
   "metadata": {
    "collapsed": false
   },
   "outputs": [
    {
     "data": {
      "text/plain": [
       "array([ 0.03743626,  0.01300847,  0.01632834,  0.00815211,  0.05706818,\n",
       "        0.03738945,  0.00739599,  0.01970379,  0.06129206,  0.03878986,\n",
       "        0.28888758,  0.10812136,  0.06992428,  0.23650227])"
      ]
     },
     "execution_count": 120,
     "metadata": {},
     "output_type": "execute_result"
    }
   ],
   "source": [
    "# Relative importance of features\n",
    "fimp = rf.feature_importances_\n",
    "fimp"
   ]
  },
  {
   "cell_type": "code",
   "execution_count": 121,
   "metadata": {
    "collapsed": false
   },
   "outputs": [
    {
     "data": {
      "image/png": "[encoded data removed]",
      "text/plain": [
       "<matplotlib.figure.Figure at 0x21ef2274f98>"
      ]
     },
     "metadata": {},
     "output_type": "display_data"
    }
   ],
   "source": [
    "# Plotting ranked features\n",
    "name_list = df_X.columns\n",
    "fimp, name_list = zip(*sorted(zip(fimp, name_list)))\n",
    "plt.barh(range(len(name_list)),fimp,align='center')\n",
    "plt.yticks(range(len(name_list)),name_list)\n",
    "plt.xlabel('Relative Importance in the Random Forest')\n",
    "plt.ylabel('Features')\n",
    "plt.title('Relative importance of Each Feature')\n",
    "plt.show()"
   ]
  },
  {
   "cell_type": "code",
   "execution_count": null,
   "metadata": {
    "collapsed": true
   },
   "outputs": [],
   "source": []
  },
  {
   "cell_type": "code",
   "execution_count": null,
   "metadata": {
    "collapsed": true
   },
   "outputs": [],
   "source": []
  }
 ],
 "metadata": {
  "anaconda-cloud": {},
  "kernelspec": {
   "display_name": "Python [default]",
   "language": "python",
   "name": "python3"
  },
  "language_info": {
   "codemirror_mode": {
    "name": "ipython",
    "version": 3
   },
   "file_extension": ".py",
   "mimetype": "text/x-python",
   "name": "python",
   "nbconvert_exporter": "python",
   "pygments_lexer": "ipython3",
   "version": "3.5.2"
  }
 },
 "nbformat": 4,
 "nbformat_minor": 1
}
