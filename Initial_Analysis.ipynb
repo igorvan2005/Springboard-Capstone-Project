{
 "cells": [
  {
   "cell_type": "markdown",
   "metadata": {},
   "source": [
    "## Assessing risk factors linked to cardiovascular diseases among US population in the light of socioeconomic and geographic factors"
   ]
  },
  {
   "cell_type": "markdown",
   "metadata": {},
   "source": [
    "## Questions:\n",
    "\n",
    "1)\tIs there a correlation between the prevalence of health risk factors (obesity, physical inactivity, cholesterol level, hypertension, smoking, and diabetes) and cardiovascular diseases (coronary heart disease, stroke, and heart attack)\n",
    "\n",
    "2)\tDoes the variation of the prevalence of health risk factors and cardiovascular diseases in different states fit any model\n",
    "\n",
    "3)\tIs there any correlation between the prevalence of health risk factors and cardiovascular diseases in different states and their socioeconomic (education, GDP, household income, and healthcare spending) and geographic factors (climate and location)\n",
    "\n",
    "4)\tWhat is the rank of the prevalence of health risk factors and cardiovascular diseases dependent in different break out groups (age: 25-44, 45-64, 65+; gender: male and female; race/ethnicity: non-hispanic white, non-hispanic black, hispanic, and others)\n"
   ]
  },
  {
   "cell_type": "code",
   "execution_count": 1,
   "metadata": {
    "collapsed": false
   },
   "outputs": [],
   "source": [
    "%matplotlib inline\n",
    "import pandas as pd\n",
    "import matplotlib.pyplot as plt"
   ]
  },
  {
   "cell_type": "code",
   "execution_count": 2,
   "metadata": {
    "collapsed": false
   },
   "outputs": [
    {
     "data": {
      "text/html": [
       "<style>body {\n",
       "    margin: 0;\n",
       "    font-family: Helvetica;\n",
       "}\n",
       "table.dataframe {\n",
       "    border-collapse: collapse;\n",
       "    border: none;\n",
       "}\n",
       "table.dataframe tr {\n",
       "    border: none;\n",
       "}\n",
       "table.dataframe td, table.dataframe th {\n",
       "    margin: 0;\n",
       "    border: 1px solid white;\n",
       "    padding-left: 0.25em;\n",
       "    padding-right: 0.25em;\n",
       "}\n",
       "table.dataframe th:not(:empty) {\n",
       "    background-color: #fec;\n",
       "    text-align: left;\n",
       "    font-weight: normal;\n",
       "}\n",
       "table.dataframe tr:nth-child(2) th:empty {\n",
       "    border-left: none;\n",
       "    border-right: 1px dashed #888;\n",
       "}\n",
       "table.dataframe td {\n",
       "    border: 2px solid #ccf;\n",
       "    background-color: #f4f4ff;\n",
       "}\n",
       "h3 {\n",
       "    color: white;\n",
       "    background-color: black;\n",
       "    padding: 0.5em;\n",
       "}\n",
       "</style>"
      ],
      "text/plain": [
       "<IPython.core.display.HTML object>"
      ]
     },
     "execution_count": 2,
     "metadata": {},
     "output_type": "execute_result"
    }
   ],
   "source": [
    "from IPython.core.display import HTML\n",
    "css = open('style-table.css').read() + open('style-notebook.css').read()\n",
    "HTML('<style>{}</style>'.format(css))"
   ]
  },
  {
   "cell_type": "code",
   "execution_count": 3,
   "metadata": {
    "collapsed": false
   },
   "outputs": [
    {
     "data": {
      "text/html": [
       "<div>\n",
       "<table border=\"1\" class=\"dataframe\">\n",
       "  <thead>\n",
       "    <tr style=\"text-align: right;\">\n",
       "      <th></th>\n",
       "      <th>Year</th>\n",
       "      <th>LocationAbbr</th>\n",
       "      <th>LocationDesc</th>\n",
       "      <th>Category</th>\n",
       "      <th>Topic</th>\n",
       "      <th>Indicator</th>\n",
       "      <th>Break_Out_Category</th>\n",
       "      <th>Break_out</th>\n",
       "      <th>Data_Value_Unit</th>\n",
       "      <th>Data_Value</th>\n",
       "      <th>Data_Value_Footnote</th>\n",
       "      <th>Confidence_Limit_Low</th>\n",
       "      <th>Confidence_Limit_High</th>\n",
       "      <th>IndicatorID</th>\n",
       "      <th>BreakoutCategoryID</th>\n",
       "      <th>BreakOutID</th>\n",
       "      <th>LocationID</th>\n",
       "      <th>GeoLocation</th>\n",
       "    </tr>\n",
       "  </thead>\n",
       "  <tbody>\n",
       "    <tr>\n",
       "      <th>0</th>\n",
       "      <td>2011</td>\n",
       "      <td>NV</td>\n",
       "      <td>Nevada</td>\n",
       "      <td>Cardiovascular Diseases</td>\n",
       "      <td>Coronary Heart Disease</td>\n",
       "      <td>Prevalence of coronary heart disease among US ...</td>\n",
       "      <td>Age</td>\n",
       "      <td>25-44</td>\n",
       "      <td>%</td>\n",
       "      <td>NaN</td>\n",
       "      <td>Statistically unstable estimates not presented...</td>\n",
       "      <td>NaN</td>\n",
       "      <td>NaN</td>\n",
       "      <td>BR001</td>\n",
       "      <td>BOC03</td>\n",
       "      <td>AGE04</td>\n",
       "      <td>32.0</td>\n",
       "      <td>(39.493240390000494, -117.07184056399967)</td>\n",
       "    </tr>\n",
       "  </tbody>\n",
       "</table>\n",
       "</div>"
      ],
      "text/plain": [
       "   Year LocationAbbr LocationDesc                 Category  \\\n",
       "0  2011           NV       Nevada  Cardiovascular Diseases   \n",
       "\n",
       "                    Topic                                          Indicator  \\\n",
       "0  Coronary Heart Disease  Prevalence of coronary heart disease among US ...   \n",
       "\n",
       "  Break_Out_Category Break_out Data_Value_Unit  Data_Value  \\\n",
       "0                Age     25-44               %         NaN   \n",
       "\n",
       "                                 Data_Value_Footnote  Confidence_Limit_Low  \\\n",
       "0  Statistically unstable estimates not presented...                   NaN   \n",
       "\n",
       "   Confidence_Limit_High IndicatorID BreakoutCategoryID BreakOutID  \\\n",
       "0                    NaN       BR001              BOC03      AGE04   \n",
       "\n",
       "   LocationID                                GeoLocation  \n",
       "0        32.0  (39.493240390000494, -117.07184056399967)  "
      ]
     },
     "execution_count": 3,
     "metadata": {},
     "output_type": "execute_result"
    }
   ],
   "source": [
    "# Importing data from Data.gov (https://catalog.data.gov/dataset/behavioral-risk-factor-data-heart-disease-amp-stroke-prevention) into a data frame\n",
    "df = pd.DataFrame.from_csv(r'C:\\Users\\Igor\\Jupyter_Notebook_Projects\\Capstone project\\Risk_Factor_vs_Heart_Disease_Simplified.csv', index_col=None)\n",
    "df.head(1)"
   ]
  },
  {
   "cell_type": "markdown",
   "metadata": {},
   "source": [
    "## Data Wrangling"
   ]
  },
  {
   "cell_type": "code",
   "execution_count": 4,
   "metadata": {
    "collapsed": false
   },
   "outputs": [],
   "source": [
    "# Cleaning data: removing repetitive age categories, 'Nutrition' topic, 'Overall' break_out and\n",
    "# average US LocationID rows, selecting year\n",
    "a = df.Break_out != '35+'\n",
    "b = df.Break_out != '75+'\n",
    "c = df.Break_out != '20-24'\n",
    "d = df.Year == 2013\n",
    "g = df.Break_out != 'Overall'\n",
    "h = df.LocationID != 0.5\n",
    "i = df.Topic != 'Nutrition'\n",
    "df1 = df[(a) & (b) & (c) & (d) & (g) & (h) & (i)] # creating a new df1"
   ]
  },
  {
   "cell_type": "code",
   "execution_count": 5,
   "metadata": {
    "collapsed": false
   },
   "outputs": [
    {
     "name": "stderr",
     "output_type": "stream",
     "text": [
      "C:\\Users\\Igor\\Anaconda3\\lib\\site-packages\\ipykernel\\__main__.py:3: UserWarning: Boolean Series key will be reindexed to match DataFrame index.\n",
      "  app.launch_new_instance()\n"
     ]
    }
   ],
   "source": [
    "# Cleaning data: removing repetitive indicators and creating a new df2\n",
    "list = ('post-hospitalization', 'Objective 6', 'Objective 7', 'screening', 'Objective 5', 'Objective 11', 'hypertension medication', 'Objective 8', 'Objective 9')\n",
    "df2 = df1[~df.Indicator.str.contains('|'.join(list))]"
   ]
  },
  {
   "cell_type": "code",
   "execution_count": 6,
   "metadata": {
    "collapsed": false
   },
   "outputs": [],
   "source": [
    "# Cleaning data: ren=moving rows with NaN Data_Values and creating a new df3\n",
    "df3 = df2.dropna(subset=['Data_Value'])"
   ]
  },
  {
   "cell_type": "code",
   "execution_count": 7,
   "metadata": {
    "collapsed": false
   },
   "outputs": [
    {
     "name": "stdout",
     "output_type": "stream",
     "text": [
      "35004\n",
      "9079\n",
      "4641\n",
      "3886\n"
     ]
    }
   ],
   "source": [
    "# Comparing the number of rows in data frames after cleaning\n",
    "print(len(df))\n",
    "print(len(df1))\n",
    "print(len(df2))\n",
    "print(len(df3))"
   ]
  },
  {
   "cell_type": "code",
   "execution_count": 8,
   "metadata": {
    "collapsed": false
   },
   "outputs": [
    {
     "data": {
      "text/html": [
       "<div>\n",
       "<table border=\"1\" class=\"dataframe\">\n",
       "  <thead>\n",
       "    <tr style=\"text-align: right;\">\n",
       "      <th></th>\n",
       "      <th>Year</th>\n",
       "      <th>LocationAbbr</th>\n",
       "      <th>LocationDesc</th>\n",
       "      <th>Category</th>\n",
       "      <th>Topic</th>\n",
       "      <th>Indicator</th>\n",
       "      <th>Break_Out_Category</th>\n",
       "      <th>Break_out</th>\n",
       "      <th>Data_Value_Unit</th>\n",
       "      <th>Data_Value</th>\n",
       "      <th>Data_Value_Footnote</th>\n",
       "      <th>Confidence_Limit_Low</th>\n",
       "      <th>Confidence_Limit_High</th>\n",
       "      <th>IndicatorID</th>\n",
       "      <th>BreakoutCategoryID</th>\n",
       "      <th>BreakOutID</th>\n",
       "      <th>LocationID</th>\n",
       "      <th>GeoLocation</th>\n",
       "    </tr>\n",
       "  </thead>\n",
       "  <tbody>\n",
       "    <tr>\n",
       "      <th>744</th>\n",
       "      <td>2013</td>\n",
       "      <td>NJ</td>\n",
       "      <td>New Jersey</td>\n",
       "      <td>Cardiovascular Diseases</td>\n",
       "      <td>Coronary Heart Disease</td>\n",
       "      <td>Prevalence of coronary heart disease among US ...</td>\n",
       "      <td>Age</td>\n",
       "      <td>25-44</td>\n",
       "      <td>%</td>\n",
       "      <td>0.6</td>\n",
       "      <td>NaN</td>\n",
       "      <td>0.4</td>\n",
       "      <td>1.0</td>\n",
       "      <td>BR001</td>\n",
       "      <td>BOC03</td>\n",
       "      <td>AGE04</td>\n",
       "      <td>34.0</td>\n",
       "      <td>(40.13057004800049, -74.27369128799967)</td>\n",
       "    </tr>\n",
       "  </tbody>\n",
       "</table>\n",
       "</div>"
      ],
      "text/plain": [
       "     Year LocationAbbr LocationDesc                 Category  \\\n",
       "744  2013           NJ   New Jersey  Cardiovascular Diseases   \n",
       "\n",
       "                      Topic  \\\n",
       "744  Coronary Heart Disease   \n",
       "\n",
       "                                             Indicator Break_Out_Category  \\\n",
       "744  Prevalence of coronary heart disease among US ...                Age   \n",
       "\n",
       "    Break_out Data_Value_Unit  Data_Value Data_Value_Footnote  \\\n",
       "744     25-44               %         0.6                 NaN   \n",
       "\n",
       "     Confidence_Limit_Low  Confidence_Limit_High IndicatorID  \\\n",
       "744                   0.4                    1.0       BR001   \n",
       "\n",
       "    BreakoutCategoryID BreakOutID  LocationID  \\\n",
       "744              BOC03      AGE04        34.0   \n",
       "\n",
       "                                 GeoLocation  \n",
       "744  (40.13057004800049, -74.27369128799967)  "
      ]
     },
     "execution_count": 8,
     "metadata": {},
     "output_type": "execute_result"
    }
   ],
   "source": [
    "# Checking df3\n",
    "df3.head(1)"
   ]
  },
  {
   "cell_type": "markdown",
   "metadata": {},
   "source": [
    "## Data Analysis: CVDs and Risk Factors vs states"
   ]
  },
  {
   "cell_type": "code",
   "execution_count": 9,
   "metadata": {
    "collapsed": false
   },
   "outputs": [
    {
     "data": {
      "text/html": [
       "<div>\n",
       "<table border=\"1\" class=\"dataframe\">\n",
       "  <thead>\n",
       "    <tr style=\"text-align: right;\">\n",
       "      <th>Topic</th>\n",
       "      <th>Acute Myocardial Infarction (Heart Attack)</th>\n",
       "      <th>Cholesterol Abnormalities</th>\n",
       "      <th>Coronary Heart Disease</th>\n",
       "      <th>Diabetes</th>\n",
       "      <th>Hypertension</th>\n",
       "      <th>Obesity</th>\n",
       "      <th>Physical Inactivity</th>\n",
       "      <th>Smoking</th>\n",
       "      <th>Stroke</th>\n",
       "    </tr>\n",
       "    <tr>\n",
       "      <th>LocationDesc</th>\n",
       "      <th></th>\n",
       "      <th></th>\n",
       "      <th></th>\n",
       "      <th></th>\n",
       "      <th></th>\n",
       "      <th></th>\n",
       "      <th></th>\n",
       "      <th></th>\n",
       "      <th></th>\n",
       "    </tr>\n",
       "  </thead>\n",
       "  <tbody>\n",
       "    <tr>\n",
       "      <th>Utah</th>\n",
       "      <td>4.350000</td>\n",
       "      <td>35.290000</td>\n",
       "      <td>3.966667</td>\n",
       "      <td>10.877778</td>\n",
       "      <td>28.150000</td>\n",
       "      <td>26.640000</td>\n",
       "      <td>22.640000</td>\n",
       "      <td>11.666667</td>\n",
       "      <td>2.850000</td>\n",
       "    </tr>\n",
       "    <tr>\n",
       "      <th>California</th>\n",
       "      <td>4.033333</td>\n",
       "      <td>37.830000</td>\n",
       "      <td>3.537500</td>\n",
       "      <td>12.544444</td>\n",
       "      <td>30.440000</td>\n",
       "      <td>26.250000</td>\n",
       "      <td>21.680000</td>\n",
       "      <td>12.927273</td>\n",
       "      <td>2.644444</td>\n",
       "    </tr>\n",
       "    <tr>\n",
       "      <th>Hawaii</th>\n",
       "      <td>3.728571</td>\n",
       "      <td>34.140000</td>\n",
       "      <td>3.314286</td>\n",
       "      <td>9.037500</td>\n",
       "      <td>28.390000</td>\n",
       "      <td>25.988889</td>\n",
       "      <td>21.666667</td>\n",
       "      <td>13.588889</td>\n",
       "      <td>3.400000</td>\n",
       "    </tr>\n",
       "    <tr>\n",
       "      <th>New Jersey</th>\n",
       "      <td>4.466667</td>\n",
       "      <td>39.560000</td>\n",
       "      <td>4.250000</td>\n",
       "      <td>10.488889</td>\n",
       "      <td>30.830000</td>\n",
       "      <td>27.890000</td>\n",
       "      <td>27.740000</td>\n",
       "      <td>15.000000</td>\n",
       "      <td>3.112500</td>\n",
       "    </tr>\n",
       "    <tr>\n",
       "      <th>Maryland</th>\n",
       "      <td>4.742857</td>\n",
       "      <td>37.350000</td>\n",
       "      <td>4.466667</td>\n",
       "      <td>11.522222</td>\n",
       "      <td>31.970000</td>\n",
       "      <td>27.470000</td>\n",
       "      <td>25.650000</td>\n",
       "      <td>16.300000</td>\n",
       "      <td>3.314286</td>\n",
       "    </tr>\n",
       "    <tr>\n",
       "      <th>Texas</th>\n",
       "      <td>5.262500</td>\n",
       "      <td>37.110000</td>\n",
       "      <td>5.328571</td>\n",
       "      <td>12.444444</td>\n",
       "      <td>33.060000</td>\n",
       "      <td>30.600000</td>\n",
       "      <td>28.770000</td>\n",
       "      <td>16.372727</td>\n",
       "      <td>3.112500</td>\n",
       "    </tr>\n",
       "    <tr>\n",
       "      <th>Washington</th>\n",
       "      <td>4.742857</td>\n",
       "      <td>34.900000</td>\n",
       "      <td>5.928571</td>\n",
       "      <td>10.522222</td>\n",
       "      <td>30.960000</td>\n",
       "      <td>29.210000</td>\n",
       "      <td>21.350000</td>\n",
       "      <td>16.527273</td>\n",
       "      <td>3.580000</td>\n",
       "    </tr>\n",
       "    <tr>\n",
       "      <th>Arizona</th>\n",
       "      <td>5.300000</td>\n",
       "      <td>39.655556</td>\n",
       "      <td>5.460000</td>\n",
       "      <td>12.622222</td>\n",
       "      <td>34.522222</td>\n",
       "      <td>31.266667</td>\n",
       "      <td>27.080000</td>\n",
       "      <td>16.811111</td>\n",
       "      <td>3.720000</td>\n",
       "    </tr>\n",
       "  </tbody>\n",
       "</table>\n",
       "</div>"
      ],
      "text/plain": [
       "Topic         Acute Myocardial Infarction (Heart Attack)  \\\n",
       "LocationDesc                                               \n",
       "Utah                                            4.350000   \n",
       "California                                      4.033333   \n",
       "Hawaii                                          3.728571   \n",
       "New Jersey                                      4.466667   \n",
       "Maryland                                        4.742857   \n",
       "Texas                                           5.262500   \n",
       "Washington                                      4.742857   \n",
       "Arizona                                         5.300000   \n",
       "\n",
       "Topic         Cholesterol Abnormalities  Coronary Heart Disease   Diabetes  \\\n",
       "LocationDesc                                                                 \n",
       "Utah                          35.290000                3.966667  10.877778   \n",
       "California                    37.830000                3.537500  12.544444   \n",
       "Hawaii                        34.140000                3.314286   9.037500   \n",
       "New Jersey                    39.560000                4.250000  10.488889   \n",
       "Maryland                      37.350000                4.466667  11.522222   \n",
       "Texas                         37.110000                5.328571  12.444444   \n",
       "Washington                    34.900000                5.928571  10.522222   \n",
       "Arizona                       39.655556                5.460000  12.622222   \n",
       "\n",
       "Topic         Hypertension    Obesity  Physical Inactivity    Smoking  \\\n",
       "LocationDesc                                                            \n",
       "Utah             28.150000  26.640000            22.640000  11.666667   \n",
       "California       30.440000  26.250000            21.680000  12.927273   \n",
       "Hawaii           28.390000  25.988889            21.666667  13.588889   \n",
       "New Jersey       30.830000  27.890000            27.740000  15.000000   \n",
       "Maryland         31.970000  27.470000            25.650000  16.300000   \n",
       "Texas            33.060000  30.600000            28.770000  16.372727   \n",
       "Washington       30.960000  29.210000            21.350000  16.527273   \n",
       "Arizona          34.522222  31.266667            27.080000  16.811111   \n",
       "\n",
       "Topic           Stroke  \n",
       "LocationDesc            \n",
       "Utah          2.850000  \n",
       "California    2.644444  \n",
       "Hawaii        3.400000  \n",
       "New Jersey    3.112500  \n",
       "Maryland      3.314286  \n",
       "Texas         3.112500  \n",
       "Washington    3.580000  \n",
       "Arizona       3.720000  "
      ]
     },
     "execution_count": 9,
     "metadata": {},
     "output_type": "execute_result"
    }
   ],
   "source": [
    "# Selecting 8 states with lowest combined prevalence of 6 risk factors\n",
    "df3.groupby(['LocationDesc', 'Topic']).Data_Value.mean().unstack().sort_values(['Smoking', 'Obesity', 'Hypertension', 'Physical Inactivity', 'Diabetes', 'Cholesterol Abnormalities']).head(8)"
   ]
  },
  {
   "cell_type": "code",
   "execution_count": 10,
   "metadata": {
    "collapsed": false,
    "scrolled": true
   },
   "outputs": [
    {
     "data": {
      "text/html": [
       "<div>\n",
       "<table border=\"1\" class=\"dataframe\">\n",
       "  <thead>\n",
       "    <tr style=\"text-align: right;\">\n",
       "      <th>Topic</th>\n",
       "      <th>Acute Myocardial Infarction (Heart Attack)</th>\n",
       "      <th>Cholesterol Abnormalities</th>\n",
       "      <th>Coronary Heart Disease</th>\n",
       "      <th>Diabetes</th>\n",
       "      <th>Hypertension</th>\n",
       "      <th>Obesity</th>\n",
       "      <th>Physical Inactivity</th>\n",
       "      <th>Smoking</th>\n",
       "      <th>Stroke</th>\n",
       "    </tr>\n",
       "    <tr>\n",
       "      <th>LocationDesc</th>\n",
       "      <th></th>\n",
       "      <th></th>\n",
       "      <th></th>\n",
       "      <th></th>\n",
       "      <th></th>\n",
       "      <th></th>\n",
       "      <th></th>\n",
       "      <th></th>\n",
       "      <th></th>\n",
       "    </tr>\n",
       "  </thead>\n",
       "  <tbody>\n",
       "    <tr>\n",
       "      <th>Tennessee</th>\n",
       "      <td>7.542857</td>\n",
       "      <td>37.637500</td>\n",
       "      <td>8.066667</td>\n",
       "      <td>13.557143</td>\n",
       "      <td>40.35</td>\n",
       "      <td>35.671429</td>\n",
       "      <td>35.855556</td>\n",
       "      <td>23.712500</td>\n",
       "      <td>4.542857</td>\n",
       "    </tr>\n",
       "    <tr>\n",
       "      <th>Oklahoma</th>\n",
       "      <td>6.000000</td>\n",
       "      <td>39.510000</td>\n",
       "      <td>5.850000</td>\n",
       "      <td>13.088889</td>\n",
       "      <td>37.28</td>\n",
       "      <td>32.450000</td>\n",
       "      <td>33.600000</td>\n",
       "      <td>24.420000</td>\n",
       "      <td>4.112500</td>\n",
       "    </tr>\n",
       "    <tr>\n",
       "      <th>North Dakota</th>\n",
       "      <td>5.900000</td>\n",
       "      <td>35.622222</td>\n",
       "      <td>5.920000</td>\n",
       "      <td>10.842857</td>\n",
       "      <td>30.80</td>\n",
       "      <td>33.062500</td>\n",
       "      <td>27.222222</td>\n",
       "      <td>24.800000</td>\n",
       "      <td>3.420000</td>\n",
       "    </tr>\n",
       "    <tr>\n",
       "      <th>Arkansas</th>\n",
       "      <td>6.383333</td>\n",
       "      <td>41.210000</td>\n",
       "      <td>7.357143</td>\n",
       "      <td>12.914286</td>\n",
       "      <td>37.14</td>\n",
       "      <td>35.166667</td>\n",
       "      <td>33.970000</td>\n",
       "      <td>24.830000</td>\n",
       "      <td>5.771429</td>\n",
       "    </tr>\n",
       "    <tr>\n",
       "      <th>Ohio</th>\n",
       "      <td>6.375000</td>\n",
       "      <td>37.990000</td>\n",
       "      <td>5.716667</td>\n",
       "      <td>12.155556</td>\n",
       "      <td>31.64</td>\n",
       "      <td>30.722222</td>\n",
       "      <td>27.910000</td>\n",
       "      <td>25.670000</td>\n",
       "      <td>4.462500</td>\n",
       "    </tr>\n",
       "    <tr>\n",
       "      <th>Mississippi</th>\n",
       "      <td>5.728571</td>\n",
       "      <td>40.340000</td>\n",
       "      <td>6.350000</td>\n",
       "      <td>14.900000</td>\n",
       "      <td>39.36</td>\n",
       "      <td>38.177778</td>\n",
       "      <td>37.740000</td>\n",
       "      <td>25.844444</td>\n",
       "      <td>5.157143</td>\n",
       "    </tr>\n",
       "    <tr>\n",
       "      <th>Kentucky</th>\n",
       "      <td>6.742857</td>\n",
       "      <td>40.770000</td>\n",
       "      <td>6.557143</td>\n",
       "      <td>11.885714</td>\n",
       "      <td>37.04</td>\n",
       "      <td>35.233333</td>\n",
       "      <td>28.860000</td>\n",
       "      <td>27.020000</td>\n",
       "      <td>4.685714</td>\n",
       "    </tr>\n",
       "    <tr>\n",
       "      <th>West Virginia</th>\n",
       "      <td>8.383333</td>\n",
       "      <td>39.870000</td>\n",
       "      <td>7.900000</td>\n",
       "      <td>14.162500</td>\n",
       "      <td>39.96</td>\n",
       "      <td>38.466667</td>\n",
       "      <td>29.622222</td>\n",
       "      <td>29.970000</td>\n",
       "      <td>4.133333</td>\n",
       "    </tr>\n",
       "  </tbody>\n",
       "</table>\n",
       "</div>"
      ],
      "text/plain": [
       "Topic          Acute Myocardial Infarction (Heart Attack)  \\\n",
       "LocationDesc                                                \n",
       "Tennessee                                        7.542857   \n",
       "Oklahoma                                         6.000000   \n",
       "North Dakota                                     5.900000   \n",
       "Arkansas                                         6.383333   \n",
       "Ohio                                             6.375000   \n",
       "Mississippi                                      5.728571   \n",
       "Kentucky                                         6.742857   \n",
       "West Virginia                                    8.383333   \n",
       "\n",
       "Topic          Cholesterol Abnormalities  Coronary Heart Disease   Diabetes  \\\n",
       "LocationDesc                                                                  \n",
       "Tennessee                      37.637500                8.066667  13.557143   \n",
       "Oklahoma                       39.510000                5.850000  13.088889   \n",
       "North Dakota                   35.622222                5.920000  10.842857   \n",
       "Arkansas                       41.210000                7.357143  12.914286   \n",
       "Ohio                           37.990000                5.716667  12.155556   \n",
       "Mississippi                    40.340000                6.350000  14.900000   \n",
       "Kentucky                       40.770000                6.557143  11.885714   \n",
       "West Virginia                  39.870000                7.900000  14.162500   \n",
       "\n",
       "Topic          Hypertension    Obesity  Physical Inactivity    Smoking  \\\n",
       "LocationDesc                                                             \n",
       "Tennessee             40.35  35.671429            35.855556  23.712500   \n",
       "Oklahoma              37.28  32.450000            33.600000  24.420000   \n",
       "North Dakota          30.80  33.062500            27.222222  24.800000   \n",
       "Arkansas              37.14  35.166667            33.970000  24.830000   \n",
       "Ohio                  31.64  30.722222            27.910000  25.670000   \n",
       "Mississippi           39.36  38.177778            37.740000  25.844444   \n",
       "Kentucky              37.04  35.233333            28.860000  27.020000   \n",
       "West Virginia         39.96  38.466667            29.622222  29.970000   \n",
       "\n",
       "Topic            Stroke  \n",
       "LocationDesc             \n",
       "Tennessee      4.542857  \n",
       "Oklahoma       4.112500  \n",
       "North Dakota   3.420000  \n",
       "Arkansas       5.771429  \n",
       "Ohio           4.462500  \n",
       "Mississippi    5.157143  \n",
       "Kentucky       4.685714  \n",
       "West Virginia  4.133333  "
      ]
     },
     "execution_count": 10,
     "metadata": {},
     "output_type": "execute_result"
    }
   ],
   "source": [
    "# Selecting 8 states with highest combined prevalence of 6 risk factors\n",
    "df3.groupby(['LocationDesc', 'Topic']).Data_Value.mean().unstack().sort_values(['Smoking', 'Obesity', 'Hypertension', 'Physical Inactivity', 'Diabetes', 'Cholesterol Abnormalities']).tail(8)"
   ]
  },
  {
   "cell_type": "code",
   "execution_count": 11,
   "metadata": {
    "collapsed": false
   },
   "outputs": [
    {
     "data": {
      "text/html": [
       "<div>\n",
       "<table border=\"1\" class=\"dataframe\">\n",
       "  <thead>\n",
       "    <tr style=\"text-align: right;\">\n",
       "      <th>Topic</th>\n",
       "      <th>Acute Myocardial Infarction (Heart Attack)</th>\n",
       "      <th>Cholesterol Abnormalities</th>\n",
       "      <th>Coronary Heart Disease</th>\n",
       "      <th>Diabetes</th>\n",
       "      <th>Hypertension</th>\n",
       "      <th>Obesity</th>\n",
       "      <th>Physical Inactivity</th>\n",
       "      <th>Smoking</th>\n",
       "      <th>Stroke</th>\n",
       "    </tr>\n",
       "    <tr>\n",
       "      <th>LocationDesc</th>\n",
       "      <th></th>\n",
       "      <th></th>\n",
       "      <th></th>\n",
       "      <th></th>\n",
       "      <th></th>\n",
       "      <th></th>\n",
       "      <th></th>\n",
       "      <th></th>\n",
       "      <th></th>\n",
       "    </tr>\n",
       "  </thead>\n",
       "  <tbody>\n",
       "    <tr>\n",
       "      <th>Hawaii</th>\n",
       "      <td>3.728571</td>\n",
       "      <td>34.14</td>\n",
       "      <td>3.314286</td>\n",
       "      <td>9.037500</td>\n",
       "      <td>28.39</td>\n",
       "      <td>25.988889</td>\n",
       "      <td>21.666667</td>\n",
       "      <td>13.588889</td>\n",
       "      <td>3.400000</td>\n",
       "    </tr>\n",
       "    <tr>\n",
       "      <th>Colorado</th>\n",
       "      <td>3.987500</td>\n",
       "      <td>34.29</td>\n",
       "      <td>3.200000</td>\n",
       "      <td>8.677778</td>\n",
       "      <td>28.25</td>\n",
       "      <td>23.000000</td>\n",
       "      <td>19.040000</td>\n",
       "      <td>19.290909</td>\n",
       "      <td>2.185714</td>\n",
       "    </tr>\n",
       "    <tr>\n",
       "      <th>California</th>\n",
       "      <td>4.033333</td>\n",
       "      <td>37.83</td>\n",
       "      <td>3.537500</td>\n",
       "      <td>12.544444</td>\n",
       "      <td>30.44</td>\n",
       "      <td>26.250000</td>\n",
       "      <td>21.680000</td>\n",
       "      <td>12.927273</td>\n",
       "      <td>2.644444</td>\n",
       "    </tr>\n",
       "    <tr>\n",
       "      <th>Massachussettes</th>\n",
       "      <td>4.133333</td>\n",
       "      <td>37.69</td>\n",
       "      <td>4.025000</td>\n",
       "      <td>10.633333</td>\n",
       "      <td>29.78</td>\n",
       "      <td>27.710000</td>\n",
       "      <td>25.350000</td>\n",
       "      <td>18.318182</td>\n",
       "      <td>2.700000</td>\n",
       "    </tr>\n",
       "    <tr>\n",
       "      <th>Virginia</th>\n",
       "      <td>4.328571</td>\n",
       "      <td>39.09</td>\n",
       "      <td>5.428571</td>\n",
       "      <td>11.477778</td>\n",
       "      <td>31.49</td>\n",
       "      <td>27.520000</td>\n",
       "      <td>26.650000</td>\n",
       "      <td>19.027273</td>\n",
       "      <td>3.171429</td>\n",
       "    </tr>\n",
       "    <tr>\n",
       "      <th>Minnesota</th>\n",
       "      <td>4.340000</td>\n",
       "      <td>33.70</td>\n",
       "      <td>4.440000</td>\n",
       "      <td>9.362500</td>\n",
       "      <td>28.05</td>\n",
       "      <td>26.400000</td>\n",
       "      <td>25.640000</td>\n",
       "      <td>21.120000</td>\n",
       "      <td>2.466667</td>\n",
       "    </tr>\n",
       "    <tr>\n",
       "      <th>Utah</th>\n",
       "      <td>4.350000</td>\n",
       "      <td>35.29</td>\n",
       "      <td>3.966667</td>\n",
       "      <td>10.877778</td>\n",
       "      <td>28.15</td>\n",
       "      <td>26.640000</td>\n",
       "      <td>22.640000</td>\n",
       "      <td>11.666667</td>\n",
       "      <td>2.850000</td>\n",
       "    </tr>\n",
       "    <tr>\n",
       "      <th>New Jersey</th>\n",
       "      <td>4.466667</td>\n",
       "      <td>39.56</td>\n",
       "      <td>4.250000</td>\n",
       "      <td>10.488889</td>\n",
       "      <td>30.83</td>\n",
       "      <td>27.890000</td>\n",
       "      <td>27.740000</td>\n",
       "      <td>15.000000</td>\n",
       "      <td>3.112500</td>\n",
       "    </tr>\n",
       "  </tbody>\n",
       "</table>\n",
       "</div>"
      ],
      "text/plain": [
       "Topic            Acute Myocardial Infarction (Heart Attack)  \\\n",
       "LocationDesc                                                  \n",
       "Hawaii                                             3.728571   \n",
       "Colorado                                           3.987500   \n",
       "California                                         4.033333   \n",
       "Massachussettes                                    4.133333   \n",
       "Virginia                                           4.328571   \n",
       "Minnesota                                          4.340000   \n",
       "Utah                                               4.350000   \n",
       "New Jersey                                         4.466667   \n",
       "\n",
       "Topic            Cholesterol Abnormalities  Coronary Heart Disease   Diabetes  \\\n",
       "LocationDesc                                                                    \n",
       "Hawaii                               34.14                3.314286   9.037500   \n",
       "Colorado                             34.29                3.200000   8.677778   \n",
       "California                           37.83                3.537500  12.544444   \n",
       "Massachussettes                      37.69                4.025000  10.633333   \n",
       "Virginia                             39.09                5.428571  11.477778   \n",
       "Minnesota                            33.70                4.440000   9.362500   \n",
       "Utah                                 35.29                3.966667  10.877778   \n",
       "New Jersey                           39.56                4.250000  10.488889   \n",
       "\n",
       "Topic            Hypertension    Obesity  Physical Inactivity    Smoking  \\\n",
       "LocationDesc                                                               \n",
       "Hawaii                  28.39  25.988889            21.666667  13.588889   \n",
       "Colorado                28.25  23.000000            19.040000  19.290909   \n",
       "California              30.44  26.250000            21.680000  12.927273   \n",
       "Massachussettes         29.78  27.710000            25.350000  18.318182   \n",
       "Virginia                31.49  27.520000            26.650000  19.027273   \n",
       "Minnesota               28.05  26.400000            25.640000  21.120000   \n",
       "Utah                    28.15  26.640000            22.640000  11.666667   \n",
       "New Jersey              30.83  27.890000            27.740000  15.000000   \n",
       "\n",
       "Topic              Stroke  \n",
       "LocationDesc               \n",
       "Hawaii           3.400000  \n",
       "Colorado         2.185714  \n",
       "California       2.644444  \n",
       "Massachussettes  2.700000  \n",
       "Virginia         3.171429  \n",
       "Minnesota        2.466667  \n",
       "Utah             2.850000  \n",
       "New Jersey       3.112500  "
      ]
     },
     "execution_count": 11,
     "metadata": {},
     "output_type": "execute_result"
    }
   ],
   "source": [
    "# Selecting 8 states with lowest combined prevalence of three cardiovascular diseases\n",
    "df3.groupby(['LocationDesc', 'Topic']).Data_Value.mean().unstack().sort_values(['Acute Myocardial Infarction (Heart Attack)', 'Coronary Heart Disease', 'Stroke']).head(8)"
   ]
  },
  {
   "cell_type": "code",
   "execution_count": 12,
   "metadata": {
    "collapsed": false
   },
   "outputs": [
    {
     "data": {
      "text/html": [
       "<div>\n",
       "<table border=\"1\" class=\"dataframe\">\n",
       "  <thead>\n",
       "    <tr style=\"text-align: right;\">\n",
       "      <th>Topic</th>\n",
       "      <th>Acute Myocardial Infarction (Heart Attack)</th>\n",
       "      <th>Cholesterol Abnormalities</th>\n",
       "      <th>Coronary Heart Disease</th>\n",
       "      <th>Diabetes</th>\n",
       "      <th>Hypertension</th>\n",
       "      <th>Obesity</th>\n",
       "      <th>Physical Inactivity</th>\n",
       "      <th>Smoking</th>\n",
       "      <th>Stroke</th>\n",
       "    </tr>\n",
       "    <tr>\n",
       "      <th>LocationDesc</th>\n",
       "      <th></th>\n",
       "      <th></th>\n",
       "      <th></th>\n",
       "      <th></th>\n",
       "      <th></th>\n",
       "      <th></th>\n",
       "      <th></th>\n",
       "      <th></th>\n",
       "      <th></th>\n",
       "    </tr>\n",
       "  </thead>\n",
       "  <tbody>\n",
       "    <tr>\n",
       "      <th>Missouri</th>\n",
       "      <td>6.600000</td>\n",
       "      <td>34.888889</td>\n",
       "      <td>5.850000</td>\n",
       "      <td>11.425000</td>\n",
       "      <td>31.76</td>\n",
       "      <td>33.866667</td>\n",
       "      <td>28.080000</td>\n",
       "      <td>23.320000</td>\n",
       "      <td>3.900000</td>\n",
       "    </tr>\n",
       "    <tr>\n",
       "      <th>Kentucky</th>\n",
       "      <td>6.742857</td>\n",
       "      <td>40.770000</td>\n",
       "      <td>6.557143</td>\n",
       "      <td>11.885714</td>\n",
       "      <td>37.04</td>\n",
       "      <td>35.233333</td>\n",
       "      <td>28.860000</td>\n",
       "      <td>27.020000</td>\n",
       "      <td>4.685714</td>\n",
       "    </tr>\n",
       "    <tr>\n",
       "      <th>Louisianna</th>\n",
       "      <td>7.133333</td>\n",
       "      <td>41.844444</td>\n",
       "      <td>6.533333</td>\n",
       "      <td>13.357143</td>\n",
       "      <td>38.20</td>\n",
       "      <td>34.022222</td>\n",
       "      <td>31.380000</td>\n",
       "      <td>22.200000</td>\n",
       "      <td>5.000000</td>\n",
       "    </tr>\n",
       "    <tr>\n",
       "      <th>Alabama</th>\n",
       "      <td>7.216667</td>\n",
       "      <td>41.922222</td>\n",
       "      <td>6.666667</td>\n",
       "      <td>15.414286</td>\n",
       "      <td>37.44</td>\n",
       "      <td>34.100000</td>\n",
       "      <td>30.810000</td>\n",
       "      <td>21.666667</td>\n",
       "      <td>5.214286</td>\n",
       "    </tr>\n",
       "    <tr>\n",
       "      <th>Maine</th>\n",
       "      <td>7.233333</td>\n",
       "      <td>40.560000</td>\n",
       "      <td>6.140000</td>\n",
       "      <td>11.457143</td>\n",
       "      <td>30.85</td>\n",
       "      <td>33.575000</td>\n",
       "      <td>22.625000</td>\n",
       "      <td>23.175000</td>\n",
       "      <td>2.980000</td>\n",
       "    </tr>\n",
       "    <tr>\n",
       "      <th>Tennessee</th>\n",
       "      <td>7.542857</td>\n",
       "      <td>37.637500</td>\n",
       "      <td>8.066667</td>\n",
       "      <td>13.557143</td>\n",
       "      <td>40.35</td>\n",
       "      <td>35.671429</td>\n",
       "      <td>35.855556</td>\n",
       "      <td>23.712500</td>\n",
       "      <td>4.542857</td>\n",
       "    </tr>\n",
       "    <tr>\n",
       "      <th>South Dakota</th>\n",
       "      <td>7.550000</td>\n",
       "      <td>36.162500</td>\n",
       "      <td>6.416667</td>\n",
       "      <td>12.537500</td>\n",
       "      <td>29.91</td>\n",
       "      <td>31.466667</td>\n",
       "      <td>24.770000</td>\n",
       "      <td>21.533333</td>\n",
       "      <td>4.016667</td>\n",
       "    </tr>\n",
       "    <tr>\n",
       "      <th>West Virginia</th>\n",
       "      <td>8.383333</td>\n",
       "      <td>39.870000</td>\n",
       "      <td>7.900000</td>\n",
       "      <td>14.162500</td>\n",
       "      <td>39.96</td>\n",
       "      <td>38.466667</td>\n",
       "      <td>29.622222</td>\n",
       "      <td>29.970000</td>\n",
       "      <td>4.133333</td>\n",
       "    </tr>\n",
       "  </tbody>\n",
       "</table>\n",
       "</div>"
      ],
      "text/plain": [
       "Topic          Acute Myocardial Infarction (Heart Attack)  \\\n",
       "LocationDesc                                                \n",
       "Missouri                                         6.600000   \n",
       "Kentucky                                         6.742857   \n",
       "Louisianna                                       7.133333   \n",
       "Alabama                                          7.216667   \n",
       "Maine                                            7.233333   \n",
       "Tennessee                                        7.542857   \n",
       "South Dakota                                     7.550000   \n",
       "West Virginia                                    8.383333   \n",
       "\n",
       "Topic          Cholesterol Abnormalities  Coronary Heart Disease   Diabetes  \\\n",
       "LocationDesc                                                                  \n",
       "Missouri                       34.888889                5.850000  11.425000   \n",
       "Kentucky                       40.770000                6.557143  11.885714   \n",
       "Louisianna                     41.844444                6.533333  13.357143   \n",
       "Alabama                        41.922222                6.666667  15.414286   \n",
       "Maine                          40.560000                6.140000  11.457143   \n",
       "Tennessee                      37.637500                8.066667  13.557143   \n",
       "South Dakota                   36.162500                6.416667  12.537500   \n",
       "West Virginia                  39.870000                7.900000  14.162500   \n",
       "\n",
       "Topic          Hypertension    Obesity  Physical Inactivity    Smoking  \\\n",
       "LocationDesc                                                             \n",
       "Missouri              31.76  33.866667            28.080000  23.320000   \n",
       "Kentucky              37.04  35.233333            28.860000  27.020000   \n",
       "Louisianna            38.20  34.022222            31.380000  22.200000   \n",
       "Alabama               37.44  34.100000            30.810000  21.666667   \n",
       "Maine                 30.85  33.575000            22.625000  23.175000   \n",
       "Tennessee             40.35  35.671429            35.855556  23.712500   \n",
       "South Dakota          29.91  31.466667            24.770000  21.533333   \n",
       "West Virginia         39.96  38.466667            29.622222  29.970000   \n",
       "\n",
       "Topic            Stroke  \n",
       "LocationDesc             \n",
       "Missouri       3.900000  \n",
       "Kentucky       4.685714  \n",
       "Louisianna     5.000000  \n",
       "Alabama        5.214286  \n",
       "Maine          2.980000  \n",
       "Tennessee      4.542857  \n",
       "South Dakota   4.016667  \n",
       "West Virginia  4.133333  "
      ]
     },
     "execution_count": 12,
     "metadata": {},
     "output_type": "execute_result"
    }
   ],
   "source": [
    "# Selecting 8 states with highest combined prevalence of three cardiovascular diseases\n",
    "df3.groupby(['LocationDesc', 'Topic']).Data_Value.mean().unstack().sort_values(['Acute Myocardial Infarction (Heart Attack)', 'Coronary Heart Disease', 'Stroke']).tail(8)"
   ]
  },
  {
   "cell_type": "code",
   "execution_count": 13,
   "metadata": {
    "collapsed": false
   },
   "outputs": [],
   "source": [
    "# Visualizing CVDs vs states\n",
    "# Creating a new data frame 'cd'  \n",
    "cd = df3[df3.Category == 'Cardiovascular Diseases']"
   ]
  },
  {
   "cell_type": "code",
   "execution_count": 14,
   "metadata": {
    "collapsed": false
   },
   "outputs": [
    {
     "data": {
      "text/plain": [
       "19.529411764705884"
      ]
     },
     "execution_count": 14,
     "metadata": {},
     "output_type": "execute_result"
    }
   ],
   "source": [
    "# Determining average number of data samples for the above 'Category' for states \n",
    "cd[['LocationAbbr', 'Data_Value']].groupby('LocationAbbr').size().mean()"
   ]
  },
  {
   "cell_type": "code",
   "execution_count": 15,
   "metadata": {
    "collapsed": false
   },
   "outputs": [
    {
     "data": {
      "text/plain": [
       "<matplotlib.axes._subplots.AxesSubplot at 0x215c801bb00>"
      ]
     },
     "execution_count": 15,
     "metadata": {},
     "output_type": "execute_result"
    },
    {
     "data": {
      "image/png": "[encoded data removed]",
      "text/plain": [
       "<matplotlib.figure.Figure at 0x215c84fb208>"
      ]
     },
     "metadata": {},
     "output_type": "display_data"
    }
   ],
   "source": [
    "# Plotting sorted combined prevalence of CVDs for all states  \n",
    "cd[['LocationAbbr', 'Data_Value']].groupby('LocationAbbr').mean().sort_values(by='Data_Value').plot()"
   ]
  },
  {
   "cell_type": "code",
   "execution_count": 16,
   "metadata": {
    "collapsed": false
   },
   "outputs": [],
   "source": [
    "# Visualizing 'Risk Factors' vs states\n",
    "# Creating a new data frame 'rf'  \n",
    "rf = df3[df3.Category == 'Risk Factors']"
   ]
  },
  {
   "cell_type": "code",
   "execution_count": 17,
   "metadata": {
    "collapsed": false
   },
   "outputs": [
    {
     "data": {
      "text/plain": [
       "56.666666666666664"
      ]
     },
     "execution_count": 17,
     "metadata": {},
     "output_type": "execute_result"
    }
   ],
   "source": [
    "# Determining average number of data samples for the above 'Category' for states \n",
    "rf[['LocationAbbr', 'Data_Value']].groupby('LocationAbbr').size().mean()"
   ]
  },
  {
   "cell_type": "code",
   "execution_count": 18,
   "metadata": {
    "collapsed": false
   },
   "outputs": [
    {
     "data": {
      "text/plain": [
       "<matplotlib.axes._subplots.AxesSubplot at 0x215c888ecf8>"
      ]
     },
     "execution_count": 18,
     "metadata": {},
     "output_type": "execute_result"
    },
    {
     "data": {
      "image/png": "[encoded data removed]",
      "text/plain": [
       "<matplotlib.figure.Figure at 0x215c8921518>"
      ]
     },
     "metadata": {},
     "output_type": "display_data"
    }
   ],
   "source": [
    "# Plotting sorted combined prevalence of 'Risk Factors' for all states \n",
    "rf[['LocationAbbr', 'Data_Value']].groupby('LocationAbbr').mean().sort_values(by='Data_Value').plot()"
   ]
  },
  {
   "cell_type": "code",
   "execution_count": 19,
   "metadata": {
    "collapsed": false
   },
   "outputs": [],
   "source": [
    "# Visualizing CVDs vs states for age '45-64'\n",
    "# Creating a new data frame 'cda2' \n",
    "cda3 = df3[(df3.Category == 'Cardiovascular Diseases') & (df3.Break_out == '45-64')]"
   ]
  },
  {
   "cell_type": "code",
   "execution_count": 20,
   "metadata": {
    "collapsed": false
   },
   "outputs": [
    {
     "data": {
      "text/plain": [
       "3.0"
      ]
     },
     "execution_count": 20,
     "metadata": {},
     "output_type": "execute_result"
    }
   ],
   "source": [
    "# Determining average number of data samples for the above category and age for states\n",
    "cda3[['LocationAbbr', 'Data_Value']].groupby('LocationAbbr').size().mean()"
   ]
  },
  {
   "cell_type": "code",
   "execution_count": 21,
   "metadata": {
    "collapsed": false
   },
   "outputs": [
    {
     "data": {
      "text/plain": [
       "<matplotlib.axes._subplots.AxesSubplot at 0x215c8e14390>"
      ]
     },
     "execution_count": 21,
     "metadata": {},
     "output_type": "execute_result"
    },
    {
     "data": {
      "image/png": "[encoded data removed]",
      "text/plain": [
       "<matplotlib.figure.Figure at 0x215c8dd1470>"
      ]
     },
     "metadata": {},
     "output_type": "display_data"
    }
   ],
   "source": [
    "# Plotting sorted combined prevalence of CVDs in age group 45-64 for all states \n",
    "cda3[['LocationAbbr', 'Data_Value']].groupby('LocationAbbr').mean().sort_values(by='Data_Value').plot()"
   ]
  },
  {
   "cell_type": "code",
   "execution_count": 22,
   "metadata": {
    "collapsed": true
   },
   "outputs": [],
   "source": [
    "# Visualizing CVDs vs states for males\n",
    "# Creating a new data frame 'cdm' \n",
    "cdm = df3[(df3.Category == 'Cardiovascular Diseases') & (df3.Break_out == 'Male')]"
   ]
  },
  {
   "cell_type": "code",
   "execution_count": 23,
   "metadata": {
    "collapsed": false
   },
   "outputs": [
    {
     "data": {
      "text/plain": [
       "3.0"
      ]
     },
     "execution_count": 23,
     "metadata": {},
     "output_type": "execute_result"
    }
   ],
   "source": [
    "# Determining average number of data samples for the above category and gender for states\n",
    "cdm[['LocationAbbr', 'Data_Value']].groupby('LocationAbbr').size().mean()"
   ]
  },
  {
   "cell_type": "code",
   "execution_count": 24,
   "metadata": {
    "collapsed": false
   },
   "outputs": [
    {
     "data": {
      "text/plain": [
       "<matplotlib.axes._subplots.AxesSubplot at 0x215c8e46128>"
      ]
     },
     "execution_count": 24,
     "metadata": {},
     "output_type": "execute_result"
    },
    {
     "data": {
      "image/png": "[encoded data removed]",
      "text/plain": [
       "<matplotlib.figure.Figure at 0x215c8e430f0>"
      ]
     },
     "metadata": {},
     "output_type": "display_data"
    }
   ],
   "source": [
    "# Plotting sorted combined prevalence of CVDs in males for all states \n",
    "cdm[['LocationAbbr', 'Data_Value']].groupby('LocationAbbr').mean().sort_values(by='Data_Value').plot()"
   ]
  },
  {
   "cell_type": "markdown",
   "metadata": {},
   "source": [
    "## Data Analysis: CVDs and Risk Factors vs break out groups (age, gender, race)"
   ]
  },
  {
   "cell_type": "code",
   "execution_count": 25,
   "metadata": {
    "collapsed": false
   },
   "outputs": [
    {
     "data": {
      "text/html": [
       "<div>\n",
       "<table border=\"1\" class=\"dataframe\">\n",
       "  <thead>\n",
       "    <tr style=\"text-align: right;\">\n",
       "      <th>Topic</th>\n",
       "      <th>Acute Myocardial Infarction (Heart Attack)</th>\n",
       "      <th>Cholesterol Abnormalities</th>\n",
       "      <th>Coronary Heart Disease</th>\n",
       "      <th>Diabetes</th>\n",
       "      <th>Hypertension</th>\n",
       "      <th>Obesity</th>\n",
       "      <th>Physical Inactivity</th>\n",
       "      <th>Smoking</th>\n",
       "      <th>Stroke</th>\n",
       "    </tr>\n",
       "    <tr>\n",
       "      <th>Break_out</th>\n",
       "      <th></th>\n",
       "      <th></th>\n",
       "      <th></th>\n",
       "      <th></th>\n",
       "      <th></th>\n",
       "      <th></th>\n",
       "      <th></th>\n",
       "      <th></th>\n",
       "      <th></th>\n",
       "    </tr>\n",
       "  </thead>\n",
       "  <tbody>\n",
       "    <tr>\n",
       "      <th>25-44</th>\n",
       "      <td>1.170370</td>\n",
       "      <td>22.029412</td>\n",
       "      <td>0.942857</td>\n",
       "      <td>3.547059</td>\n",
       "      <td>16.972549</td>\n",
       "      <td>29.562745</td>\n",
       "      <td>23.007843</td>\n",
       "      <td>23.611765</td>\n",
       "      <td>1.052000</td>\n",
       "    </tr>\n",
       "    <tr>\n",
       "      <th>Female</th>\n",
       "      <td>2.921569</td>\n",
       "      <td>33.215686</td>\n",
       "      <td>3.084314</td>\n",
       "      <td>8.929412</td>\n",
       "      <td>29.037255</td>\n",
       "      <td>29.039216</td>\n",
       "      <td>26.635294</td>\n",
       "      <td>17.796078</td>\n",
       "      <td>2.827451</td>\n",
       "    </tr>\n",
       "    <tr>\n",
       "      <th>Non-Hispanic White</th>\n",
       "      <td>4.082353</td>\n",
       "      <td>35.098039</td>\n",
       "      <td>3.949020</td>\n",
       "      <td>8.117647</td>\n",
       "      <td>30.084314</td>\n",
       "      <td>27.468627</td>\n",
       "      <td>23.633333</td>\n",
       "      <td>19.994118</td>\n",
       "      <td>2.650000</td>\n",
       "    </tr>\n",
       "    <tr>\n",
       "      <th>Non-Hispanic Black</th>\n",
       "      <td>4.462069</td>\n",
       "      <td>36.012766</td>\n",
       "      <td>4.250000</td>\n",
       "      <td>15.377500</td>\n",
       "      <td>42.100000</td>\n",
       "      <td>39.295652</td>\n",
       "      <td>31.686047</td>\n",
       "      <td>22.807317</td>\n",
       "      <td>4.353571</td>\n",
       "    </tr>\n",
       "    <tr>\n",
       "      <th>Hispanic</th>\n",
       "      <td>4.550000</td>\n",
       "      <td>36.915686</td>\n",
       "      <td>3.916667</td>\n",
       "      <td>13.842857</td>\n",
       "      <td>30.432000</td>\n",
       "      <td>33.908163</td>\n",
       "      <td>31.562500</td>\n",
       "      <td>17.036957</td>\n",
       "      <td>2.440000</td>\n",
       "    </tr>\n",
       "    <tr>\n",
       "      <th>45-64</th>\n",
       "      <td>4.856863</td>\n",
       "      <td>45.280392</td>\n",
       "      <td>4.576471</td>\n",
       "      <td>12.825490</td>\n",
       "      <td>40.764706</td>\n",
       "      <td>33.501961</td>\n",
       "      <td>27.966667</td>\n",
       "      <td>20.613725</td>\n",
       "      <td>3.284314</td>\n",
       "    </tr>\n",
       "    <tr>\n",
       "      <th>Male</th>\n",
       "      <td>5.721569</td>\n",
       "      <td>37.411765</td>\n",
       "      <td>5.041176</td>\n",
       "      <td>9.956863</td>\n",
       "      <td>34.170588</td>\n",
       "      <td>29.492157</td>\n",
       "      <td>24.492157</td>\n",
       "      <td>21.623529</td>\n",
       "      <td>2.843137</td>\n",
       "    </tr>\n",
       "    <tr>\n",
       "      <th>Other</th>\n",
       "      <td>6.810000</td>\n",
       "      <td>34.541463</td>\n",
       "      <td>5.364286</td>\n",
       "      <td>13.230952</td>\n",
       "      <td>30.188235</td>\n",
       "      <td>14.320000</td>\n",
       "      <td>27.164000</td>\n",
       "      <td>11.150000</td>\n",
       "      <td>4.709091</td>\n",
       "    </tr>\n",
       "    <tr>\n",
       "      <th>65+</th>\n",
       "      <td>12.527451</td>\n",
       "      <td>55.756863</td>\n",
       "      <td>12.335294</td>\n",
       "      <td>21.137255</td>\n",
       "      <td>62.568627</td>\n",
       "      <td>26.556863</td>\n",
       "      <td>32.725490</td>\n",
       "      <td>9.005882</td>\n",
       "      <td>7.796078</td>\n",
       "    </tr>\n",
       "  </tbody>\n",
       "</table>\n",
       "</div>"
      ],
      "text/plain": [
       "Topic               Acute Myocardial Infarction (Heart Attack)  \\\n",
       "Break_out                                                        \n",
       "25-44                                                 1.170370   \n",
       "Female                                                2.921569   \n",
       "Non-Hispanic White                                    4.082353   \n",
       "Non-Hispanic Black                                    4.462069   \n",
       "Hispanic                                              4.550000   \n",
       "45-64                                                 4.856863   \n",
       "Male                                                  5.721569   \n",
       "Other                                                 6.810000   \n",
       "65+                                                  12.527451   \n",
       "\n",
       "Topic               Cholesterol Abnormalities  Coronary Heart Disease  \\\n",
       "Break_out                                                               \n",
       "25-44                               22.029412                0.942857   \n",
       "Female                              33.215686                3.084314   \n",
       "Non-Hispanic White                  35.098039                3.949020   \n",
       "Non-Hispanic Black                  36.012766                4.250000   \n",
       "Hispanic                            36.915686                3.916667   \n",
       "45-64                               45.280392                4.576471   \n",
       "Male                                37.411765                5.041176   \n",
       "Other                               34.541463                5.364286   \n",
       "65+                                 55.756863               12.335294   \n",
       "\n",
       "Topic                Diabetes  Hypertension    Obesity  Physical Inactivity  \\\n",
       "Break_out                                                                     \n",
       "25-44                3.547059     16.972549  29.562745            23.007843   \n",
       "Female               8.929412     29.037255  29.039216            26.635294   \n",
       "Non-Hispanic White   8.117647     30.084314  27.468627            23.633333   \n",
       "Non-Hispanic Black  15.377500     42.100000  39.295652            31.686047   \n",
       "Hispanic            13.842857     30.432000  33.908163            31.562500   \n",
       "45-64               12.825490     40.764706  33.501961            27.966667   \n",
       "Male                 9.956863     34.170588  29.492157            24.492157   \n",
       "Other               13.230952     30.188235  14.320000            27.164000   \n",
       "65+                 21.137255     62.568627  26.556863            32.725490   \n",
       "\n",
       "Topic                 Smoking    Stroke  \n",
       "Break_out                                \n",
       "25-44               23.611765  1.052000  \n",
       "Female              17.796078  2.827451  \n",
       "Non-Hispanic White  19.994118  2.650000  \n",
       "Non-Hispanic Black  22.807317  4.353571  \n",
       "Hispanic            17.036957  2.440000  \n",
       "45-64               20.613725  3.284314  \n",
       "Male                21.623529  2.843137  \n",
       "Other               11.150000  4.709091  \n",
       "65+                  9.005882  7.796078  "
      ]
     },
     "execution_count": 25,
     "metadata": {},
     "output_type": "execute_result"
    }
   ],
   "source": [
    "# Ranking combined prevalence of three CVDs in different break out groups\n",
    "df3.groupby(['Break_out', 'Topic']).Data_Value.mean().unstack().sort_values(['Acute Myocardial Infarction (Heart Attack)', 'Coronary Heart Disease', 'Stroke']).dropna()"
   ]
  },
  {
   "cell_type": "code",
   "execution_count": 26,
   "metadata": {
    "collapsed": false
   },
   "outputs": [
    {
     "data": {
      "text/html": [
       "<div>\n",
       "<table border=\"1\" class=\"dataframe\">\n",
       "  <thead>\n",
       "    <tr style=\"text-align: right;\">\n",
       "      <th>Topic</th>\n",
       "      <th>Acute Myocardial Infarction (Heart Attack)</th>\n",
       "      <th>Cholesterol Abnormalities</th>\n",
       "      <th>Coronary Heart Disease</th>\n",
       "      <th>Diabetes</th>\n",
       "      <th>Hypertension</th>\n",
       "      <th>Obesity</th>\n",
       "      <th>Physical Inactivity</th>\n",
       "      <th>Smoking</th>\n",
       "      <th>Stroke</th>\n",
       "    </tr>\n",
       "    <tr>\n",
       "      <th>Break_out</th>\n",
       "      <th></th>\n",
       "      <th></th>\n",
       "      <th></th>\n",
       "      <th></th>\n",
       "      <th></th>\n",
       "      <th></th>\n",
       "      <th></th>\n",
       "      <th></th>\n",
       "      <th></th>\n",
       "    </tr>\n",
       "  </thead>\n",
       "  <tbody>\n",
       "    <tr>\n",
       "      <th>65+</th>\n",
       "      <td>12.527451</td>\n",
       "      <td>55.756863</td>\n",
       "      <td>12.335294</td>\n",
       "      <td>21.137255</td>\n",
       "      <td>62.568627</td>\n",
       "      <td>26.556863</td>\n",
       "      <td>32.725490</td>\n",
       "      <td>9.005882</td>\n",
       "      <td>7.796078</td>\n",
       "    </tr>\n",
       "    <tr>\n",
       "      <th>Other</th>\n",
       "      <td>6.810000</td>\n",
       "      <td>34.541463</td>\n",
       "      <td>5.364286</td>\n",
       "      <td>13.230952</td>\n",
       "      <td>30.188235</td>\n",
       "      <td>14.320000</td>\n",
       "      <td>27.164000</td>\n",
       "      <td>11.150000</td>\n",
       "      <td>4.709091</td>\n",
       "    </tr>\n",
       "    <tr>\n",
       "      <th>Hispanic</th>\n",
       "      <td>4.550000</td>\n",
       "      <td>36.915686</td>\n",
       "      <td>3.916667</td>\n",
       "      <td>13.842857</td>\n",
       "      <td>30.432000</td>\n",
       "      <td>33.908163</td>\n",
       "      <td>31.562500</td>\n",
       "      <td>17.036957</td>\n",
       "      <td>2.440000</td>\n",
       "    </tr>\n",
       "    <tr>\n",
       "      <th>Female</th>\n",
       "      <td>2.921569</td>\n",
       "      <td>33.215686</td>\n",
       "      <td>3.084314</td>\n",
       "      <td>8.929412</td>\n",
       "      <td>29.037255</td>\n",
       "      <td>29.039216</td>\n",
       "      <td>26.635294</td>\n",
       "      <td>17.796078</td>\n",
       "      <td>2.827451</td>\n",
       "    </tr>\n",
       "    <tr>\n",
       "      <th>Non-Hispanic White</th>\n",
       "      <td>4.082353</td>\n",
       "      <td>35.098039</td>\n",
       "      <td>3.949020</td>\n",
       "      <td>8.117647</td>\n",
       "      <td>30.084314</td>\n",
       "      <td>27.468627</td>\n",
       "      <td>23.633333</td>\n",
       "      <td>19.994118</td>\n",
       "      <td>2.650000</td>\n",
       "    </tr>\n",
       "    <tr>\n",
       "      <th>45-64</th>\n",
       "      <td>4.856863</td>\n",
       "      <td>45.280392</td>\n",
       "      <td>4.576471</td>\n",
       "      <td>12.825490</td>\n",
       "      <td>40.764706</td>\n",
       "      <td>33.501961</td>\n",
       "      <td>27.966667</td>\n",
       "      <td>20.613725</td>\n",
       "      <td>3.284314</td>\n",
       "    </tr>\n",
       "    <tr>\n",
       "      <th>Male</th>\n",
       "      <td>5.721569</td>\n",
       "      <td>37.411765</td>\n",
       "      <td>5.041176</td>\n",
       "      <td>9.956863</td>\n",
       "      <td>34.170588</td>\n",
       "      <td>29.492157</td>\n",
       "      <td>24.492157</td>\n",
       "      <td>21.623529</td>\n",
       "      <td>2.843137</td>\n",
       "    </tr>\n",
       "    <tr>\n",
       "      <th>Non-Hispanic Black</th>\n",
       "      <td>4.462069</td>\n",
       "      <td>36.012766</td>\n",
       "      <td>4.250000</td>\n",
       "      <td>15.377500</td>\n",
       "      <td>42.100000</td>\n",
       "      <td>39.295652</td>\n",
       "      <td>31.686047</td>\n",
       "      <td>22.807317</td>\n",
       "      <td>4.353571</td>\n",
       "    </tr>\n",
       "    <tr>\n",
       "      <th>25-44</th>\n",
       "      <td>1.170370</td>\n",
       "      <td>22.029412</td>\n",
       "      <td>0.942857</td>\n",
       "      <td>3.547059</td>\n",
       "      <td>16.972549</td>\n",
       "      <td>29.562745</td>\n",
       "      <td>23.007843</td>\n",
       "      <td>23.611765</td>\n",
       "      <td>1.052000</td>\n",
       "    </tr>\n",
       "  </tbody>\n",
       "</table>\n",
       "</div>"
      ],
      "text/plain": [
       "Topic               Acute Myocardial Infarction (Heart Attack)  \\\n",
       "Break_out                                                        \n",
       "65+                                                  12.527451   \n",
       "Other                                                 6.810000   \n",
       "Hispanic                                              4.550000   \n",
       "Female                                                2.921569   \n",
       "Non-Hispanic White                                    4.082353   \n",
       "45-64                                                 4.856863   \n",
       "Male                                                  5.721569   \n",
       "Non-Hispanic Black                                    4.462069   \n",
       "25-44                                                 1.170370   \n",
       "\n",
       "Topic               Cholesterol Abnormalities  Coronary Heart Disease  \\\n",
       "Break_out                                                               \n",
       "65+                                 55.756863               12.335294   \n",
       "Other                               34.541463                5.364286   \n",
       "Hispanic                            36.915686                3.916667   \n",
       "Female                              33.215686                3.084314   \n",
       "Non-Hispanic White                  35.098039                3.949020   \n",
       "45-64                               45.280392                4.576471   \n",
       "Male                                37.411765                5.041176   \n",
       "Non-Hispanic Black                  36.012766                4.250000   \n",
       "25-44                               22.029412                0.942857   \n",
       "\n",
       "Topic                Diabetes  Hypertension    Obesity  Physical Inactivity  \\\n",
       "Break_out                                                                     \n",
       "65+                 21.137255     62.568627  26.556863            32.725490   \n",
       "Other               13.230952     30.188235  14.320000            27.164000   \n",
       "Hispanic            13.842857     30.432000  33.908163            31.562500   \n",
       "Female               8.929412     29.037255  29.039216            26.635294   \n",
       "Non-Hispanic White   8.117647     30.084314  27.468627            23.633333   \n",
       "45-64               12.825490     40.764706  33.501961            27.966667   \n",
       "Male                 9.956863     34.170588  29.492157            24.492157   \n",
       "Non-Hispanic Black  15.377500     42.100000  39.295652            31.686047   \n",
       "25-44                3.547059     16.972549  29.562745            23.007843   \n",
       "\n",
       "Topic                 Smoking    Stroke  \n",
       "Break_out                                \n",
       "65+                  9.005882  7.796078  \n",
       "Other               11.150000  4.709091  \n",
       "Hispanic            17.036957  2.440000  \n",
       "Female              17.796078  2.827451  \n",
       "Non-Hispanic White  19.994118  2.650000  \n",
       "45-64               20.613725  3.284314  \n",
       "Male                21.623529  2.843137  \n",
       "Non-Hispanic Black  22.807317  4.353571  \n",
       "25-44               23.611765  1.052000  "
      ]
     },
     "execution_count": 26,
     "metadata": {},
     "output_type": "execute_result"
    }
   ],
   "source": [
    "# Ranking combined prevalence of 6 risk factors in different break out groups\n",
    "df3.groupby(['Break_out', 'Topic']).Data_Value.mean().unstack().sort_values(['Smoking', 'Obesity', 'Hypertension', 'Physical Inactivity', 'Diabetes', 'Cholesterol Abnormalities']).dropna()"
   ]
  },
  {
   "cell_type": "markdown",
   "metadata": {},
   "source": [
    "## Data analysis: CVDs vs risk factors"
   ]
  },
  {
   "cell_type": "code",
   "execution_count": 27,
   "metadata": {
    "collapsed": true
   },
   "outputs": [],
   "source": [
    "# Creating new data frames for risk factors and CVDs including location ID which is to be used a key for merging\n",
    "# Grouping by state and calculatinh mean combined prevalence values for each state\n",
    "rf1 = df3[(df3.Category == 'Risk Factors')][['LocationID', 'LocationDesc', 'Data_Value']].groupby('LocationDesc').mean()\n",
    "cd1 = df3[df3.Category == 'Cardiovascular Diseases'][['LocationID', 'LocationDesc', 'Data_Value']].groupby('LocationDesc').mean()"
   ]
  },
  {
   "cell_type": "code",
   "execution_count": 28,
   "metadata": {
    "collapsed": false
   },
   "outputs": [
    {
     "data": {
      "text/html": [
       "<div>\n",
       "<table border=\"1\" class=\"dataframe\">\n",
       "  <thead>\n",
       "    <tr style=\"text-align: right;\">\n",
       "      <th></th>\n",
       "      <th>LocationID</th>\n",
       "      <th>Data_Value_x</th>\n",
       "      <th>Data_Value_y</th>\n",
       "    </tr>\n",
       "  </thead>\n",
       "  <tbody>\n",
       "    <tr>\n",
       "      <th>0</th>\n",
       "      <td>1.0</td>\n",
       "      <td>6.305263</td>\n",
       "      <td>30.918519</td>\n",
       "    </tr>\n",
       "    <tr>\n",
       "      <th>1</th>\n",
       "      <td>2.0</td>\n",
       "      <td>4.566667</td>\n",
       "      <td>27.387719</td>\n",
       "    </tr>\n",
       "    <tr>\n",
       "      <th>2</th>\n",
       "      <td>4.0</td>\n",
       "      <td>4.826667</td>\n",
       "      <td>26.994545</td>\n",
       "    </tr>\n",
       "    <tr>\n",
       "      <th>3</th>\n",
       "      <td>5.0</td>\n",
       "      <td>6.510000</td>\n",
       "      <td>31.757143</td>\n",
       "    </tr>\n",
       "    <tr>\n",
       "      <th>4</th>\n",
       "      <td>6.0</td>\n",
       "      <td>3.400000</td>\n",
       "      <td>23.618333</td>\n",
       "    </tr>\n",
       "  </tbody>\n",
       "</table>\n",
       "</div>"
      ],
      "text/plain": [
       "   LocationID  Data_Value_x  Data_Value_y\n",
       "0         1.0      6.305263     30.918519\n",
       "1         2.0      4.566667     27.387719\n",
       "2         4.0      4.826667     26.994545\n",
       "3         5.0      6.510000     31.757143\n",
       "4         6.0      3.400000     23.618333"
      ]
     },
     "execution_count": 28,
     "metadata": {},
     "output_type": "execute_result"
    }
   ],
   "source": [
    "# Merging data frames\n",
    "dep = pd.merge(cd1, rf1, on='LocationID', how='inner')#[['Data_Value_x', 'Data_Value_y']]\n",
    "dep.head()"
   ]
  },
  {
   "cell_type": "code",
   "execution_count": 29,
   "metadata": {
    "collapsed": false,
    "scrolled": true
   },
   "outputs": [
    {
     "data": {
      "text/plain": [
       "<matplotlib.collections.PathCollection at 0x215c8f48ba8>"
      ]
     },
     "execution_count": 29,
     "metadata": {},
     "output_type": "execute_result"
    },
    {
     "data": {
      "image/png": "[encoded data removed]",
      "text/plain": [
       "<matplotlib.figure.Figure at 0x215c8e8b6d8>"
      ]
     },
     "metadata": {},
     "output_type": "display_data"
    }
   ],
   "source": [
    "# Scatter plot of the relationship between average prevalence of risk factors (y) and CVDs (x) (RFs as a function of CVDs)\n",
    "plt.scatter(dep.Data_Value_x, dep.Data_Value_y)"
   ]
  },
  {
   "cell_type": "markdown",
   "metadata": {},
   "source": [
    "## Data analysis: socioeconomic and geographic factors vs prevalence of CVDs"
   ]
  },
  {
   "cell_type": "code",
   "execution_count": 30,
   "metadata": {
    "collapsed": false
   },
   "outputs": [
    {
     "data": {
      "text/html": [
       "<div>\n",
       "<table border=\"1\" class=\"dataframe\">\n",
       "  <thead>\n",
       "    <tr style=\"text-align: right;\">\n",
       "      <th></th>\n",
       "      <th>LocationID</th>\n",
       "      <th>LocationDesc</th>\n",
       "      <th>GDP_2012</th>\n",
       "      <th>Healthcare_spending_2009</th>\n",
       "      <th>Bachelor_degree</th>\n",
       "      <th>Advanced_degree</th>\n",
       "      <th>Median_household_income_2014</th>\n",
       "      <th>Average_annual_Temp_C</th>\n",
       "      <th>Latitude</th>\n",
       "      <th>Longitude</th>\n",
       "    </tr>\n",
       "  </thead>\n",
       "  <tbody>\n",
       "    <tr>\n",
       "      <th>0</th>\n",
       "      <td>1</td>\n",
       "      <td>Alabama</td>\n",
       "      <td>32615</td>\n",
       "      <td>6271.67</td>\n",
       "      <td>0.235</td>\n",
       "      <td>0.087</td>\n",
       "      <td>41415</td>\n",
       "      <td>17.1</td>\n",
       "      <td>32.806671</td>\n",
       "      <td>-86.791130</td>\n",
       "    </tr>\n",
       "    <tr>\n",
       "      <th>1</th>\n",
       "      <td>2</td>\n",
       "      <td>Alaska</td>\n",
       "      <td>61156</td>\n",
       "      <td>9127.65</td>\n",
       "      <td>0.280</td>\n",
       "      <td>0.110</td>\n",
       "      <td>60287</td>\n",
       "      <td>-3.0</td>\n",
       "      <td>61.370716</td>\n",
       "      <td>-152.404419</td>\n",
       "    </tr>\n",
       "    <tr>\n",
       "      <th>2</th>\n",
       "      <td>4</td>\n",
       "      <td>Arizona</td>\n",
       "      <td>35195</td>\n",
       "      <td>5433.89</td>\n",
       "      <td>0.275</td>\n",
       "      <td>0.102</td>\n",
       "      <td>46709</td>\n",
       "      <td>15.7</td>\n",
       "      <td>33.729759</td>\n",
       "      <td>-111.431221</td>\n",
       "    </tr>\n",
       "    <tr>\n",
       "      <th>3</th>\n",
       "      <td>5</td>\n",
       "      <td>Arkansas</td>\n",
       "      <td>31837</td>\n",
       "      <td>6166.94</td>\n",
       "      <td>0.211</td>\n",
       "      <td>0.075</td>\n",
       "      <td>38758</td>\n",
       "      <td>15.8</td>\n",
       "      <td>34.969704</td>\n",
       "      <td>-92.373123</td>\n",
       "    </tr>\n",
       "    <tr>\n",
       "      <th>4</th>\n",
       "      <td>6</td>\n",
       "      <td>California</td>\n",
       "      <td>46029</td>\n",
       "      <td>6237.61</td>\n",
       "      <td>0.314</td>\n",
       "      <td>0.116</td>\n",
       "      <td>67458</td>\n",
       "      <td>15.2</td>\n",
       "      <td>36.116203</td>\n",
       "      <td>-119.681564</td>\n",
       "    </tr>\n",
       "  </tbody>\n",
       "</table>\n",
       "</div>"
      ],
      "text/plain": [
       "   LocationID LocationDesc  GDP_2012  Healthcare_spending_2009  \\\n",
       "0           1      Alabama     32615                   6271.67   \n",
       "1           2       Alaska     61156                   9127.65   \n",
       "2           4      Arizona     35195                   5433.89   \n",
       "3           5     Arkansas     31837                   6166.94   \n",
       "4           6   California     46029                   6237.61   \n",
       "\n",
       "   Bachelor_degree  Advanced_degree  Median_household_income_2014  \\\n",
       "0            0.235            0.087                         41415   \n",
       "1            0.280            0.110                         60287   \n",
       "2            0.275            0.102                         46709   \n",
       "3            0.211            0.075                         38758   \n",
       "4            0.314            0.116                         67458   \n",
       "\n",
       "   Average_annual_Temp_C   Latitude   Longitude  \n",
       "0                   17.1  32.806671  -86.791130  \n",
       "1                   -3.0  61.370716 -152.404419  \n",
       "2                   15.7  33.729759 -111.431221  \n",
       "3                   15.8  34.969704  -92.373123  \n",
       "4                   15.2  36.116203 -119.681564  "
      ]
     },
     "execution_count": 30,
     "metadata": {},
     "output_type": "execute_result"
    }
   ],
   "source": [
    "# Importing data from a csv file to a data frame\n",
    "us_df = pd.DataFrame.from_csv(r'C:\\Users\\Igor\\Jupyter_Notebook_Projects\\Capstone project\\USA_info.csv', index_col=None, encoding='cp1252')\n",
    "us_df.head()"
   ]
  },
  {
   "cell_type": "code",
   "execution_count": 31,
   "metadata": {
    "collapsed": false
   },
   "outputs": [
    {
     "data": {
      "text/html": [
       "<div>\n",
       "<table border=\"1\" class=\"dataframe\">\n",
       "  <thead>\n",
       "    <tr style=\"text-align: right;\">\n",
       "      <th></th>\n",
       "      <th>LocationID</th>\n",
       "      <th>Data_Value</th>\n",
       "      <th>LocationDesc</th>\n",
       "      <th>GDP_2012</th>\n",
       "      <th>Healthcare_spending_2009</th>\n",
       "      <th>Bachelor_degree</th>\n",
       "      <th>Advanced_degree</th>\n",
       "      <th>Median_household_income_2014</th>\n",
       "      <th>Average_annual_Temp_C</th>\n",
       "      <th>Latitude</th>\n",
       "      <th>Longitude</th>\n",
       "    </tr>\n",
       "  </thead>\n",
       "  <tbody>\n",
       "    <tr>\n",
       "      <th>0</th>\n",
       "      <td>1.0</td>\n",
       "      <td>6.305263</td>\n",
       "      <td>Alabama</td>\n",
       "      <td>32615</td>\n",
       "      <td>6271.67</td>\n",
       "      <td>0.235</td>\n",
       "      <td>0.087</td>\n",
       "      <td>41415</td>\n",
       "      <td>17.1</td>\n",
       "      <td>32.806671</td>\n",
       "      <td>-86.791130</td>\n",
       "    </tr>\n",
       "    <tr>\n",
       "      <th>1</th>\n",
       "      <td>2.0</td>\n",
       "      <td>4.566667</td>\n",
       "      <td>Alaska</td>\n",
       "      <td>61156</td>\n",
       "      <td>9127.65</td>\n",
       "      <td>0.280</td>\n",
       "      <td>0.110</td>\n",
       "      <td>60287</td>\n",
       "      <td>-3.0</td>\n",
       "      <td>61.370716</td>\n",
       "      <td>-152.404419</td>\n",
       "    </tr>\n",
       "    <tr>\n",
       "      <th>2</th>\n",
       "      <td>4.0</td>\n",
       "      <td>4.826667</td>\n",
       "      <td>Arizona</td>\n",
       "      <td>35195</td>\n",
       "      <td>5433.89</td>\n",
       "      <td>0.275</td>\n",
       "      <td>0.102</td>\n",
       "      <td>46709</td>\n",
       "      <td>15.7</td>\n",
       "      <td>33.729759</td>\n",
       "      <td>-111.431221</td>\n",
       "    </tr>\n",
       "    <tr>\n",
       "      <th>3</th>\n",
       "      <td>5.0</td>\n",
       "      <td>6.510000</td>\n",
       "      <td>Arkansas</td>\n",
       "      <td>31837</td>\n",
       "      <td>6166.94</td>\n",
       "      <td>0.211</td>\n",
       "      <td>0.075</td>\n",
       "      <td>38758</td>\n",
       "      <td>15.8</td>\n",
       "      <td>34.969704</td>\n",
       "      <td>-92.373123</td>\n",
       "    </tr>\n",
       "    <tr>\n",
       "      <th>4</th>\n",
       "      <td>6.0</td>\n",
       "      <td>3.400000</td>\n",
       "      <td>California</td>\n",
       "      <td>46029</td>\n",
       "      <td>6237.61</td>\n",
       "      <td>0.314</td>\n",
       "      <td>0.116</td>\n",
       "      <td>67458</td>\n",
       "      <td>15.2</td>\n",
       "      <td>36.116203</td>\n",
       "      <td>-119.681564</td>\n",
       "    </tr>\n",
       "  </tbody>\n",
       "</table>\n",
       "</div>"
      ],
      "text/plain": [
       "   LocationID  Data_Value LocationDesc  GDP_2012  Healthcare_spending_2009  \\\n",
       "0         1.0    6.305263      Alabama     32615                   6271.67   \n",
       "1         2.0    4.566667       Alaska     61156                   9127.65   \n",
       "2         4.0    4.826667      Arizona     35195                   5433.89   \n",
       "3         5.0    6.510000     Arkansas     31837                   6166.94   \n",
       "4         6.0    3.400000   California     46029                   6237.61   \n",
       "\n",
       "   Bachelor_degree  Advanced_degree  Median_household_income_2014  \\\n",
       "0            0.235            0.087                         41415   \n",
       "1            0.280            0.110                         60287   \n",
       "2            0.275            0.102                         46709   \n",
       "3            0.211            0.075                         38758   \n",
       "4            0.314            0.116                         67458   \n",
       "\n",
       "   Average_annual_Temp_C   Latitude   Longitude  \n",
       "0                   17.1  32.806671  -86.791130  \n",
       "1                   -3.0  61.370716 -152.404419  \n",
       "2                   15.7  33.729759 -111.431221  \n",
       "3                   15.8  34.969704  -92.373123  \n",
       "4                   15.2  36.116203 -119.681564  "
      ]
     },
     "execution_count": 31,
     "metadata": {},
     "output_type": "execute_result"
    }
   ],
   "source": [
    "# Merging cd1 and us_df data frames\n",
    "df_cd1_us_merged = pd.merge(cd1, us_df, on='LocationID', how='inner')\n",
    "df_cd1_us_merged.head()"
   ]
  },
  {
   "cell_type": "code",
   "execution_count": 32,
   "metadata": {
    "collapsed": false
   },
   "outputs": [
    {
     "data": {
      "text/plain": [
       "<matplotlib.collections.PathCollection at 0x215c8fc3400>"
      ]
     },
     "execution_count": 32,
     "metadata": {},
     "output_type": "execute_result"
    },
    {
     "data": {
      "image/png": "[encoded data removed]",
      "text/plain": [
       "<matplotlib.figure.Figure at 0x215c8f6e898>"
      ]
     },
     "metadata": {},
     "output_type": "display_data"
    }
   ],
   "source": [
    "# Prevance of CVDs as a function of healthcare spending \n",
    "plt.scatter(df_cd1_us_merged.Healthcare_spending_2009, df_cd1_us_merged.Data_Value)"
   ]
  },
  {
   "cell_type": "code",
   "execution_count": 33,
   "metadata": {
    "collapsed": false
   },
   "outputs": [
    {
     "data": {
      "text/plain": [
       "<matplotlib.collections.PathCollection at 0x215c9028cf8>"
      ]
     },
     "execution_count": 33,
     "metadata": {},
     "output_type": "execute_result"
    },
    {
     "data": {
      "image/png": "[encoded data removed]",
      "text/plain": [
       "<matplotlib.figure.Figure at 0x215c8fe26d8>"
      ]
     },
     "metadata": {},
     "output_type": "display_data"
    }
   ],
   "source": [
    "# Prevance of CVDs as a function of GDP \n",
    "plt.scatter(df_cd1_us_merged.GDP_2012, df_cd1_us_merged.Data_Value)"
   ]
  },
  {
   "cell_type": "code",
   "execution_count": 34,
   "metadata": {
    "collapsed": false
   },
   "outputs": [
    {
     "data": {
      "text/plain": [
       "<matplotlib.collections.PathCollection at 0x215c908eac8>"
      ]
     },
     "execution_count": 34,
     "metadata": {},
     "output_type": "execute_result"
    },
    {
     "data": {
      "image/png": "[encoded data removed]",
      "text/plain": [
       "<matplotlib.figure.Figure at 0x215c9048668>"
      ]
     },
     "metadata": {},
     "output_type": "display_data"
    }
   ],
   "source": [
    "# Prevance of CVDs as a function of education \n",
    "plt.scatter(df_cd1_us_merged.Bachelor_degree, df_cd1_us_merged.Data_Value)"
   ]
  },
  {
   "cell_type": "code",
   "execution_count": 35,
   "metadata": {
    "collapsed": false
   },
   "outputs": [
    {
     "data": {
      "text/plain": [
       "<matplotlib.collections.PathCollection at 0x215c90fd0b8>"
      ]
     },
     "execution_count": 35,
     "metadata": {},
     "output_type": "execute_result"
    },
    {
     "data": {
      "image/png": "[encoded data removed]",
      "text/plain": [
       "<matplotlib.figure.Figure at 0x215c90a06a0>"
      ]
     },
     "metadata": {},
     "output_type": "display_data"
    }
   ],
   "source": [
    "# Prevance of CVDs as a function of median household income \n",
    "plt.scatter(df_cd1_us_merged.Median_household_income_2014, df_cd1_us_merged.Data_Value)"
   ]
  },
  {
   "cell_type": "code",
   "execution_count": 36,
   "metadata": {
    "collapsed": false
   },
   "outputs": [
    {
     "data": {
      "text/plain": [
       "<matplotlib.collections.PathCollection at 0x215c9163978>"
      ]
     },
     "execution_count": 36,
     "metadata": {},
     "output_type": "execute_result"
    },
    {
     "data": {
      "image/png": "[encoded data removed]",
      "text/plain": [
       "<matplotlib.figure.Figure at 0x215c911e748>"
      ]
     },
     "metadata": {},
     "output_type": "display_data"
    }
   ],
   "source": [
    "# Prevance of CVDs as a function of average annual temperature \n",
    "plt.scatter(df_cd1_us_merged.Average_annual_Temp_C, df_cd1_us_merged.Data_Value)"
   ]
  },
  {
   "cell_type": "code",
   "execution_count": 37,
   "metadata": {
    "collapsed": false
   },
   "outputs": [
    {
     "data": {
      "text/plain": [
       "<matplotlib.collections.PathCollection at 0x215c91d0390>"
      ]
     },
     "execution_count": 37,
     "metadata": {},
     "output_type": "execute_result"
    },
    {
     "data": {
      "image/png": "[encoded data removed]",
      "text/plain": [
       "<matplotlib.figure.Figure at 0x215c9174438>"
      ]
     },
     "metadata": {},
     "output_type": "display_data"
    }
   ],
   "source": [
    "# Prevance of CVDs as a function of latitude \n",
    "plt.scatter(df_cd1_us_merged.Latitude, df_cd1_us_merged.Data_Value)"
   ]
  },
  {
   "cell_type": "code",
   "execution_count": 38,
   "metadata": {
    "collapsed": false
   },
   "outputs": [
    {
     "data": {
      "text/plain": [
       "<matplotlib.collections.PathCollection at 0x215ca203978>"
      ]
     },
     "execution_count": 38,
     "metadata": {},
     "output_type": "execute_result"
    },
    {
     "data": {
      "image/png": "[encoded data removed]",
      "text/plain": [
       "<matplotlib.figure.Figure at 0x215c91eccc0>"
      ]
     },
     "metadata": {},
     "output_type": "display_data"
    }
   ],
   "source": [
    "# Prevance of CVDs as a function of longtitude \n",
    "plt.scatter(df_cd1_us_merged.Longitude, df_cd1_us_merged.Data_Value)"
   ]
  },
  {
   "cell_type": "markdown",
   "metadata": {},
   "source": [
    "## Data analysis: socioeconomic and geographic factors vs prevalence of risk factors"
   ]
  },
  {
   "cell_type": "code",
   "execution_count": 39,
   "metadata": {
    "collapsed": false
   },
   "outputs": [
    {
     "data": {
      "text/html": [
       "<div>\n",
       "<table border=\"1\" class=\"dataframe\">\n",
       "  <thead>\n",
       "    <tr style=\"text-align: right;\">\n",
       "      <th></th>\n",
       "      <th>LocationID</th>\n",
       "      <th>Data_Value</th>\n",
       "      <th>LocationDesc</th>\n",
       "      <th>GDP_2012</th>\n",
       "      <th>Healthcare_spending_2009</th>\n",
       "      <th>Bachelor_degree</th>\n",
       "      <th>Advanced_degree</th>\n",
       "      <th>Median_household_income_2014</th>\n",
       "      <th>Average_annual_Temp_C</th>\n",
       "      <th>Latitude</th>\n",
       "      <th>Longitude</th>\n",
       "    </tr>\n",
       "  </thead>\n",
       "  <tbody>\n",
       "    <tr>\n",
       "      <th>0</th>\n",
       "      <td>1.0</td>\n",
       "      <td>30.918519</td>\n",
       "      <td>Alabama</td>\n",
       "      <td>32615</td>\n",
       "      <td>6271.67</td>\n",
       "      <td>0.235</td>\n",
       "      <td>0.087</td>\n",
       "      <td>41415</td>\n",
       "      <td>17.1</td>\n",
       "      <td>32.806671</td>\n",
       "      <td>-86.791130</td>\n",
       "    </tr>\n",
       "    <tr>\n",
       "      <th>1</th>\n",
       "      <td>2.0</td>\n",
       "      <td>27.387719</td>\n",
       "      <td>Alaska</td>\n",
       "      <td>61156</td>\n",
       "      <td>9127.65</td>\n",
       "      <td>0.280</td>\n",
       "      <td>0.110</td>\n",
       "      <td>60287</td>\n",
       "      <td>-3.0</td>\n",
       "      <td>61.370716</td>\n",
       "      <td>-152.404419</td>\n",
       "    </tr>\n",
       "    <tr>\n",
       "      <th>2</th>\n",
       "      <td>4.0</td>\n",
       "      <td>26.994545</td>\n",
       "      <td>Arizona</td>\n",
       "      <td>35195</td>\n",
       "      <td>5433.89</td>\n",
       "      <td>0.275</td>\n",
       "      <td>0.102</td>\n",
       "      <td>46709</td>\n",
       "      <td>15.7</td>\n",
       "      <td>33.729759</td>\n",
       "      <td>-111.431221</td>\n",
       "    </tr>\n",
       "    <tr>\n",
       "      <th>3</th>\n",
       "      <td>5.0</td>\n",
       "      <td>31.757143</td>\n",
       "      <td>Arkansas</td>\n",
       "      <td>31837</td>\n",
       "      <td>6166.94</td>\n",
       "      <td>0.211</td>\n",
       "      <td>0.075</td>\n",
       "      <td>38758</td>\n",
       "      <td>15.8</td>\n",
       "      <td>34.969704</td>\n",
       "      <td>-92.373123</td>\n",
       "    </tr>\n",
       "    <tr>\n",
       "      <th>4</th>\n",
       "      <td>6.0</td>\n",
       "      <td>23.618333</td>\n",
       "      <td>California</td>\n",
       "      <td>46029</td>\n",
       "      <td>6237.61</td>\n",
       "      <td>0.314</td>\n",
       "      <td>0.116</td>\n",
       "      <td>67458</td>\n",
       "      <td>15.2</td>\n",
       "      <td>36.116203</td>\n",
       "      <td>-119.681564</td>\n",
       "    </tr>\n",
       "  </tbody>\n",
       "</table>\n",
       "</div>"
      ],
      "text/plain": [
       "   LocationID  Data_Value LocationDesc  GDP_2012  Healthcare_spending_2009  \\\n",
       "0         1.0   30.918519      Alabama     32615                   6271.67   \n",
       "1         2.0   27.387719       Alaska     61156                   9127.65   \n",
       "2         4.0   26.994545      Arizona     35195                   5433.89   \n",
       "3         5.0   31.757143     Arkansas     31837                   6166.94   \n",
       "4         6.0   23.618333   California     46029                   6237.61   \n",
       "\n",
       "   Bachelor_degree  Advanced_degree  Median_household_income_2014  \\\n",
       "0            0.235            0.087                         41415   \n",
       "1            0.280            0.110                         60287   \n",
       "2            0.275            0.102                         46709   \n",
       "3            0.211            0.075                         38758   \n",
       "4            0.314            0.116                         67458   \n",
       "\n",
       "   Average_annual_Temp_C   Latitude   Longitude  \n",
       "0                   17.1  32.806671  -86.791130  \n",
       "1                   -3.0  61.370716 -152.404419  \n",
       "2                   15.7  33.729759 -111.431221  \n",
       "3                   15.8  34.969704  -92.373123  \n",
       "4                   15.2  36.116203 -119.681564  "
      ]
     },
     "execution_count": 39,
     "metadata": {},
     "output_type": "execute_result"
    }
   ],
   "source": [
    "# Merging rf1 and us_df data frames\n",
    "df_rf1_us_merged = pd.merge(rf1, us_df, on='LocationID', how='inner')\n",
    "df_rf1_us_merged.head()"
   ]
  },
  {
   "cell_type": "code",
   "execution_count": 43,
   "metadata": {
    "collapsed": false
   },
   "outputs": [
    {
     "data": {
      "text/plain": [
       "<matplotlib.collections.PathCollection at 0x215ca3adf60>"
      ]
     },
     "execution_count": 43,
     "metadata": {},
     "output_type": "execute_result"
    },
    {
     "data": {
      "image/png": "[encoded data removed]",
      "text/plain": [
       "<matplotlib.figure.Figure at 0x215ca36e588>"
      ]
     },
     "metadata": {},
     "output_type": "display_data"
    }
   ],
   "source": [
    "# Prevance of RFs as a function of healthcare spending \n",
    "plt.scatter(df_rf1_us_merged.Healthcare_spending_2009, df_rf1_us_merged.Data_Value)"
   ]
  },
  {
   "cell_type": "code",
   "execution_count": 44,
   "metadata": {
    "collapsed": false
   },
   "outputs": [
    {
     "data": {
      "text/plain": [
       "<matplotlib.collections.PathCollection at 0x215ca416f98>"
      ]
     },
     "execution_count": 44,
     "metadata": {},
     "output_type": "execute_result"
    },
    {
     "data": {
      "image/png": "[encoded data removed]",
      "text/plain": [
       "<matplotlib.figure.Figure at 0x215ca3d1588>"
      ]
     },
     "metadata": {},
     "output_type": "display_data"
    }
   ],
   "source": [
    "# Prevance of CVDs as a function of GDP \n",
    "plt.scatter(df_rf1_us_merged.GDP_2012, df_rf1_us_merged.Data_Value)"
   ]
  },
  {
   "cell_type": "code",
   "execution_count": 45,
   "metadata": {
    "collapsed": false
   },
   "outputs": [
    {
     "data": {
      "text/plain": [
       "<matplotlib.collections.PathCollection at 0x215ca47ce10>"
      ]
     },
     "execution_count": 45,
     "metadata": {},
     "output_type": "execute_result"
    },
    {
     "data": {
      "image/png": "[encoded data removed]",
      "text/plain": [
       "<matplotlib.figure.Figure at 0x215ca43b400>"
      ]
     },
     "metadata": {},
     "output_type": "display_data"
    }
   ],
   "source": [
    "# Prevance of RFs as a function of education \n",
    "plt.scatter(df_rf1_us_merged.Bachelor_degree, df_rf1_us_merged.Data_Value)"
   ]
  },
  {
   "cell_type": "code",
   "execution_count": 46,
   "metadata": {
    "collapsed": false
   },
   "outputs": [
    {
     "data": {
      "text/plain": [
       "<matplotlib.collections.PathCollection at 0x215ca4e0748>"
      ]
     },
     "execution_count": 46,
     "metadata": {},
     "output_type": "execute_result"
    },
    {
     "data": {
      "image/png": "[encoded data removed]",
      "text/plain": [
       "<matplotlib.figure.Figure at 0x215ca457390>"
      ]
     },
     "metadata": {},
     "output_type": "display_data"
    }
   ],
   "source": [
    "# Prevance of RFs as a function of median household income \n",
    "plt.scatter(df_rf1_us_merged.Median_household_income_2014, df_rf1_us_merged.Data_Value)"
   ]
  },
  {
   "cell_type": "code",
   "execution_count": 47,
   "metadata": {
    "collapsed": false
   },
   "outputs": [
    {
     "data": {
      "text/plain": [
       "<matplotlib.collections.PathCollection at 0x215ca54c2e8>"
      ]
     },
     "execution_count": 47,
     "metadata": {},
     "output_type": "execute_result"
    },
    {
     "data": {
      "image/png": "[encoded data removed]",
      "text/plain": [
       "<matplotlib.figure.Figure at 0x215ca490438>"
      ]
     },
     "metadata": {},
     "output_type": "display_data"
    }
   ],
   "source": [
    "# Prevance of RFs as a function of average annual temperature \n",
    "plt.scatter(df_rf1_us_merged.Average_annual_Temp_C, df_rf1_us_merged.Data_Value)"
   ]
  },
  {
   "cell_type": "code",
   "execution_count": 48,
   "metadata": {
    "collapsed": false
   },
   "outputs": [
    {
     "data": {
      "text/plain": [
       "<matplotlib.collections.PathCollection at 0x215ca5ab6a0>"
      ]
     },
     "execution_count": 48,
     "metadata": {},
     "output_type": "execute_result"
    },
    {
     "data": {
      "image/png": "[encoded data removed]",
      "text/plain": [
       "<matplotlib.figure.Figure at 0x215ca524cf8>"
      ]
     },
     "metadata": {},
     "output_type": "display_data"
    }
   ],
   "source": [
    "# Prevance of RFs as a function of latitude \n",
    "plt.scatter(df_rf1_us_merged.Latitude, df_rf1_us_merged.Data_Value)"
   ]
  },
  {
   "cell_type": "code",
   "execution_count": 49,
   "metadata": {
    "collapsed": false
   },
   "outputs": [
    {
     "data": {
      "text/plain": [
       "<matplotlib.collections.PathCollection at 0x215ca6107f0>"
      ]
     },
     "execution_count": 49,
     "metadata": {},
     "output_type": "execute_result"
    },
    {
     "data": {
      "image/png": "[encoded data removed]",
      "text/plain": [
       "<matplotlib.figure.Figure at 0x215ca4d3f28>"
      ]
     },
     "metadata": {},
     "output_type": "display_data"
    }
   ],
   "source": [
    "# Prevance of RFs as a function of longtitude \n",
    "plt.scatter(df_rf1_us_merged.Longitude, df_rf1_us_merged.Data_Value)"
   ]
  },
  {
   "cell_type": "code",
   "execution_count": null,
   "metadata": {
    "collapsed": true
   },
   "outputs": [],
   "source": []
  },
  {
   "cell_type": "markdown",
   "metadata": {},
   "source": [
    "## Preliminary findings:\n",
    "\n",
    "The findings below are preliminary and still need to be proved by statistical analysis.\n",
    "\n",
    "1)\tIt is interesting that variation of the prevalence of both health risk factors and cardiovascular diseases in different states can be modelled by a logistic model.\n",
    "\n",
    "2)\tAs expected, there is a linear dependence between the prevalence of health risk factors and cardiovascular diseases.\n",
    "\n",
    "3)\tThe rank (lowest to highest) of the prevalence of cardiovascular diseases in different break out groups is the following: 25-44, female, non-hispanic white, non-hispanic black, Hispanic, 45-64, male, other, 65+. The rank for risk factors needs to be analyzed.\n",
    "\n",
    "4)\tSurprisingly, there is no or very little dependence between healthcare spending and the prevalence of cardiovascular diseases and risk factors. However, the higher GDP, the level of education or household income, the lower is the prevalence of cardiovascular diseases and risk factors.\n",
    "\n",
    "5)\tClimate is not crucial in defining the prevalence of cardiovascular diseases and risk factors as well as the latitude, though western states have slightly higher prevalence of cardiovascular diseases.\n",
    "\n",
    "## Conclusions:\n",
    "\n",
    "It seems that socioeconomic factors determine the prevalence of risk factors and, as a result, cardiovascular diseases among U.S. population. The U.S. healthcare system is not effective in preventing cardiovascular diseases, since it does not affect the socioeconomic level of population. More money should be spent on increasing public knowledge and awareness of cardiovascular diseases and awareness of their associated risk factors as well as lifestyle modification.\n"
   ]
  },
  {
   "cell_type": "code",
   "execution_count": null,
   "metadata": {
    "collapsed": true
   },
   "outputs": [],
   "source": []
  }
 ],
 "metadata": {
  "anaconda-cloud": {},
  "kernelspec": {
   "display_name": "Python [default]",
   "language": "python",
   "name": "python3"
  },
  "language_info": {
   "codemirror_mode": {
    "name": "ipython",
    "version": 3
   },
   "file_extension": ".py",
   "mimetype": "text/x-python",
   "name": "python",
   "nbconvert_exporter": "python",
   "pygments_lexer": "ipython3",
   "version": "3.5.2"
  }
 },
 "nbformat": 4,
 "nbformat_minor": 0
}
