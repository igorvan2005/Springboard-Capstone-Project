{
 "cells": [
  {
   "cell_type": "code",
   "execution_count": 1,
   "metadata": {
    "collapsed": false
   },
   "outputs": [
    {
     "data": {
      "text/html": [
       "<style>body {\n",
       "    margin: 0;\n",
       "    font-family: Helvetica;\n",
       "}\n",
       "table.dataframe {\n",
       "    border-collapse: collapse;\n",
       "    border: none;\n",
       "}\n",
       "table.dataframe tr {\n",
       "    border: none;\n",
       "}\n",
       "table.dataframe td, table.dataframe th {\n",
       "    margin: 0;\n",
       "    border: 1px solid white;\n",
       "    padding-left: 0.25em;\n",
       "    padding-right: 0.25em;\n",
       "}\n",
       "table.dataframe th:not(:empty) {\n",
       "    background-color: #fec;\n",
       "    text-align: left;\n",
       "    font-weight: normal;\n",
       "}\n",
       "table.dataframe tr:nth-child(2) th:empty {\n",
       "    border-left: none;\n",
       "    border-right: 1px dashed #888;\n",
       "}\n",
       "table.dataframe td {\n",
       "    border: 2px solid #ccf;\n",
       "    background-color: #f4f4ff;\n",
       "}\n",
       "h3 {\n",
       "    color: white;\n",
       "    background-color: black;\n",
       "    padding: 0.5em;\n",
       "}\n",
       "</style>"
      ],
      "text/plain": [
       "<IPython.core.display.HTML object>"
      ]
     },
     "execution_count": 1,
     "metadata": {},
     "output_type": "execute_result"
    }
   ],
   "source": [
    "%matplotlib inline\n",
    "import pandas as pd\n",
    "import matplotlib.pyplot as plt\n",
    "import seaborn as sns\n",
    "sns.set_context(rc={\"figure.figsize\": (6,3)})\n",
    "import scipy.stats as stats\n",
    "import sklearn\n",
    "import inspect\n",
    "import numpy as np\n",
    "import os\n",
    "\n",
    "os.chdir(r'C:\\Users\\Igor\\Jupyter_Notebook_Projects\\Capstone project')\n",
    "\n",
    "from IPython.core.display import HTML\n",
    "css = open('style-table.css').read() + open('style-notebook.css').read()\n",
    "HTML('<style>{}</style>'.format(css))"
   ]
  },
  {
   "cell_type": "code",
   "execution_count": 2,
   "metadata": {
    "collapsed": true
   },
   "outputs": [],
   "source": [
    "# Importing CVD and RF data into a dataframe\n",
    "df = pd.DataFrame.from_csv('Risk_Factors_CVD.csv', index_col=None)"
   ]
  },
  {
   "cell_type": "code",
   "execution_count": 3,
   "metadata": {
    "collapsed": true
   },
   "outputs": [],
   "source": [
    "## Cleaning data:\n",
    "# Removing repetitive age categories as well as 18-24 group (null values for many factors)\n",
    "# Removing 'Nutrition' topic (controversial)\n",
    "# Removing 'Overall' break out and average US LocationID rows\n",
    "# Selecting year - 2013 data set is most informative\n",
    "# Removing Washington, DC (outlier, not a good representation)\n",
    "# Removing 'Non-Hispanic Asian' group (not complete)\n",
    "a = df.Break_out != '35+'\n",
    "b = df.Break_out != '75+'\n",
    "c = df.Break_out != '20-24'\n",
    "d = df.Break_out != '18-24'\n",
    "e = df.Break_out != 'Overall'\n",
    "f = df.Break_out != 'Non-Hispanic Asian'\n",
    "g = df.LocationAbbr != 'DC'\n",
    "h = df.Year == 2013\n",
    "i = df.LocationID != 0.5\n",
    "j = df.Topic != 'Nutrition'\n",
    "\n",
    "df1 = df[(a) & (b) & (c) & (d) & (e) & (f) & (g) & (h) & (i) & (j)] # creating a new df1"
   ]
  },
  {
   "cell_type": "code",
   "execution_count": 4,
   "metadata": {
    "collapsed": false
   },
   "outputs": [
    {
     "name": "stderr",
     "output_type": "stream",
     "text": [
      "C:\\Users\\Igor\\Anaconda3\\lib\\site-packages\\ipykernel\\__main__.py:5: UserWarning: Boolean Series key will be reindexed to match DataFrame index.\n"
     ]
    }
   ],
   "source": [
    "## Cleaning data:\n",
    "# Removing repetitive indicators and creating new df2\n",
    "list = ('post-hospitalization', 'Objective 6', 'Objective 7', 'screening', 'Objective 5', 'Objective 11', 'hypertension medication', 'Objective 8', 'Objective 9')\n",
    "\n",
    "df2 = df1[~df.Indicator.str.contains('|'.join(list))]"
   ]
  },
  {
   "cell_type": "code",
   "execution_count": 5,
   "metadata": {
    "collapsed": true
   },
   "outputs": [],
   "source": [
    "## Cleaning data:\n",
    "# Removing rows with null prevalence values and creating new df3\n",
    "df3 = df2.dropna(subset=['Data_Value'])"
   ]
  },
  {
   "cell_type": "code",
   "execution_count": 6,
   "metadata": {
    "collapsed": false
   },
   "outputs": [],
   "source": [
    "# Renaming a few topics\n",
    "df3 = df3.replace('Acute Myocardial Infarction (Heart Attack)', 'Heart_attack')\n",
    "df3 = df3.replace('Coronary Heart Disease', 'CHD')\n",
    "df3 = df3.replace('Physical Inactivity', 'Phys_inact')\n",
    "df3 = df3.replace('Cholesterol Abnormalities', 'Cholesterol')"
   ]
  },
  {
   "cell_type": "code",
   "execution_count": 7,
   "metadata": {
    "collapsed": false
   },
   "outputs": [
    {
     "data": {
      "text/html": [
       "<div>\n",
       "<table border=\"1\" class=\"dataframe\">\n",
       "  <thead>\n",
       "    <tr style=\"text-align: right;\">\n",
       "      <th></th>\n",
       "      <th>LocationID</th>\n",
       "      <th>LocationDesc</th>\n",
       "      <th>GDP_2012</th>\n",
       "      <th>Healthcare_spending_2009</th>\n",
       "      <th>Bachelor_degree</th>\n",
       "      <th>Advanced_degree</th>\n",
       "      <th>Median_household_income_2014</th>\n",
       "      <th>Average_annual_Temp_C</th>\n",
       "    </tr>\n",
       "  </thead>\n",
       "  <tbody>\n",
       "    <tr>\n",
       "      <th>0</th>\n",
       "      <td>1</td>\n",
       "      <td>Alabama</td>\n",
       "      <td>32615</td>\n",
       "      <td>6271.67</td>\n",
       "      <td>0.235</td>\n",
       "      <td>0.087</td>\n",
       "      <td>41415</td>\n",
       "      <td>17.1</td>\n",
       "    </tr>\n",
       "    <tr>\n",
       "      <th>1</th>\n",
       "      <td>2</td>\n",
       "      <td>Alaska</td>\n",
       "      <td>61156</td>\n",
       "      <td>9127.65</td>\n",
       "      <td>0.280</td>\n",
       "      <td>0.110</td>\n",
       "      <td>60287</td>\n",
       "      <td>-3.0</td>\n",
       "    </tr>\n",
       "    <tr>\n",
       "      <th>2</th>\n",
       "      <td>4</td>\n",
       "      <td>Arizona</td>\n",
       "      <td>35195</td>\n",
       "      <td>5433.89</td>\n",
       "      <td>0.275</td>\n",
       "      <td>0.102</td>\n",
       "      <td>46709</td>\n",
       "      <td>15.7</td>\n",
       "    </tr>\n",
       "    <tr>\n",
       "      <th>3</th>\n",
       "      <td>5</td>\n",
       "      <td>Arkansas</td>\n",
       "      <td>31837</td>\n",
       "      <td>6166.94</td>\n",
       "      <td>0.211</td>\n",
       "      <td>0.075</td>\n",
       "      <td>38758</td>\n",
       "      <td>15.8</td>\n",
       "    </tr>\n",
       "    <tr>\n",
       "      <th>4</th>\n",
       "      <td>6</td>\n",
       "      <td>California</td>\n",
       "      <td>46029</td>\n",
       "      <td>6237.61</td>\n",
       "      <td>0.314</td>\n",
       "      <td>0.116</td>\n",
       "      <td>67458</td>\n",
       "      <td>15.2</td>\n",
       "    </tr>\n",
       "  </tbody>\n",
       "</table>\n",
       "</div>"
      ],
      "text/plain": [
       "   LocationID LocationDesc  GDP_2012  Healthcare_spending_2009  \\\n",
       "0           1      Alabama     32615                   6271.67   \n",
       "1           2       Alaska     61156                   9127.65   \n",
       "2           4      Arizona     35195                   5433.89   \n",
       "3           5     Arkansas     31837                   6166.94   \n",
       "4           6   California     46029                   6237.61   \n",
       "\n",
       "   Bachelor_degree  Advanced_degree  Median_household_income_2014  \\\n",
       "0            0.235            0.087                         41415   \n",
       "1            0.280            0.110                         60287   \n",
       "2            0.275            0.102                         46709   \n",
       "3            0.211            0.075                         38758   \n",
       "4            0.314            0.116                         67458   \n",
       "\n",
       "   Average_annual_Temp_C  \n",
       "0                   17.1  \n",
       "1                   -3.0  \n",
       "2                   15.7  \n",
       "3                   15.8  \n",
       "4                   15.2  "
      ]
     },
     "execution_count": 7,
     "metadata": {},
     "output_type": "execute_result"
    }
   ],
   "source": [
    "# Importing US states socioeconomic data (excluding Washingon, DC) from a csv file to a dataframe\n",
    "df_us = pd.DataFrame.from_csv('USA_info_excl_DC.csv', index_col=None, encoding='cp1252')\n",
    "df_us.head(5)"
   ]
  },
  {
   "cell_type": "code",
   "execution_count": 8,
   "metadata": {
    "collapsed": false
   },
   "outputs": [],
   "source": [
    "# Creating new dataframes for RF and CVD including location ID, which is to be used as a key for merging\n",
    "# Grouping by state and calculating mean combined prevalence values for each state\n",
    "rf = df3[(df3.Category == 'Risk Factors')][['LocationID', 'Topic', 'Data_Value']].groupby(['LocationID', 'Topic']).mean()\n",
    "rf = rf.unstack('Topic')['Data_Value'].reset_index()\n",
    "cvd = df3[df3.Category == 'Cardiovascular Diseases'][['LocationID', 'Topic', 'Data_Value']].groupby(['LocationID', 'Topic']).mean()\n",
    "cvd = cvd.unstack('Topic')['Data_Value'].reset_index()"
   ]
  },
  {
   "cell_type": "code",
   "execution_count": 9,
   "metadata": {
    "collapsed": false
   },
   "outputs": [
    {
     "data": {
      "text/html": [
       "<div>\n",
       "<table border=\"1\" class=\"dataframe\">\n",
       "  <thead>\n",
       "    <tr style=\"text-align: right;\">\n",
       "      <th>Topic</th>\n",
       "      <th>LocationID</th>\n",
       "      <th>CHD</th>\n",
       "      <th>Heart_attack</th>\n",
       "      <th>Stroke</th>\n",
       "    </tr>\n",
       "  </thead>\n",
       "  <tbody>\n",
       "    <tr>\n",
       "      <th>0</th>\n",
       "      <td>1.0</td>\n",
       "      <td>6.666667</td>\n",
       "      <td>7.216667</td>\n",
       "      <td>5.214286</td>\n",
       "    </tr>\n",
       "    <tr>\n",
       "      <th>1</th>\n",
       "      <td>2.0</td>\n",
       "      <td>5.066667</td>\n",
       "      <td>4.933333</td>\n",
       "      <td>3.700000</td>\n",
       "    </tr>\n",
       "    <tr>\n",
       "      <th>2</th>\n",
       "      <td>4.0</td>\n",
       "      <td>5.460000</td>\n",
       "      <td>5.300000</td>\n",
       "      <td>3.720000</td>\n",
       "    </tr>\n",
       "    <tr>\n",
       "      <th>3</th>\n",
       "      <td>5.0</td>\n",
       "      <td>7.357143</td>\n",
       "      <td>6.383333</td>\n",
       "      <td>5.771429</td>\n",
       "    </tr>\n",
       "    <tr>\n",
       "      <th>4</th>\n",
       "      <td>6.0</td>\n",
       "      <td>3.537500</td>\n",
       "      <td>4.033333</td>\n",
       "      <td>2.644444</td>\n",
       "    </tr>\n",
       "  </tbody>\n",
       "</table>\n",
       "</div>"
      ],
      "text/plain": [
       "Topic  LocationID       CHD  Heart_attack    Stroke\n",
       "0             1.0  6.666667      7.216667  5.214286\n",
       "1             2.0  5.066667      4.933333  3.700000\n",
       "2             4.0  5.460000      5.300000  3.720000\n",
       "3             5.0  7.357143      6.383333  5.771429\n",
       "4             6.0  3.537500      4.033333  2.644444"
      ]
     },
     "execution_count": 9,
     "metadata": {},
     "output_type": "execute_result"
    }
   ],
   "source": [
    "cvd.head()"
   ]
  },
  {
   "cell_type": "code",
   "execution_count": 10,
   "metadata": {
    "collapsed": false
   },
   "outputs": [
    {
     "data": {
      "text/html": [
       "<div>\n",
       "<table border=\"1\" class=\"dataframe\">\n",
       "  <thead>\n",
       "    <tr style=\"text-align: right;\">\n",
       "      <th></th>\n",
       "      <th>LocationID</th>\n",
       "      <th>Latitude</th>\n",
       "      <th>Longitude</th>\n",
       "    </tr>\n",
       "  </thead>\n",
       "  <tbody>\n",
       "    <tr>\n",
       "      <th>0</th>\n",
       "      <td>1.0</td>\n",
       "      <td>32.8405</td>\n",
       "      <td>-86.6318</td>\n",
       "    </tr>\n",
       "    <tr>\n",
       "      <th>1</th>\n",
       "      <td>2.0</td>\n",
       "      <td>64.8450</td>\n",
       "      <td>-147.7220</td>\n",
       "    </tr>\n",
       "    <tr>\n",
       "      <th>2</th>\n",
       "      <td>4.0</td>\n",
       "      <td>34.8659</td>\n",
       "      <td>-111.7638</td>\n",
       "    </tr>\n",
       "    <tr>\n",
       "      <th>3</th>\n",
       "      <td>5.0</td>\n",
       "      <td>34.7486</td>\n",
       "      <td>-92.2744</td>\n",
       "    </tr>\n",
       "    <tr>\n",
       "      <th>4</th>\n",
       "      <td>6.0</td>\n",
       "      <td>37.6386</td>\n",
       "      <td>-120.9999</td>\n",
       "    </tr>\n",
       "  </tbody>\n",
       "</table>\n",
       "</div>"
      ],
      "text/plain": [
       "   LocationID  Latitude  Longitude\n",
       "0         1.0   32.8405   -86.6318\n",
       "1         2.0   64.8450  -147.7220\n",
       "2         4.0   34.8659  -111.7638\n",
       "3         5.0   34.7486   -92.2744\n",
       "4         6.0   37.6386  -120.9999"
      ]
     },
     "execution_count": 10,
     "metadata": {},
     "output_type": "execute_result"
    }
   ],
   "source": [
    "# Preparing Geolocation dataframe\n",
    "cvdGeo = df3[df3.Category == 'Cardiovascular Diseases'][['LocationID', 'GeoLocation', 'Data_Value']].groupby(['LocationID', 'GeoLocation']).mean().reset_index()\n",
    "cvdLat = cvdGeo.drop('Data_Value', 1)\n",
    "#cvdLat = pd.DataFrame(cvdGeo['GeoLocation'].map(lambda x: str(x)[1:10]).astype(float))\n",
    "cvdLat['GeoLocation'] = cvdLat['GeoLocation'].str.extract('(\\d\\d.\\d\\d\\d\\d)', expand=True)\n",
    "cvdLat = cvdLat.rename(columns={'GeoLocation': 'Latitude'})\n",
    "cvdLat = cvdLat.apply(lambda x: pd.to_numeric(x, errors='ignore'))\n",
    "\n",
    "cvdLon = cvdGeo.drop('Data_Value', 1)\n",
    "#cvdLon = pd.DataFrame(cvdGeo['GeoLocation'].map(lambda x: str(x)[-20:-6]).astype(float))\n",
    "cvdLon['GeoLocation'] = cvdLon['GeoLocation'].str.extract('(-[0-9]{1,3}.\\d\\d\\d\\d)', expand=True)\n",
    "cvdLon = cvdLon.rename(columns={'GeoLocation': 'Longitude'})\n",
    "cvdLon = cvdLon.apply(lambda x: pd.to_numeric(x, errors='ignore'))\n",
    "\n",
    "cvdLatLon = pd.merge(cvdLat, cvdLon, on='LocationID', how='inner')\n",
    "\n",
    "cvdLatLon.head()"
   ]
  },
  {
   "cell_type": "code",
   "execution_count": 11,
   "metadata": {
    "collapsed": false
   },
   "outputs": [
    {
     "data": {
      "text/html": [
       "<div>\n",
       "<table border=\"1\" class=\"dataframe\">\n",
       "  <thead>\n",
       "    <tr style=\"text-align: right;\">\n",
       "      <th></th>\n",
       "      <th>LocationID</th>\n",
       "      <th>GDP_2012</th>\n",
       "      <th>Healthcare_spending_2009</th>\n",
       "      <th>Bachelor_degree</th>\n",
       "      <th>Advanced_degree</th>\n",
       "      <th>Median_household_income_2014</th>\n",
       "      <th>Average_annual_Temp_C</th>\n",
       "      <th>Latitude</th>\n",
       "      <th>Longitude</th>\n",
       "    </tr>\n",
       "  </thead>\n",
       "  <tbody>\n",
       "    <tr>\n",
       "      <th>0</th>\n",
       "      <td>1</td>\n",
       "      <td>32615</td>\n",
       "      <td>6271.67</td>\n",
       "      <td>0.235</td>\n",
       "      <td>0.087</td>\n",
       "      <td>41415</td>\n",
       "      <td>17.1</td>\n",
       "      <td>32.8405</td>\n",
       "      <td>-86.6318</td>\n",
       "    </tr>\n",
       "    <tr>\n",
       "      <th>1</th>\n",
       "      <td>2</td>\n",
       "      <td>61156</td>\n",
       "      <td>9127.65</td>\n",
       "      <td>0.280</td>\n",
       "      <td>0.110</td>\n",
       "      <td>60287</td>\n",
       "      <td>-3.0</td>\n",
       "      <td>64.8450</td>\n",
       "      <td>-147.7220</td>\n",
       "    </tr>\n",
       "    <tr>\n",
       "      <th>2</th>\n",
       "      <td>4</td>\n",
       "      <td>35195</td>\n",
       "      <td>5433.89</td>\n",
       "      <td>0.275</td>\n",
       "      <td>0.102</td>\n",
       "      <td>46709</td>\n",
       "      <td>15.7</td>\n",
       "      <td>34.8659</td>\n",
       "      <td>-111.7638</td>\n",
       "    </tr>\n",
       "    <tr>\n",
       "      <th>3</th>\n",
       "      <td>5</td>\n",
       "      <td>31837</td>\n",
       "      <td>6166.94</td>\n",
       "      <td>0.211</td>\n",
       "      <td>0.075</td>\n",
       "      <td>38758</td>\n",
       "      <td>15.8</td>\n",
       "      <td>34.7486</td>\n",
       "      <td>-92.2744</td>\n",
       "    </tr>\n",
       "    <tr>\n",
       "      <th>4</th>\n",
       "      <td>6</td>\n",
       "      <td>46029</td>\n",
       "      <td>6237.61</td>\n",
       "      <td>0.314</td>\n",
       "      <td>0.116</td>\n",
       "      <td>67458</td>\n",
       "      <td>15.2</td>\n",
       "      <td>37.6386</td>\n",
       "      <td>-120.9999</td>\n",
       "    </tr>\n",
       "  </tbody>\n",
       "</table>\n",
       "</div>"
      ],
      "text/plain": [
       "   LocationID  GDP_2012  Healthcare_spending_2009  Bachelor_degree  \\\n",
       "0           1     32615                   6271.67            0.235   \n",
       "1           2     61156                   9127.65            0.280   \n",
       "2           4     35195                   5433.89            0.275   \n",
       "3           5     31837                   6166.94            0.211   \n",
       "4           6     46029                   6237.61            0.314   \n",
       "\n",
       "   Advanced_degree  Median_household_income_2014  Average_annual_Temp_C  \\\n",
       "0            0.087                         41415                   17.1   \n",
       "1            0.110                         60287                   -3.0   \n",
       "2            0.102                         46709                   15.7   \n",
       "3            0.075                         38758                   15.8   \n",
       "4            0.116                         67458                   15.2   \n",
       "\n",
       "   Latitude  Longitude  \n",
       "0   32.8405   -86.6318  \n",
       "1   64.8450  -147.7220  \n",
       "2   34.8659  -111.7638  \n",
       "3   34.7486   -92.2744  \n",
       "4   37.6386  -120.9999  "
      ]
     },
     "execution_count": 11,
     "metadata": {},
     "output_type": "execute_result"
    }
   ],
   "source": [
    "# Creating a dataframe combining geolocation data with US states socioeconomic data\n",
    "df_us_del = df_us.drop('LocationDesc', axis=1)\n",
    "df_us_geo = pd.merge(df_us_del, cvdLatLon, on='LocationID', how='inner')\n",
    "df_us_geo.head()"
   ]
  },
  {
   "cell_type": "code",
   "execution_count": 12,
   "metadata": {
    "collapsed": false
   },
   "outputs": [
    {
     "data": {
      "text/html": [
       "<div>\n",
       "<table border=\"1\" class=\"dataframe\">\n",
       "  <thead>\n",
       "    <tr style=\"text-align: right;\">\n",
       "      <th></th>\n",
       "      <th>LocationID</th>\n",
       "      <th>GDP_2012</th>\n",
       "      <th>Healthcare_spending_2009</th>\n",
       "      <th>Bachelor_degree</th>\n",
       "      <th>Advanced_degree</th>\n",
       "      <th>Median_household_income_2014</th>\n",
       "      <th>Average_annual_Temp_C</th>\n",
       "      <th>Latitude</th>\n",
       "      <th>Longitude</th>\n",
       "      <th>CHD</th>\n",
       "      <th>Heart_attack</th>\n",
       "      <th>Stroke</th>\n",
       "      <th>Cholesterol</th>\n",
       "      <th>Diabetes</th>\n",
       "      <th>Hypertension</th>\n",
       "      <th>Obesity</th>\n",
       "      <th>Phys_inact</th>\n",
       "      <th>Smoking</th>\n",
       "    </tr>\n",
       "  </thead>\n",
       "  <tbody>\n",
       "    <tr>\n",
       "      <th>0</th>\n",
       "      <td>1</td>\n",
       "      <td>32615</td>\n",
       "      <td>6271.67</td>\n",
       "      <td>0.235</td>\n",
       "      <td>0.087</td>\n",
       "      <td>41415</td>\n",
       "      <td>17.1</td>\n",
       "      <td>32.8405</td>\n",
       "      <td>-86.6318</td>\n",
       "      <td>6.666667</td>\n",
       "      <td>7.216667</td>\n",
       "      <td>5.214286</td>\n",
       "      <td>41.925000</td>\n",
       "      <td>15.414286</td>\n",
       "      <td>40.611111</td>\n",
       "      <td>33.175000</td>\n",
       "      <td>31.777778</td>\n",
       "      <td>21.414286</td>\n",
       "    </tr>\n",
       "    <tr>\n",
       "      <th>1</th>\n",
       "      <td>2</td>\n",
       "      <td>61156</td>\n",
       "      <td>9127.65</td>\n",
       "      <td>0.280</td>\n",
       "      <td>0.110</td>\n",
       "      <td>60287</td>\n",
       "      <td>-3.0</td>\n",
       "      <td>64.8450</td>\n",
       "      <td>-147.7220</td>\n",
       "      <td>5.066667</td>\n",
       "      <td>4.933333</td>\n",
       "      <td>3.700000</td>\n",
       "      <td>37.044444</td>\n",
       "      <td>8.757143</td>\n",
       "      <td>36.666667</td>\n",
       "      <td>31.677778</td>\n",
       "      <td>24.650000</td>\n",
       "      <td>21.566667</td>\n",
       "    </tr>\n",
       "    <tr>\n",
       "      <th>2</th>\n",
       "      <td>4</td>\n",
       "      <td>35195</td>\n",
       "      <td>5433.89</td>\n",
       "      <td>0.275</td>\n",
       "      <td>0.102</td>\n",
       "      <td>46709</td>\n",
       "      <td>15.7</td>\n",
       "      <td>34.8659</td>\n",
       "      <td>-111.7638</td>\n",
       "      <td>5.460000</td>\n",
       "      <td>5.300000</td>\n",
       "      <td>3.720000</td>\n",
       "      <td>39.687500</td>\n",
       "      <td>12.622222</td>\n",
       "      <td>34.522222</td>\n",
       "      <td>28.975000</td>\n",
       "      <td>27.000000</td>\n",
       "      <td>15.871429</td>\n",
       "    </tr>\n",
       "    <tr>\n",
       "      <th>3</th>\n",
       "      <td>5</td>\n",
       "      <td>31837</td>\n",
       "      <td>6166.94</td>\n",
       "      <td>0.211</td>\n",
       "      <td>0.075</td>\n",
       "      <td>38758</td>\n",
       "      <td>15.8</td>\n",
       "      <td>34.7486</td>\n",
       "      <td>-92.2744</td>\n",
       "      <td>7.357143</td>\n",
       "      <td>6.383333</td>\n",
       "      <td>5.771429</td>\n",
       "      <td>40.966667</td>\n",
       "      <td>12.914286</td>\n",
       "      <td>39.655556</td>\n",
       "      <td>36.675000</td>\n",
       "      <td>35.977778</td>\n",
       "      <td>24.662500</td>\n",
       "    </tr>\n",
       "    <tr>\n",
       "      <th>4</th>\n",
       "      <td>6</td>\n",
       "      <td>46029</td>\n",
       "      <td>6237.61</td>\n",
       "      <td>0.314</td>\n",
       "      <td>0.116</td>\n",
       "      <td>67458</td>\n",
       "      <td>15.2</td>\n",
       "      <td>37.6386</td>\n",
       "      <td>-120.9999</td>\n",
       "      <td>3.537500</td>\n",
       "      <td>4.033333</td>\n",
       "      <td>2.644444</td>\n",
       "      <td>38.177778</td>\n",
       "      <td>12.544444</td>\n",
       "      <td>33.255556</td>\n",
       "      <td>24.977778</td>\n",
       "      <td>22.511111</td>\n",
       "      <td>12.211111</td>\n",
       "    </tr>\n",
       "  </tbody>\n",
       "</table>\n",
       "</div>"
      ],
      "text/plain": [
       "   LocationID  GDP_2012  Healthcare_spending_2009  Bachelor_degree  \\\n",
       "0           1     32615                   6271.67            0.235   \n",
       "1           2     61156                   9127.65            0.280   \n",
       "2           4     35195                   5433.89            0.275   \n",
       "3           5     31837                   6166.94            0.211   \n",
       "4           6     46029                   6237.61            0.314   \n",
       "\n",
       "   Advanced_degree  Median_household_income_2014  Average_annual_Temp_C  \\\n",
       "0            0.087                         41415                   17.1   \n",
       "1            0.110                         60287                   -3.0   \n",
       "2            0.102                         46709                   15.7   \n",
       "3            0.075                         38758                   15.8   \n",
       "4            0.116                         67458                   15.2   \n",
       "\n",
       "   Latitude  Longitude       CHD  Heart_attack    Stroke  Cholesterol  \\\n",
       "0   32.8405   -86.6318  6.666667      7.216667  5.214286    41.925000   \n",
       "1   64.8450  -147.7220  5.066667      4.933333  3.700000    37.044444   \n",
       "2   34.8659  -111.7638  5.460000      5.300000  3.720000    39.687500   \n",
       "3   34.7486   -92.2744  7.357143      6.383333  5.771429    40.966667   \n",
       "4   37.6386  -120.9999  3.537500      4.033333  2.644444    38.177778   \n",
       "\n",
       "    Diabetes  Hypertension    Obesity  Phys_inact    Smoking  \n",
       "0  15.414286     40.611111  33.175000   31.777778  21.414286  \n",
       "1   8.757143     36.666667  31.677778   24.650000  21.566667  \n",
       "2  12.622222     34.522222  28.975000   27.000000  15.871429  \n",
       "3  12.914286     39.655556  36.675000   35.977778  24.662500  \n",
       "4  12.544444     33.255556  24.977778   22.511111  12.211111  "
      ]
     },
     "execution_count": 12,
     "metadata": {},
     "output_type": "execute_result"
    }
   ],
   "source": [
    "# Merging dataframes to include US states data with CVD and RF\n",
    "df_merged_cvd_rf = pd.merge(cvd, rf, on='LocationID', how='inner')\n",
    "df_merged = pd.merge(df_us_geo, df_merged_cvd_rf, on='LocationID', how='inner')\n",
    "df_merged.head()"
   ]
  },
  {
   "cell_type": "code",
   "execution_count": 13,
   "metadata": {
    "collapsed": false
   },
   "outputs": [
    {
     "data": {
      "text/plain": [
       "(50, 18)"
      ]
     },
     "execution_count": 13,
     "metadata": {},
     "output_type": "execute_result"
    }
   ],
   "source": [
    "df_merged.shape"
   ]
  },
  {
   "cell_type": "markdown",
   "metadata": {},
   "source": [
    "## Clustering"
   ]
  },
  {
   "cell_type": "markdown",
   "metadata": {},
   "source": [
    "## K-means"
   ]
  },
  {
   "cell_type": "code",
   "execution_count": 14,
   "metadata": {
    "collapsed": true
   },
   "outputs": [],
   "source": [
    "from sklearn import metrics\n",
    "from sklearn.cluster import KMeans\n",
    "from sklearn.decomposition import PCA\n",
    "from sklearn.preprocessing import scale\n",
    "from scipy.spatial.distance import cdist"
   ]
  },
  {
   "cell_type": "code",
   "execution_count": 15,
   "metadata": {
    "collapsed": false
   },
   "outputs": [],
   "source": [
    "# Creating a dataframe with features (predictors) to be analyzed - cluster variables\n",
    "df_X = df_merged.drop(df_merged.ix[:,'CHD':'Stroke'].head(0).columns, 1)\n",
    "df_X = df_X.drop('LocationID', 1)"
   ]
  },
  {
   "cell_type": "code",
   "execution_count": 16,
   "metadata": {
    "collapsed": false
   },
   "outputs": [],
   "source": [
    "clustervar = df_X.copy()"
   ]
  },
  {
   "cell_type": "code",
   "execution_count": 17,
   "metadata": {
    "collapsed": false
   },
   "outputs": [],
   "source": [
    "clustervar.loc[:] = scale(clustervar.loc[:].astype('float64'))"
   ]
  },
  {
   "cell_type": "markdown",
   "metadata": {},
   "source": [
    "**Defining number of clusters**"
   ]
  },
  {
   "cell_type": "code",
   "execution_count": 18,
   "metadata": {
    "collapsed": false
   },
   "outputs": [],
   "source": [
    "clusters=range(1,10)\n",
    "meandist=[]\n",
    "\n",
    "for k in clusters:\n",
    "    model=KMeans(n_clusters=k)\n",
    "    model.fit(clustervar)\n",
    "    clusassign=model.predict(clustervar)\n",
    "    meandist.append(sum(np.min(cdist(clustervar, model.cluster_centers_, 'euclidean'), axis=1)) / clustervar.shape[0])"
   ]
  },
  {
   "cell_type": "code",
   "execution_count": 19,
   "metadata": {
    "collapsed": false
   },
   "outputs": [
    {
     "data": {
      "text/plain": [
       "<matplotlib.text.Text at 0x24912b310b8>"
      ]
     },
     "execution_count": 19,
     "metadata": {},
     "output_type": "execute_result"
    },
    {
     "data": {
      "image/png": "[encoded data removed]",
      "text/plain": [
       "<matplotlib.figure.Figure at 0x24912a1e240>"
      ]
     },
     "metadata": {},
     "output_type": "display_data"
    }
   ],
   "source": [
    "plt.plot(clusters, meandist)\n",
    "plt.xlabel('Number of clusters')\n",
    "plt.ylabel('Average distance')\n",
    "plt.title('Selecting k with the Elbow Method')"
   ]
  },
  {
   "cell_type": "markdown",
   "metadata": {},
   "source": [
    "**Dividing data into 3 clusters using K-means method**"
   ]
  },
  {
   "cell_type": "code",
   "execution_count": 20,
   "metadata": {
    "collapsed": false
   },
   "outputs": [],
   "source": [
    "model3 = KMeans(n_clusters=3)\n",
    "model3.fit(clustervar)\n",
    "clusassign=model3.predict(clustervar)"
   ]
  },
  {
   "cell_type": "code",
   "execution_count": 21,
   "metadata": {
    "collapsed": false
   },
   "outputs": [
    {
     "data": {
      "text/plain": [
       "<matplotlib.text.Text at 0x24912f05d30>"
      ]
     },
     "execution_count": 21,
     "metadata": {},
     "output_type": "execute_result"
    },
    {
     "data": {
      "image/png": "[encoded data removed]",
      "text/plain": [
       "<matplotlib.figure.Figure at 0x24912b8b860>"
      ]
     },
     "metadata": {},
     "output_type": "display_data"
    }
   ],
   "source": [
    "pca_2 = PCA(2)\n",
    "plot_columns = pca_2.fit_transform(clustervar)\n",
    "plt.scatter(x=plot_columns[:,0], y=plot_columns[:,1], c=model3.labels_,)\n",
    "plt.xlabel('Canonical variable 1')\n",
    "plt.ylabel('Canonical variable 2')\n",
    "plt.title('Scatterplot of Canonical Variables for 3 Clusters')"
   ]
  },
  {
   "cell_type": "code",
   "execution_count": 22,
   "metadata": {
    "collapsed": false
   },
   "outputs": [],
   "source": [
    "clustervar.reset_index(level=0, inplace=True)"
   ]
  },
  {
   "cell_type": "code",
   "execution_count": 23,
   "metadata": {
    "collapsed": false
   },
   "outputs": [],
   "source": [
    "cluslist=clustervar['index'].tolist()\n",
    "labels=model3.labels_.tolist()\n",
    "newlist=dict(zip(cluslist, labels))\n",
    "newclus = pd.DataFrame.from_dict(newlist, orient='index')\n",
    "newclus.columns = ['cluster']"
   ]
  },
  {
   "cell_type": "code",
   "execution_count": 24,
   "metadata": {
    "collapsed": false
   },
   "outputs": [],
   "source": [
    "newclus.reset_index(level=0, inplace=True)"
   ]
  },
  {
   "cell_type": "code",
   "execution_count": 25,
   "metadata": {
    "collapsed": false
   },
   "outputs": [
    {
     "data": {
      "text/html": [
       "<div>\n",
       "<table border=\"1\" class=\"dataframe\">\n",
       "  <thead>\n",
       "    <tr style=\"text-align: right;\">\n",
       "      <th></th>\n",
       "      <th>index</th>\n",
       "      <th>GDP_2012</th>\n",
       "      <th>Healthcare_spending_2009</th>\n",
       "      <th>Bachelor_degree</th>\n",
       "      <th>Advanced_degree</th>\n",
       "      <th>Median_household_income_2014</th>\n",
       "      <th>Average_annual_Temp_C</th>\n",
       "      <th>Latitude</th>\n",
       "      <th>Longitude</th>\n",
       "      <th>Cholesterol</th>\n",
       "      <th>Diabetes</th>\n",
       "      <th>Hypertension</th>\n",
       "      <th>Obesity</th>\n",
       "      <th>Phys_inact</th>\n",
       "      <th>Smoking</th>\n",
       "      <th>cluster</th>\n",
       "    </tr>\n",
       "  </thead>\n",
       "  <tbody>\n",
       "    <tr>\n",
       "      <th>0</th>\n",
       "      <td>0</td>\n",
       "      <td>-1.199013</td>\n",
       "      <td>-0.752927</td>\n",
       "      <td>-1.128479</td>\n",
       "      <td>-0.798281</td>\n",
       "      <td>-1.101742</td>\n",
       "      <td>1.260186</td>\n",
       "      <td>-1.091670</td>\n",
       "      <td>0.374973</td>\n",
       "      <td>2.076632</td>\n",
       "      <td>2.467571</td>\n",
       "      <td>1.703113</td>\n",
       "      <td>0.770304</td>\n",
       "      <td>1.059615</td>\n",
       "      <td>0.763055</td>\n",
       "      <td>1</td>\n",
       "    </tr>\n",
       "    <tr>\n",
       "      <th>1</th>\n",
       "      <td>1</td>\n",
       "      <td>2.461891</td>\n",
       "      <td>2.324460</td>\n",
       "      <td>-0.207188</td>\n",
       "      <td>0.095607</td>\n",
       "      <td>1.073047</td>\n",
       "      <td>-2.943223</td>\n",
       "      <td>3.995189</td>\n",
       "      <td>-2.859885</td>\n",
       "      <td>-0.160117</td>\n",
       "      <td>-1.966426</td>\n",
       "      <td>0.459466</td>\n",
       "      <td>0.342896</td>\n",
       "      <td>-0.763285</td>\n",
       "      <td>0.806559</td>\n",
       "      <td>0</td>\n",
       "    </tr>\n",
       "    <tr>\n",
       "      <th>2</th>\n",
       "      <td>2</td>\n",
       "      <td>-0.868081</td>\n",
       "      <td>-1.655655</td>\n",
       "      <td>-0.309554</td>\n",
       "      <td>-0.215310</td>\n",
       "      <td>-0.491667</td>\n",
       "      <td>0.967412</td>\n",
       "      <td>-0.769749</td>\n",
       "      <td>-0.955821</td>\n",
       "      <td>1.051190</td>\n",
       "      <td>0.607914</td>\n",
       "      <td>-0.216657</td>\n",
       "      <td>-0.428659</td>\n",
       "      <td>-0.162282</td>\n",
       "      <td>-0.819399</td>\n",
       "      <td>2</td>\n",
       "    </tr>\n",
       "    <tr>\n",
       "      <th>3</th>\n",
       "      <td>3</td>\n",
       "      <td>-1.298806</td>\n",
       "      <td>-0.865776</td>\n",
       "      <td>-1.619834</td>\n",
       "      <td>-1.264657</td>\n",
       "      <td>-1.407932</td>\n",
       "      <td>0.988324</td>\n",
       "      <td>-0.788393</td>\n",
       "      <td>0.076185</td>\n",
       "      <td>1.637429</td>\n",
       "      <td>0.802444</td>\n",
       "      <td>1.401835</td>\n",
       "      <td>1.769440</td>\n",
       "      <td>2.133748</td>\n",
       "      <td>1.690401</td>\n",
       "      <td>1</td>\n",
       "    </tr>\n",
       "    <tr>\n",
       "      <th>4</th>\n",
       "      <td>4</td>\n",
       "      <td>0.521577</td>\n",
       "      <td>-0.789627</td>\n",
       "      <td>0.488898</td>\n",
       "      <td>0.328795</td>\n",
       "      <td>1.899426</td>\n",
       "      <td>0.862849</td>\n",
       "      <td>-0.329050</td>\n",
       "      <td>-1.444892</td>\n",
       "      <td>0.359287</td>\n",
       "      <td>0.556110</td>\n",
       "      <td>-0.616026</td>\n",
       "      <td>-1.569735</td>\n",
       "      <td>-1.310297</td>\n",
       "      <td>-1.864399</td>\n",
       "      <td>2</td>\n",
       "    </tr>\n",
       "  </tbody>\n",
       "</table>\n",
       "</div>"
      ],
      "text/plain": [
       "   index  GDP_2012  Healthcare_spending_2009  Bachelor_degree  \\\n",
       "0      0 -1.199013                 -0.752927        -1.128479   \n",
       "1      1  2.461891                  2.324460        -0.207188   \n",
       "2      2 -0.868081                 -1.655655        -0.309554   \n",
       "3      3 -1.298806                 -0.865776        -1.619834   \n",
       "4      4  0.521577                 -0.789627         0.488898   \n",
       "\n",
       "   Advanced_degree  Median_household_income_2014  Average_annual_Temp_C  \\\n",
       "0        -0.798281                     -1.101742               1.260186   \n",
       "1         0.095607                      1.073047              -2.943223   \n",
       "2        -0.215310                     -0.491667               0.967412   \n",
       "3        -1.264657                     -1.407932               0.988324   \n",
       "4         0.328795                      1.899426               0.862849   \n",
       "\n",
       "   Latitude  Longitude  Cholesterol  Diabetes  Hypertension   Obesity  \\\n",
       "0 -1.091670   0.374973     2.076632  2.467571      1.703113  0.770304   \n",
       "1  3.995189  -2.859885    -0.160117 -1.966426      0.459466  0.342896   \n",
       "2 -0.769749  -0.955821     1.051190  0.607914     -0.216657 -0.428659   \n",
       "3 -0.788393   0.076185     1.637429  0.802444      1.401835  1.769440   \n",
       "4 -0.329050  -1.444892     0.359287  0.556110     -0.616026 -1.569735   \n",
       "\n",
       "   Phys_inact   Smoking  cluster  \n",
       "0    1.059615  0.763055        1  \n",
       "1   -0.763285  0.806559        0  \n",
       "2   -0.162282 -0.819399        2  \n",
       "3    2.133748  1.690401        1  \n",
       "4   -1.310297 -1.864399        2  "
      ]
     },
     "execution_count": 25,
     "metadata": {},
     "output_type": "execute_result"
    }
   ],
   "source": [
    "merged = pd.merge(clustervar, newclus, on='index')\n",
    "merged.head()"
   ]
  },
  {
   "cell_type": "code",
   "execution_count": 26,
   "metadata": {
    "collapsed": false
   },
   "outputs": [],
   "source": [
    "clustergrp = merged.groupby('cluster').mean()"
   ]
  },
  {
   "cell_type": "code",
   "execution_count": 27,
   "metadata": {
    "collapsed": false
   },
   "outputs": [
    {
     "name": "stdout",
     "output_type": "stream",
     "text": [
      "                                       Clustering variable means by cluster\n"
     ]
    },
    {
     "data": {
      "text/html": [
       "<div>\n",
       "<table border=\"1\" class=\"dataframe\">\n",
       "  <thead>\n",
       "    <tr style=\"text-align: right;\">\n",
       "      <th></th>\n",
       "      <th>index</th>\n",
       "      <th>GDP_2012</th>\n",
       "      <th>Healthcare_spending_2009</th>\n",
       "      <th>Bachelor_degree</th>\n",
       "      <th>Advanced_degree</th>\n",
       "      <th>Median_household_income_2014</th>\n",
       "      <th>Average_annual_Temp_C</th>\n",
       "      <th>Latitude</th>\n",
       "      <th>Longitude</th>\n",
       "      <th>Cholesterol</th>\n",
       "      <th>Diabetes</th>\n",
       "      <th>Hypertension</th>\n",
       "      <th>Obesity</th>\n",
       "      <th>Phys_inact</th>\n",
       "      <th>Smoking</th>\n",
       "    </tr>\n",
       "    <tr>\n",
       "      <th>cluster</th>\n",
       "      <th></th>\n",
       "      <th></th>\n",
       "      <th></th>\n",
       "      <th></th>\n",
       "      <th></th>\n",
       "      <th></th>\n",
       "      <th></th>\n",
       "      <th></th>\n",
       "      <th></th>\n",
       "      <th></th>\n",
       "      <th></th>\n",
       "      <th></th>\n",
       "      <th></th>\n",
       "      <th></th>\n",
       "      <th></th>\n",
       "    </tr>\n",
       "  </thead>\n",
       "  <tbody>\n",
       "    <tr>\n",
       "      <th>0</th>\n",
       "      <td>24.357143</td>\n",
       "      <td>0.940034</td>\n",
       "      <td>0.894642</td>\n",
       "      <td>1.208383</td>\n",
       "      <td>1.269876</td>\n",
       "      <td>1.146726</td>\n",
       "      <td>-0.577125</td>\n",
       "      <td>0.604784</td>\n",
       "      <td>0.386284</td>\n",
       "      <td>-0.183811</td>\n",
       "      <td>-0.848610</td>\n",
       "      <td>-0.499230</td>\n",
       "      <td>-0.792083</td>\n",
       "      <td>-0.401747</td>\n",
       "      <td>-0.551234</td>\n",
       "    </tr>\n",
       "    <tr>\n",
       "      <th>1</th>\n",
       "      <td>24.181818</td>\n",
       "      <td>-0.890878</td>\n",
       "      <td>-0.414416</td>\n",
       "      <td>-1.163842</td>\n",
       "      <td>-0.890143</td>\n",
       "      <td>-1.096263</td>\n",
       "      <td>0.836233</td>\n",
       "      <td>-0.700125</td>\n",
       "      <td>0.360159</td>\n",
       "      <td>1.150025</td>\n",
       "      <td>1.210856</td>\n",
       "      <td>1.533206</td>\n",
       "      <td>1.147050</td>\n",
       "      <td>1.294211</td>\n",
       "      <td>1.187218</td>\n",
       "    </tr>\n",
       "    <tr>\n",
       "      <th>2</th>\n",
       "      <td>24.720000</td>\n",
       "      <td>-0.134433</td>\n",
       "      <td>-0.318657</td>\n",
       "      <td>-0.164604</td>\n",
       "      <td>-0.319468</td>\n",
       "      <td>-0.159811</td>\n",
       "      <td>-0.044753</td>\n",
       "      <td>-0.030624</td>\n",
       "      <td>-0.374789</td>\n",
       "      <td>-0.403077</td>\n",
       "      <td>-0.057555</td>\n",
       "      <td>-0.395042</td>\n",
       "      <td>-0.061135</td>\n",
       "      <td>-0.344475</td>\n",
       "      <td>-0.213685</td>\n",
       "    </tr>\n",
       "  </tbody>\n",
       "</table>\n",
       "</div>"
      ],
      "text/plain": [
       "             index  GDP_2012  Healthcare_spending_2009  Bachelor_degree  \\\n",
       "cluster                                                                   \n",
       "0        24.357143  0.940034                  0.894642         1.208383   \n",
       "1        24.181818 -0.890878                 -0.414416        -1.163842   \n",
       "2        24.720000 -0.134433                 -0.318657        -0.164604   \n",
       "\n",
       "         Advanced_degree  Median_household_income_2014  Average_annual_Temp_C  \\\n",
       "cluster                                                                         \n",
       "0               1.269876                      1.146726              -0.577125   \n",
       "1              -0.890143                     -1.096263               0.836233   \n",
       "2              -0.319468                     -0.159811              -0.044753   \n",
       "\n",
       "         Latitude  Longitude  Cholesterol  Diabetes  Hypertension   Obesity  \\\n",
       "cluster                                                                       \n",
       "0        0.604784   0.386284    -0.183811 -0.848610     -0.499230 -0.792083   \n",
       "1       -0.700125   0.360159     1.150025  1.210856      1.533206  1.147050   \n",
       "2       -0.030624  -0.374789    -0.403077 -0.057555     -0.395042 -0.061135   \n",
       "\n",
       "         Phys_inact   Smoking  \n",
       "cluster                        \n",
       "0         -0.401747 -0.551234  \n",
       "1          1.294211  1.187218  \n",
       "2         -0.344475 -0.213685  "
      ]
     },
     "execution_count": 27,
     "metadata": {},
     "output_type": "execute_result"
    }
   ],
   "source": [
    "print('                                       Clustering variable means by cluster')\n",
    "clustergrp"
   ]
  },
  {
   "cell_type": "code",
   "execution_count": 38,
   "metadata": {
    "collapsed": true
   },
   "outputs": [],
   "source": [
    "chd_data = df_merged[['CHD']]"
   ]
  },
  {
   "cell_type": "code",
   "execution_count": 39,
   "metadata": {
    "collapsed": false
   },
   "outputs": [],
   "source": [
    "chd_data.reset_index(level=0, inplace=True)"
   ]
  },
  {
   "cell_type": "code",
   "execution_count": 40,
   "metadata": {
    "collapsed": false
   },
   "outputs": [],
   "source": [
    "merged_all = pd.merge(chd_data, merged, on='index')"
   ]
  },
  {
   "cell_type": "code",
   "execution_count": 41,
   "metadata": {
    "collapsed": false
   },
   "outputs": [
    {
     "data": {
      "text/html": [
       "<div>\n",
       "<table border=\"1\" class=\"dataframe\">\n",
       "  <thead>\n",
       "    <tr style=\"text-align: right;\">\n",
       "      <th></th>\n",
       "      <th>index</th>\n",
       "      <th>CHD</th>\n",
       "      <th>GDP_2012</th>\n",
       "      <th>Healthcare_spending_2009</th>\n",
       "      <th>Bachelor_degree</th>\n",
       "      <th>Advanced_degree</th>\n",
       "      <th>Median_household_income_2014</th>\n",
       "      <th>Average_annual_Temp_C</th>\n",
       "      <th>Latitude</th>\n",
       "      <th>Longitude</th>\n",
       "      <th>Cholesterol</th>\n",
       "      <th>Diabetes</th>\n",
       "      <th>Hypertension</th>\n",
       "      <th>Obesity</th>\n",
       "      <th>Phys_inact</th>\n",
       "      <th>Smoking</th>\n",
       "      <th>cluster</th>\n",
       "    </tr>\n",
       "  </thead>\n",
       "  <tbody>\n",
       "    <tr>\n",
       "      <th>0</th>\n",
       "      <td>0</td>\n",
       "      <td>6.666667</td>\n",
       "      <td>-1.199013</td>\n",
       "      <td>-0.752927</td>\n",
       "      <td>-1.128479</td>\n",
       "      <td>-0.798281</td>\n",
       "      <td>-1.101742</td>\n",
       "      <td>1.260186</td>\n",
       "      <td>-1.091670</td>\n",
       "      <td>0.374973</td>\n",
       "      <td>2.076632</td>\n",
       "      <td>2.467571</td>\n",
       "      <td>1.703113</td>\n",
       "      <td>0.770304</td>\n",
       "      <td>1.059615</td>\n",
       "      <td>0.763055</td>\n",
       "      <td>1</td>\n",
       "    </tr>\n",
       "    <tr>\n",
       "      <th>1</th>\n",
       "      <td>1</td>\n",
       "      <td>5.066667</td>\n",
       "      <td>2.461891</td>\n",
       "      <td>2.324460</td>\n",
       "      <td>-0.207188</td>\n",
       "      <td>0.095607</td>\n",
       "      <td>1.073047</td>\n",
       "      <td>-2.943223</td>\n",
       "      <td>3.995189</td>\n",
       "      <td>-2.859885</td>\n",
       "      <td>-0.160117</td>\n",
       "      <td>-1.966426</td>\n",
       "      <td>0.459466</td>\n",
       "      <td>0.342896</td>\n",
       "      <td>-0.763285</td>\n",
       "      <td>0.806559</td>\n",
       "      <td>0</td>\n",
       "    </tr>\n",
       "    <tr>\n",
       "      <th>2</th>\n",
       "      <td>2</td>\n",
       "      <td>5.460000</td>\n",
       "      <td>-0.868081</td>\n",
       "      <td>-1.655655</td>\n",
       "      <td>-0.309554</td>\n",
       "      <td>-0.215310</td>\n",
       "      <td>-0.491667</td>\n",
       "      <td>0.967412</td>\n",
       "      <td>-0.769749</td>\n",
       "      <td>-0.955821</td>\n",
       "      <td>1.051190</td>\n",
       "      <td>0.607914</td>\n",
       "      <td>-0.216657</td>\n",
       "      <td>-0.428659</td>\n",
       "      <td>-0.162282</td>\n",
       "      <td>-0.819399</td>\n",
       "      <td>2</td>\n",
       "    </tr>\n",
       "    <tr>\n",
       "      <th>3</th>\n",
       "      <td>3</td>\n",
       "      <td>7.357143</td>\n",
       "      <td>-1.298806</td>\n",
       "      <td>-0.865776</td>\n",
       "      <td>-1.619834</td>\n",
       "      <td>-1.264657</td>\n",
       "      <td>-1.407932</td>\n",
       "      <td>0.988324</td>\n",
       "      <td>-0.788393</td>\n",
       "      <td>0.076185</td>\n",
       "      <td>1.637429</td>\n",
       "      <td>0.802444</td>\n",
       "      <td>1.401835</td>\n",
       "      <td>1.769440</td>\n",
       "      <td>2.133748</td>\n",
       "      <td>1.690401</td>\n",
       "      <td>1</td>\n",
       "    </tr>\n",
       "    <tr>\n",
       "      <th>4</th>\n",
       "      <td>4</td>\n",
       "      <td>3.537500</td>\n",
       "      <td>0.521577</td>\n",
       "      <td>-0.789627</td>\n",
       "      <td>0.488898</td>\n",
       "      <td>0.328795</td>\n",
       "      <td>1.899426</td>\n",
       "      <td>0.862849</td>\n",
       "      <td>-0.329050</td>\n",
       "      <td>-1.444892</td>\n",
       "      <td>0.359287</td>\n",
       "      <td>0.556110</td>\n",
       "      <td>-0.616026</td>\n",
       "      <td>-1.569735</td>\n",
       "      <td>-1.310297</td>\n",
       "      <td>-1.864399</td>\n",
       "      <td>2</td>\n",
       "    </tr>\n",
       "  </tbody>\n",
       "</table>\n",
       "</div>"
      ],
      "text/plain": [
       "   index       CHD  GDP_2012  Healthcare_spending_2009  Bachelor_degree  \\\n",
       "0      0  6.666667 -1.199013                 -0.752927        -1.128479   \n",
       "1      1  5.066667  2.461891                  2.324460        -0.207188   \n",
       "2      2  5.460000 -0.868081                 -1.655655        -0.309554   \n",
       "3      3  7.357143 -1.298806                 -0.865776        -1.619834   \n",
       "4      4  3.537500  0.521577                 -0.789627         0.488898   \n",
       "\n",
       "   Advanced_degree  Median_household_income_2014  Average_annual_Temp_C  \\\n",
       "0        -0.798281                     -1.101742               1.260186   \n",
       "1         0.095607                      1.073047              -2.943223   \n",
       "2        -0.215310                     -0.491667               0.967412   \n",
       "3        -1.264657                     -1.407932               0.988324   \n",
       "4         0.328795                      1.899426               0.862849   \n",
       "\n",
       "   Latitude  Longitude  Cholesterol  Diabetes  Hypertension   Obesity  \\\n",
       "0 -1.091670   0.374973     2.076632  2.467571      1.703113  0.770304   \n",
       "1  3.995189  -2.859885    -0.160117 -1.966426      0.459466  0.342896   \n",
       "2 -0.769749  -0.955821     1.051190  0.607914     -0.216657 -0.428659   \n",
       "3 -0.788393   0.076185     1.637429  0.802444      1.401835  1.769440   \n",
       "4 -0.329050  -1.444892     0.359287  0.556110     -0.616026 -1.569735   \n",
       "\n",
       "   Phys_inact   Smoking  cluster  \n",
       "0    1.059615  0.763055        1  \n",
       "1   -0.763285  0.806559        0  \n",
       "2   -0.162282 -0.819399        2  \n",
       "3    2.133748  1.690401        1  \n",
       "4   -1.310297 -1.864399        2  "
      ]
     },
     "execution_count": 41,
     "metadata": {},
     "output_type": "execute_result"
    }
   ],
   "source": [
    "merged_all.head()"
   ]
  },
  {
   "cell_type": "code",
   "execution_count": 42,
   "metadata": {
    "collapsed": false
   },
   "outputs": [],
   "source": [
    "sub1 = merged_all[['CHD', 'cluster']].dropna()"
   ]
  },
  {
   "cell_type": "code",
   "execution_count": 43,
   "metadata": {
    "collapsed": true
   },
   "outputs": [],
   "source": [
    "import statsmodels.formula.api as smf\n",
    "import statsmodels.stats.multicomp as multi"
   ]
  },
  {
   "cell_type": "code",
   "execution_count": 44,
   "metadata": {
    "collapsed": true
   },
   "outputs": [],
   "source": [
    "chdmod = smf.ols(formula='CHD ~ C(cluster)', data = sub1).fit()"
   ]
  },
  {
   "cell_type": "code",
   "execution_count": 45,
   "metadata": {
    "collapsed": false
   },
   "outputs": [
    {
     "name": "stdout",
     "output_type": "stream",
     "text": [
      "                            OLS Regression Results                            \n",
      "==============================================================================\n",
      "Dep. Variable:                    CHD   R-squared:                       0.272\n",
      "Model:                            OLS   Adj. R-squared:                  0.241\n",
      "Method:                 Least Squares   F-statistic:                     8.762\n",
      "Date:                Tue, 28 Feb 2017   Prob (F-statistic):           0.000583\n",
      "Time:                        08:28:24   Log-Likelihood:                -65.214\n",
      "No. Observations:                  50   AIC:                             136.4\n",
      "Df Residuals:                      47   BIC:                             142.2\n",
      "Df Model:                           2                                         \n",
      "Covariance Type:            nonrobust                                         \n",
      "===================================================================================\n",
      "                      coef    std err          t      P>|t|      [95.0% Conf. Int.]\n",
      "-----------------------------------------------------------------------------------\n",
      "Intercept           4.9733      0.246     20.233      0.000         4.479     5.468\n",
      "C(cluster)[T.1]     1.4613      0.371      3.944      0.000         0.716     2.207\n",
      "C(cluster)[T.2]     0.2776      0.307      0.904      0.370        -0.340     0.895\n",
      "==============================================================================\n",
      "Omnibus:                        1.567   Durbin-Watson:                   2.048\n",
      "Prob(Omnibus):                  0.457   Jarque-Bera (JB):                1.538\n",
      "Skew:                          -0.350   Prob(JB):                        0.463\n",
      "Kurtosis:                       2.503   Cond. No.                         4.21\n",
      "==============================================================================\n",
      "\n",
      "Warnings:\n",
      "[1] Standard Errors assume that the covariance matrix of the errors is correctly specified.\n"
     ]
    }
   ],
   "source": [
    "print(chdmod.summary())"
   ]
  },
  {
   "cell_type": "code",
   "execution_count": 46,
   "metadata": {
    "collapsed": false
   },
   "outputs": [
    {
     "name": "stdout",
     "output_type": "stream",
     "text": [
      "mean for CHD by cluster\n",
      "              CHD\n",
      "cluster          \n",
      "0        4.973316\n",
      "1        6.434632\n",
      "2        5.250910\n",
      "standard deviation for CHD by cluster\n",
      "              CHD\n",
      "cluster          \n",
      "0        0.802721\n",
      "1        1.050874\n",
      "2        0.920464\n",
      "Multiple Comparison of Means - Tukey HSD,FWER=0.05\n",
      "=============================================\n",
      "group1 group2 meandiff  lower   upper  reject\n",
      "---------------------------------------------\n",
      "  0      1     1.4613   0.5645  2.3581  True \n",
      "  0      2     0.2776  -0.4654  1.0206 False \n",
      "  1      2    -1.1837   -1.989 -0.3784  True \n",
      "---------------------------------------------\n"
     ]
    }
   ],
   "source": [
    "print('mean for CHD by cluster')\n",
    "m1 = sub1.groupby('cluster').mean()\n",
    "print(m1)\n",
    "\n",
    "print('standard deviation for CHD by cluster')\n",
    "m2 = sub1.groupby('cluster').std()\n",
    "print(m2)\n",
    "\n",
    "mc1 = multi.MultiComparison(sub1['CHD'], sub1['cluster'])\n",
    "res1 = mc1.tukeyhsd()\n",
    "print(res1.summary())"
   ]
  },
  {
   "cell_type": "code",
   "execution_count": null,
   "metadata": {
    "collapsed": true
   },
   "outputs": [],
   "source": []
  },
  {
   "cell_type": "markdown",
   "metadata": {
    "collapsed": true
   },
   "source": [
    "## Affinity Propagation"
   ]
  },
  {
   "cell_type": "markdown",
   "metadata": {},
   "source": [
    "**CHD**"
   ]
  },
  {
   "cell_type": "code",
   "execution_count": 51,
   "metadata": {
    "collapsed": false
   },
   "outputs": [],
   "source": [
    "from sklearn.cluster import AffinityPropagation\n",
    "from sklearn.preprocessing import StandardScaler"
   ]
  },
  {
   "cell_type": "code",
   "execution_count": 52,
   "metadata": {
    "collapsed": true
   },
   "outputs": [],
   "source": [
    "# Defining independent and dependent variables for regression\n",
    "X = df_X.values       #iloc[:,1:].values #reshape(-1, 1)\n",
    "labels_true = df_merged['CHD'].values #reshape(-1, 1)\n",
    "# normalize dataset for easier parameter selection\n",
    "X = StandardScaler().fit_transform(X)"
   ]
  },
  {
   "cell_type": "code",
   "execution_count": 53,
   "metadata": {
    "collapsed": false
   },
   "outputs": [
    {
     "name": "stdout",
     "output_type": "stream",
     "text": [
      "Estimated number of clusters: 4\n",
      "Homogeneity: 0.328\n",
      "Completeness: 0.978\n",
      "V-measure: 0.492\n",
      "Adjusted Rand Index: 0.010\n",
      "Adjusted Mutual Information: 0.019\n",
      "Silhouette Coefficient: 0.239\n"
     ]
    }
   ],
   "source": [
    "af = AffinityPropagation(preference=-50).fit(X)\n",
    "cluster_centers_indices = af.cluster_centers_indices_\n",
    "labels = af.labels_\n",
    "\n",
    "n_clusters_ = len(cluster_centers_indices)\n",
    "\n",
    "print('Estimated number of clusters: %d' % n_clusters_)\n",
    "print(\"Homogeneity: %0.3f\" % metrics.homogeneity_score(labels_true, labels))\n",
    "print(\"Completeness: %0.3f\" % metrics.completeness_score(labels_true, labels))\n",
    "print(\"V-measure: %0.3f\" % metrics.v_measure_score(labels_true, labels))\n",
    "print(\"Adjusted Rand Index: %0.3f\"\n",
    "      % metrics.adjusted_rand_score(labels_true, labels))\n",
    "print(\"Adjusted Mutual Information: %0.3f\"\n",
    "      % metrics.adjusted_mutual_info_score(labels_true, labels))\n",
    "print(\"Silhouette Coefficient: %0.3f\"\n",
    "      % metrics.silhouette_score(X, labels))"
   ]
  },
  {
   "cell_type": "code",
   "execution_count": 54,
   "metadata": {
    "collapsed": false
   },
   "outputs": [
    {
     "data": {
      "text/plain": [
       "<matplotlib.text.Text at 0x24915752358>"
      ]
     },
     "execution_count": 54,
     "metadata": {},
     "output_type": "execute_result"
    },
    {
     "data": {
      "image/png": "[encoded data removed]",
      "text/plain": [
       "<matplotlib.figure.Figure at 0x24913deb198>"
      ]
     },
     "metadata": {},
     "output_type": "display_data"
    }
   ],
   "source": [
    "from itertools import cycle\n",
    "\n",
    "plt.close('all')\n",
    "plt.figure(1)\n",
    "plt.clf()\n",
    "\n",
    "colors = cycle('bgrcmykbgrcmykbgrcmykbgrcmyk')\n",
    "for k, col in zip(range(n_clusters_), colors):\n",
    "    class_members = labels == k\n",
    "    cluster_center = X[cluster_centers_indices[k]]\n",
    "    plt.plot(X[class_members, 0], X[class_members, 1], col + '.')\n",
    "    plt.plot(cluster_center[0], cluster_center[1], 'o', markerfacecolor=col,\n",
    "             markeredgecolor='k', markersize=14)\n",
    "    for x in X[class_members]:\n",
    "        plt.plot([cluster_center[0], x[0]], [cluster_center[1], x[1]], col)\n",
    "\n",
    "plt.title('Estimated number of clusters: %d' % n_clusters_)"
   ]
  },
  {
   "cell_type": "markdown",
   "metadata": {
    "collapsed": true
   },
   "source": [
    "**Heart Attack**"
   ]
  },
  {
   "cell_type": "code",
   "execution_count": 55,
   "metadata": {
    "collapsed": true
   },
   "outputs": [],
   "source": [
    "# Defining independent and dependent variables for regression\n",
    "X = df_X.values       \n",
    "labels_true = df_merged['Heart_attack'].values\n",
    "# normalize dataset for easier parameter selection\n",
    "X = StandardScaler().fit_transform(X)"
   ]
  },
  {
   "cell_type": "code",
   "execution_count": 56,
   "metadata": {
    "collapsed": false
   },
   "outputs": [
    {
     "name": "stdout",
     "output_type": "stream",
     "text": [
      "Estimated number of clusters: 4\n",
      "Homogeneity: 0.321\n",
      "Completeness: 0.978\n",
      "V-measure: 0.484\n",
      "Adjusted Rand Index: -0.002\n",
      "Adjusted Mutual Information: -0.003\n",
      "Silhouette Coefficient: 0.239\n"
     ]
    }
   ],
   "source": [
    "af = AffinityPropagation(preference=-50).fit(X)\n",
    "cluster_centers_indices = af.cluster_centers_indices_\n",
    "labels = af.labels_\n",
    "\n",
    "n_clusters_ = len(cluster_centers_indices)\n",
    "\n",
    "print('Estimated number of clusters: %d' % n_clusters_)\n",
    "print(\"Homogeneity: %0.3f\" % metrics.homogeneity_score(labels_true, labels))\n",
    "print(\"Completeness: %0.3f\" % metrics.completeness_score(labels_true, labels))\n",
    "print(\"V-measure: %0.3f\" % metrics.v_measure_score(labels_true, labels))\n",
    "print(\"Adjusted Rand Index: %0.3f\"\n",
    "      % metrics.adjusted_rand_score(labels_true, labels))\n",
    "print(\"Adjusted Mutual Information: %0.3f\"\n",
    "      % metrics.adjusted_mutual_info_score(labels_true, labels))\n",
    "print(\"Silhouette Coefficient: %0.3f\"\n",
    "      % metrics.silhouette_score(X, labels))"
   ]
  },
  {
   "cell_type": "markdown",
   "metadata": {
    "collapsed": false
   },
   "source": [
    "**Stroke**"
   ]
  },
  {
   "cell_type": "code",
   "execution_count": 57,
   "metadata": {
    "collapsed": true
   },
   "outputs": [],
   "source": [
    "# Defining independent and dependent variables for regression\n",
    "X = df_X.values       \n",
    "labels_true = df_merged['Stroke'].values\n",
    "# normalize dataset for easier parameter selection\n",
    "X = StandardScaler().fit_transform(X)"
   ]
  },
  {
   "cell_type": "code",
   "execution_count": 58,
   "metadata": {
    "collapsed": false
   },
   "outputs": [
    {
     "name": "stdout",
     "output_type": "stream",
     "text": [
      "Estimated number of clusters: 4\n",
      "Homogeneity: 0.317\n",
      "Completeness: 0.957\n",
      "V-measure: 0.476\n",
      "Adjusted Rand Index: -0.003\n",
      "Adjusted Mutual Information: -0.006\n",
      "Silhouette Coefficient: 0.239\n"
     ]
    }
   ],
   "source": [
    "af = AffinityPropagation(preference=-50).fit(X)\n",
    "cluster_centers_indices = af.cluster_centers_indices_\n",
    "labels = af.labels_\n",
    "\n",
    "n_clusters_ = len(cluster_centers_indices)\n",
    "\n",
    "print('Estimated number of clusters: %d' % n_clusters_)\n",
    "print(\"Homogeneity: %0.3f\" % metrics.homogeneity_score(labels_true, labels))\n",
    "print(\"Completeness: %0.3f\" % metrics.completeness_score(labels_true, labels))\n",
    "print(\"V-measure: %0.3f\" % metrics.v_measure_score(labels_true, labels))\n",
    "print(\"Adjusted Rand Index: %0.3f\"\n",
    "      % metrics.adjusted_rand_score(labels_true, labels))\n",
    "print(\"Adjusted Mutual Information: %0.3f\"\n",
    "      % metrics.adjusted_mutual_info_score(labels_true, labels))\n",
    "print(\"Silhouette Coefficient: %0.3f\"\n",
    "      % metrics.silhouette_score(X, labels))"
   ]
  },
  {
   "cell_type": "markdown",
   "metadata": {
    "collapsed": false
   },
   "source": [
    "## DBSCAN"
   ]
  },
  {
   "cell_type": "code",
   "execution_count": 59,
   "metadata": {
    "collapsed": true
   },
   "outputs": [],
   "source": [
    "# Defining independent and dependent variables for regression\n",
    "X = df_X.values   #iloc[:,1:].values #reshape(-1, 1)\n",
    "labels_true = df_merged['CHD'].values  #.reshape(-1, 1)\n",
    "X = StandardScaler().fit_transform(X)"
   ]
  },
  {
   "cell_type": "code",
   "execution_count": 60,
   "metadata": {
    "collapsed": true
   },
   "outputs": [],
   "source": [
    "from sklearn.cluster import DBSCAN"
   ]
  },
  {
   "cell_type": "code",
   "execution_count": 61,
   "metadata": {
    "collapsed": false
   },
   "outputs": [
    {
     "data": {
      "text/plain": [
       "array([-1, -1, -1, -1, -1, -1, -1, -1, -1, -1, -1, -1, -1, -1, -1, -1, -1,\n",
       "       -1, -1, -1, -1, -1, -1, -1, -1, -1, -1, -1, -1, -1, -1, -1, -1, -1,\n",
       "       -1, -1, -1, -1, -1, -1, -1, -1, -1, -1, -1, -1, -1, -1, -1, -1], dtype=int64)"
      ]
     },
     "execution_count": 61,
     "metadata": {},
     "output_type": "execute_result"
    }
   ],
   "source": [
    "db = DBSCAN(eps=0.3, min_samples=5).fit(X)\n",
    "db.labels_"
   ]
  },
  {
   "cell_type": "code",
   "execution_count": 62,
   "metadata": {
    "collapsed": false
   },
   "outputs": [
    {
     "name": "stdout",
     "output_type": "stream",
     "text": [
      "Estimated number of clusters: 0\n",
      "Homogeneity: 0.000\n",
      "Completeness: 1.000\n",
      "V-measure: 0.000\n",
      "Adjusted Rand Index: 0.000\n",
      "Adjusted Mutual Information: -0.000\n"
     ]
    },
    {
     "ename": "ValueError",
     "evalue": "Number of labels is 1. Valid values are 2 to n_samples - 1 (inclusive)",
     "output_type": "error",
     "traceback": [
      "\u001b[0;31m---------------------------------------------------------------------------\u001b[0m",
      "\u001b[0;31mValueError\u001b[0m                                Traceback (most recent call last)",
      "\u001b[0;32m<ipython-input-62-48d70caf4a3d>\u001b[0m in \u001b[0;36m<module>\u001b[0;34m()\u001b[0m\n\u001b[1;32m     16\u001b[0m       % metrics.adjusted_mutual_info_score(labels_true, labels))\n\u001b[1;32m     17\u001b[0m print(\"Silhouette Coefficient: %0.3f\"\n\u001b[0;32m---> 18\u001b[0;31m       % metrics.silhouette_score(X, labels))\n\u001b[0m",
      "\u001b[0;32mC:\\Users\\Igor\\Anaconda3\\lib\\site-packages\\sklearn\\metrics\\cluster\\unsupervised.py\u001b[0m in \u001b[0;36msilhouette_score\u001b[0;34m(X, labels, metric, sample_size, random_state, **kwds)\u001b[0m\n\u001b[1;32m     98\u001b[0m         \u001b[1;32melse\u001b[0m\u001b[1;33m:\u001b[0m\u001b[1;33m\u001b[0m\u001b[0m\n\u001b[1;32m     99\u001b[0m             \u001b[0mX\u001b[0m\u001b[1;33m,\u001b[0m \u001b[0mlabels\u001b[0m \u001b[1;33m=\u001b[0m \u001b[0mX\u001b[0m\u001b[1;33m[\u001b[0m\u001b[0mindices\u001b[0m\u001b[1;33m]\u001b[0m\u001b[1;33m,\u001b[0m \u001b[0mlabels\u001b[0m\u001b[1;33m[\u001b[0m\u001b[0mindices\u001b[0m\u001b[1;33m]\u001b[0m\u001b[1;33m\u001b[0m\u001b[0m\n\u001b[0;32m--> 100\u001b[0;31m     \u001b[1;32mreturn\u001b[0m \u001b[0mnp\u001b[0m\u001b[1;33m.\u001b[0m\u001b[0mmean\u001b[0m\u001b[1;33m(\u001b[0m\u001b[0msilhouette_samples\u001b[0m\u001b[1;33m(\u001b[0m\u001b[0mX\u001b[0m\u001b[1;33m,\u001b[0m \u001b[0mlabels\u001b[0m\u001b[1;33m,\u001b[0m \u001b[0mmetric\u001b[0m\u001b[1;33m=\u001b[0m\u001b[0mmetric\u001b[0m\u001b[1;33m,\u001b[0m \u001b[1;33m**\u001b[0m\u001b[0mkwds\u001b[0m\u001b[1;33m)\u001b[0m\u001b[1;33m)\u001b[0m\u001b[1;33m\u001b[0m\u001b[0m\n\u001b[0m\u001b[1;32m    101\u001b[0m \u001b[1;33m\u001b[0m\u001b[0m\n\u001b[1;32m    102\u001b[0m \u001b[1;33m\u001b[0m\u001b[0m\n",
      "\u001b[0;32mC:\\Users\\Igor\\Anaconda3\\lib\\site-packages\\sklearn\\metrics\\cluster\\unsupervised.py\u001b[0m in \u001b[0;36msilhouette_samples\u001b[0;34m(X, labels, metric, **kwds)\u001b[0m\n\u001b[1;32m    164\u001b[0m     \u001b[0mle\u001b[0m \u001b[1;33m=\u001b[0m \u001b[0mLabelEncoder\u001b[0m\u001b[1;33m(\u001b[0m\u001b[1;33m)\u001b[0m\u001b[1;33m\u001b[0m\u001b[0m\n\u001b[1;32m    165\u001b[0m     \u001b[0mlabels\u001b[0m \u001b[1;33m=\u001b[0m \u001b[0mle\u001b[0m\u001b[1;33m.\u001b[0m\u001b[0mfit_transform\u001b[0m\u001b[1;33m(\u001b[0m\u001b[0mlabels\u001b[0m\u001b[1;33m)\u001b[0m\u001b[1;33m\u001b[0m\u001b[0m\n\u001b[0;32m--> 166\u001b[0;31m     \u001b[0mcheck_number_of_labels\u001b[0m\u001b[1;33m(\u001b[0m\u001b[0mlen\u001b[0m\u001b[1;33m(\u001b[0m\u001b[0mle\u001b[0m\u001b[1;33m.\u001b[0m\u001b[0mclasses_\u001b[0m\u001b[1;33m)\u001b[0m\u001b[1;33m,\u001b[0m \u001b[0mX\u001b[0m\u001b[1;33m.\u001b[0m\u001b[0mshape\u001b[0m\u001b[1;33m[\u001b[0m\u001b[1;36m0\u001b[0m\u001b[1;33m]\u001b[0m\u001b[1;33m)\u001b[0m\u001b[1;33m\u001b[0m\u001b[0m\n\u001b[0m\u001b[1;32m    167\u001b[0m \u001b[1;33m\u001b[0m\u001b[0m\n\u001b[1;32m    168\u001b[0m     \u001b[0mdistances\u001b[0m \u001b[1;33m=\u001b[0m \u001b[0mpairwise_distances\u001b[0m\u001b[1;33m(\u001b[0m\u001b[0mX\u001b[0m\u001b[1;33m,\u001b[0m \u001b[0mmetric\u001b[0m\u001b[1;33m=\u001b[0m\u001b[0mmetric\u001b[0m\u001b[1;33m,\u001b[0m \u001b[1;33m**\u001b[0m\u001b[0mkwds\u001b[0m\u001b[1;33m)\u001b[0m\u001b[1;33m\u001b[0m\u001b[0m\n",
      "\u001b[0;32mC:\\Users\\Igor\\Anaconda3\\lib\\site-packages\\sklearn\\metrics\\cluster\\unsupervised.py\u001b[0m in \u001b[0;36mcheck_number_of_labels\u001b[0;34m(n_labels, n_samples)\u001b[0m\n\u001b[1;32m     18\u001b[0m     \u001b[1;32mif\u001b[0m \u001b[1;32mnot\u001b[0m \u001b[1;36m1\u001b[0m \u001b[1;33m<\u001b[0m \u001b[0mn_labels\u001b[0m \u001b[1;33m<\u001b[0m \u001b[0mn_samples\u001b[0m\u001b[1;33m:\u001b[0m\u001b[1;33m\u001b[0m\u001b[0m\n\u001b[1;32m     19\u001b[0m         raise ValueError(\"Number of labels is %d. Valid values are 2 \"\n\u001b[0;32m---> 20\u001b[0;31m                          \"to n_samples - 1 (inclusive)\" % n_labels)\n\u001b[0m\u001b[1;32m     21\u001b[0m \u001b[1;33m\u001b[0m\u001b[0m\n\u001b[1;32m     22\u001b[0m \u001b[1;33m\u001b[0m\u001b[0m\n",
      "\u001b[0;31mValueError\u001b[0m: Number of labels is 1. Valid values are 2 to n_samples - 1 (inclusive)"
     ]
    }
   ],
   "source": [
    "db = DBSCAN(eps=0.3, min_samples=5).fit(X)\n",
    "core_samples_mask = np.zeros_like(db.labels_, dtype=bool)\n",
    "core_samples_mask[db.core_sample_indices_] = True\n",
    "labels = db.labels_\n",
    "\n",
    "# Number of clusters in labels, ignoring noise if present.\n",
    "n_clusters_ = len(set(labels)) - (1 if -1 in labels else 0)\n",
    "\n",
    "print('Estimated number of clusters: %d' % n_clusters_)\n",
    "print(\"Homogeneity: %0.3f\" % metrics.homogeneity_score(labels_true, labels))\n",
    "print(\"Completeness: %0.3f\" % metrics.completeness_score(labels_true, labels))\n",
    "print(\"V-measure: %0.3f\" % metrics.v_measure_score(labels_true, labels))\n",
    "print(\"Adjusted Rand Index: %0.3f\"\n",
    "      % metrics.adjusted_rand_score(labels_true, labels))\n",
    "print(\"Adjusted Mutual Information: %0.3f\"\n",
    "      % metrics.adjusted_mutual_info_score(labels_true, labels))\n",
    "print(\"Silhouette Coefficient: %0.3f\"\n",
    "      % metrics.silhouette_score(X, labels))"
   ]
  },
  {
   "cell_type": "code",
   "execution_count": null,
   "metadata": {
    "collapsed": false
   },
   "outputs": [],
   "source": []
  },
  {
   "cell_type": "code",
   "execution_count": null,
   "metadata": {
    "collapsed": false
   },
   "outputs": [],
   "source": []
  },
  {
   "cell_type": "code",
   "execution_count": null,
   "metadata": {
    "collapsed": true
   },
   "outputs": [],
   "source": []
  }
 ],
 "metadata": {
  "anaconda-cloud": {},
  "kernelspec": {
   "display_name": "Python [default]",
   "language": "python",
   "name": "python3"
  },
  "language_info": {
   "codemirror_mode": {
    "name": "ipython",
    "version": 3
   },
   "file_extension": ".py",
   "mimetype": "text/x-python",
   "name": "python",
   "nbconvert_exporter": "python",
   "pygments_lexer": "ipython3",
   "version": "3.5.2"
  }
 },
 "nbformat": 4,
 "nbformat_minor": 1
}
